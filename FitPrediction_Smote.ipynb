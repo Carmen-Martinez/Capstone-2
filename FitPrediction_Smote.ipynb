{
  "nbformat": 4,
  "nbformat_minor": 0,
  "metadata": {
    "kernelspec": {
      "display_name": "Python 3",
      "language": "python",
      "name": "python3"
    },
    "language_info": {
      "codemirror_mode": {
        "name": "ipython",
        "version": 3
      },
      "file_extension": ".py",
      "mimetype": "text/x-python",
      "name": "python",
      "nbconvert_exporter": "python",
      "pygments_lexer": "ipython3",
      "version": "3.8.5"
    },
    "colab": {
      "name": "Copy of Clothes_Recommendation-Copy2.ipynb",
      "provenance": [],
      "collapsed_sections": [
        "WKZoYL4TmLmG",
        "G-7J0BUbmLmJ",
        "bscLeTeQmLmJ",
        "x_wnxWY6mLmL",
        "rRvFzkmDmLmO",
        "CPhlAMOGmLmQ",
        "NEhxToWDmLmd",
        "FURCLJakmLmi",
        "BJ03qr-8mLmj",
        "g6Q19h3omLmk"
      ]
    }
  },
  "cells": [
    {
      "cell_type": "markdown",
      "metadata": {
        "id": "eDvHER6SmLl2"
      },
      "source": [
        "BibTeX:\n",
        "@inproceedings{misra2018decomposing,\n",
        "  title={Decomposing fit semantics for product size recommendation in metric spaces},\n",
        "  author={Misra, Rishabh and Wan, Mengting and McAuley, Julian},\n",
        "  booktitle={Proceedings of the 12th ACM Conference on Recommender Systems},\n",
        "  pages={422--426},\n",
        "  year={2018},\n",
        "  organization={ACM}\n",
        "}\n",
        "\n",
        "@book{book,\n",
        "author = {Misra, Rishabh and Grover, Jigyasa},\n",
        "year = {2021},\n",
        "month = {01},\n",
        "pages = {},\n",
        "title = {Sculpting Data for ML: The first act of Machine Learning},\n",
        "isbn = {978-0-578-83125-1}\n",
        "}\n",
        "\n",
        "rishabhmisra.github.io/publications \n",
        "\n",
        "\n",
        "Where I retrieved the data?\n",
        "https://www.kaggle.com/rmisra/clothing-fit-dataset-for-size-recommendation/home"
      ]
    },
    {
      "cell_type": "code",
      "metadata": {
        "id": "iTCj0dKnmLl6"
      },
      "source": [
        "#imports for data analysis\n",
        "import pandas as pd\n",
        "import numpy as np\n",
        "import matplotlib.pyplot as plt\n",
        "import seaborn as sns\n",
        "\n",
        "import warnings\n",
        "warnings.filterwarnings(\"ignore\")"
      ],
      "execution_count": 197,
      "outputs": []
    },
    {
      "cell_type": "code",
      "metadata": {
        "id": "UL5bofJBmLl8"
      },
      "source": [
        "#read json dataset\n",
        "clothes_df = pd.read_json('renttherunway_final_data.json', lines=True)"
      ],
      "execution_count": 198,
      "outputs": []
    },
    {
      "cell_type": "code",
      "metadata": {
        "id": "2h2EB2ZvmLl8"
      },
      "source": [
        "#remove any unwanted variables\n",
        "clothes_df.drop(columns=['review_date', 'item_id', 'user_id', 'review_text', 'review_summary', 'rented for'], axis=1, inplace=True)\n",
        "clothes_df = clothes_df[(clothes_df['category'] == 'dress')]\n",
        "clothes_df.drop(columns='category', axis=1, inplace=True)"
      ],
      "execution_count": 199,
      "outputs": []
    },
    {
      "cell_type": "code",
      "metadata": {
        "colab": {
          "base_uri": "https://localhost:8080/",
          "height": 204
        },
        "id": "QQJzy7vFmLl-",
        "outputId": "cf397aa5-053f-4870-dd03-0c459ba58478"
      },
      "source": [
        "clothes_df.reset_index().head()"
      ],
      "execution_count": 200,
      "outputs": [
        {
          "output_type": "execute_result",
          "data": {
            "text/html": [
              "<div>\n",
              "<style scoped>\n",
              "    .dataframe tbody tr th:only-of-type {\n",
              "        vertical-align: middle;\n",
              "    }\n",
              "\n",
              "    .dataframe tbody tr th {\n",
              "        vertical-align: top;\n",
              "    }\n",
              "\n",
              "    .dataframe thead th {\n",
              "        text-align: right;\n",
              "    }\n",
              "</style>\n",
              "<table border=\"1\" class=\"dataframe\">\n",
              "  <thead>\n",
              "    <tr style=\"text-align: right;\">\n",
              "      <th></th>\n",
              "      <th>index</th>\n",
              "      <th>fit</th>\n",
              "      <th>bust size</th>\n",
              "      <th>weight</th>\n",
              "      <th>rating</th>\n",
              "      <th>body type</th>\n",
              "      <th>height</th>\n",
              "      <th>size</th>\n",
              "      <th>age</th>\n",
              "    </tr>\n",
              "  </thead>\n",
              "  <tbody>\n",
              "    <tr>\n",
              "      <th>0</th>\n",
              "      <td>3</td>\n",
              "      <td>fit</td>\n",
              "      <td>34c</td>\n",
              "      <td>135lbs</td>\n",
              "      <td>8.0</td>\n",
              "      <td>pear</td>\n",
              "      <td>5' 5\"</td>\n",
              "      <td>8</td>\n",
              "      <td>34.0</td>\n",
              "    </tr>\n",
              "    <tr>\n",
              "      <th>1</th>\n",
              "      <td>5</td>\n",
              "      <td>fit</td>\n",
              "      <td>32b</td>\n",
              "      <td>138lbs</td>\n",
              "      <td>8.0</td>\n",
              "      <td>athletic</td>\n",
              "      <td>5' 8\"</td>\n",
              "      <td>8</td>\n",
              "      <td>45.0</td>\n",
              "    </tr>\n",
              "    <tr>\n",
              "      <th>2</th>\n",
              "      <td>6</td>\n",
              "      <td>fit</td>\n",
              "      <td>34c</td>\n",
              "      <td>112lbs</td>\n",
              "      <td>10.0</td>\n",
              "      <td>hourglass</td>\n",
              "      <td>5' 3\"</td>\n",
              "      <td>4</td>\n",
              "      <td>27.0</td>\n",
              "    </tr>\n",
              "    <tr>\n",
              "      <th>3</th>\n",
              "      <td>7</td>\n",
              "      <td>fit</td>\n",
              "      <td>34d+</td>\n",
              "      <td>118lbs</td>\n",
              "      <td>10.0</td>\n",
              "      <td>full bust</td>\n",
              "      <td>5' 3\"</td>\n",
              "      <td>8</td>\n",
              "      <td>65.0</td>\n",
              "    </tr>\n",
              "    <tr>\n",
              "      <th>4</th>\n",
              "      <td>10</td>\n",
              "      <td>small</td>\n",
              "      <td>34b</td>\n",
              "      <td>135lbs</td>\n",
              "      <td>8.0</td>\n",
              "      <td>athletic</td>\n",
              "      <td>5' 3\"</td>\n",
              "      <td>12</td>\n",
              "      <td>33.0</td>\n",
              "    </tr>\n",
              "  </tbody>\n",
              "</table>\n",
              "</div>"
            ],
            "text/plain": [
              "   index    fit bust size  weight  rating  body type height  size   age\n",
              "0      3    fit       34c  135lbs     8.0       pear  5' 5\"     8  34.0\n",
              "1      5    fit       32b  138lbs     8.0   athletic  5' 8\"     8  45.0\n",
              "2      6    fit       34c  112lbs    10.0  hourglass  5' 3\"     4  27.0\n",
              "3      7    fit      34d+  118lbs    10.0  full bust  5' 3\"     8  65.0\n",
              "4     10  small       34b  135lbs     8.0   athletic  5' 3\"    12  33.0"
            ]
          },
          "metadata": {
            "tags": []
          },
          "execution_count": 200
        }
      ]
    },
    {
      "cell_type": "code",
      "metadata": {
        "colab": {
          "base_uri": "https://localhost:8080/"
        },
        "id": "aF64B_NHmLmA",
        "outputId": "bdfd2faf-9eec-4493-f5d9-f701bf050df6"
      },
      "source": [
        "#analyzing 'fit' (target) variable\n",
        "clothes_df['fit'].value_counts()"
      ],
      "execution_count": 201,
      "outputs": [
        {
          "output_type": "execute_result",
          "data": {
            "text/plain": [
              "fit      66567\n",
              "small    13686\n",
              "large    12631\n",
              "Name: fit, dtype: int64"
            ]
          },
          "metadata": {
            "tags": []
          },
          "execution_count": 201
        }
      ]
    },
    {
      "cell_type": "code",
      "metadata": {
        "id": "3kFfEfNRmLmB"
      },
      "source": [
        "#making my target variable into a binary class\n",
        "clothes_df['fitting'] = clothes_df['fit'].replace({'fit': 'fit', 'small': 'not fit', 'large': 'not fit'})\n",
        "clothes_df.drop(columns='fit', axis=1, inplace=True)"
      ],
      "execution_count": 202,
      "outputs": []
    },
    {
      "cell_type": "code",
      "metadata": {
        "colab": {
          "base_uri": "https://localhost:8080/"
        },
        "id": "OqcLnsELmLmB",
        "outputId": "05d3bd40-1968-4b87-fb60-3f6726c18bee"
      },
      "source": [
        "clothes_df['fitting'].value_counts()"
      ],
      "execution_count": 203,
      "outputs": [
        {
          "output_type": "execute_result",
          "data": {
            "text/plain": [
              "fit        66567\n",
              "not fit    26317\n",
              "Name: fitting, dtype: int64"
            ]
          },
          "metadata": {
            "tags": []
          },
          "execution_count": 203
        }
      ]
    },
    {
      "cell_type": "code",
      "metadata": {
        "colab": {
          "base_uri": "https://localhost:8080/"
        },
        "id": "b0741seNmLmC",
        "outputId": "a8072c2d-649c-44e9-976b-e28feee48273"
      },
      "source": [
        "#checking for null values\n",
        "print('Missing values for each variable \\n')\n",
        "for i in clothes_df.columns:\n",
        "    missing = clothes_df[i].isnull().sum()*100/clothes_df[i].isnull().count()\n",
        "    print(f'{i}: {missing}%')"
      ],
      "execution_count": 204,
      "outputs": [
        {
          "output_type": "stream",
          "text": [
            "Missing values for each variable \n",
            "\n",
            "bust size: 9.570001291934025%\n",
            "weight: 15.652857327419147%\n",
            "rating: 0.036604797381680376%\n",
            "body type: 7.668705051462038%\n",
            "height: 0.3369794582489988%\n",
            "size: 0.0%\n",
            "age: 0.4284914517031997%\n",
            "fitting: 0.0%\n"
          ],
          "name": "stdout"
        }
      ]
    },
    {
      "cell_type": "code",
      "metadata": {
        "scrolled": true,
        "colab": {
          "base_uri": "https://localhost:8080/"
        },
        "id": "NkWgWI_7mLmC",
        "outputId": "40f8b5e0-005b-4f2e-c6ae-9d772dfa7683"
      },
      "source": [
        "#unique values for each variable\n",
        "for i in clothes_df.columns:\n",
        "    print(i)\n",
        "    print(clothes_df[i].unique())\n",
        "    print('\\n')"
      ],
      "execution_count": 205,
      "outputs": [
        {
          "output_type": "stream",
          "text": [
            "bust size\n",
            "['34c' '32b' '34d+' '34b' '36d' '34d' '32d+' '32c' '32dd' '32d' '36b'\n",
            " '36c' '32a' nan '34ddd/e' '38d+' '36a' '38d' '34a' '38dd' '36ddd/e'\n",
            " '42dd' '36dd' '28f' '38c' '36d+' '34dd' '40d' '38a' '32ddd/e' '42d'\n",
            " '34aa' '32aa' '38b' '28c' '36f' '34g' '32f' '40c' '30d' '28g' '30dd'\n",
            " '36g' '38f' '30a' '30ddd/e' '44dd' '30g' '38h' '34j' '34f' '38ddd/e'\n",
            " '32g' '40ddd/e' '32h' '30c' '44d' '38g' '40g' '28b' '34h' '28a' '30b'\n",
            " '40f' '28dd' '36h' '28ddd/e' '30f' '40dd' '44ddd/e' '30i' '32j' '36j'\n",
            " '40h' '40b' '36aa' '48d' '38i' '30h' '32i' '42ddd/e' '42c' '28aa' '28d'\n",
            " '36i' '42b' '46ddd/e' '44c' '42f' '38aa' '44f' '30aa' '46f' '42g' '34i'\n",
            " '44b' '44g' '48dd' '46c' '40i']\n",
            "\n",
            "\n",
            "weight\n",
            "['135lbs' '138lbs' '112lbs' '118lbs' '142lbs' '170lbs' '143lbs' '115lbs'\n",
            " '145lbs' '140lbs' '120lbs' nan '130lbs' '155lbs' '150lbs' '136lbs'\n",
            " '174lbs' '125lbs' '110lbs' '128lbs' '160lbs' '250lbs' '231lbs' '175lbs'\n",
            " '126lbs' '210lbs' '165lbs' '215lbs' '180lbs' '163lbs' '106lbs' '178lbs'\n",
            " '108lbs' '92lbs' '132lbs' '117lbs' '146lbs' '103lbs' '116lbs' '185lbs'\n",
            " '105lbs' '111lbs' '152lbs' '107lbs' '123lbs' '154lbs' '153lbs' '133lbs'\n",
            " '137lbs' '131lbs' '156lbs' '190lbs' '122lbs' '186lbs' '100lbs' '113lbs'\n",
            " '114lbs' '144lbs' '134lbs' '139lbs' '148lbs' '129lbs' '124lbs' '158lbs'\n",
            " '195lbs' '184lbs' '102lbs' '168lbs' '147lbs' '98lbs' '127lbs' '200lbs'\n",
            " '225lbs' '204lbs' '89lbs' '159lbs' '121lbs' '149lbs' '161lbs' '230lbs'\n",
            " '198lbs' '169lbs' '260lbs' '119lbs' '157lbs' '95lbs' '179lbs' '173lbs'\n",
            " '220lbs' '151lbs' '162lbs' '109lbs' '255lbs' '141lbs' '166lbs' '182lbs'\n",
            " '199lbs' '240lbs' '172lbs' '193lbs' '192lbs' '189lbs' '104lbs' '245lbs'\n",
            " '164lbs' '96lbs' '216lbs' '235lbs' '90lbs' '167lbs' '265lbs' '276lbs'\n",
            " '219lbs' '171lbs' '212lbs' '211lbs' '101lbs' '280lbs' '208lbs' '285lbs'\n",
            " '97lbs' '187lbs' '203lbs' '87lbs' '93lbs' '205lbs' '214lbs' '209lbs'\n",
            " '196lbs' '188lbs' '273lbs' '177lbs' '206lbs' '197lbs' '217lbs' '176lbs'\n",
            " '246lbs' '202lbs' '50lbs' '207lbs' '94lbs' '99lbs' '183lbs' '233lbs'\n",
            " '218lbs' '232lbs' '275lbs' '290lbs' '194lbs' '222lbs' '223lbs' '248lbs'\n",
            " '229lbs' '224lbs' '181lbs' '238lbs' '264lbs' '228lbs' '300lbs' '270lbs'\n",
            " '226lbs' '242lbs' '263lbs' '256lbs' '79lbs' '85lbs' '201lbs' '91lbs'\n",
            " '241lbs' '247lbs' '221lbs' '227lbs' '88lbs' '288lbs']\n",
            "\n",
            "\n",
            "rating\n",
            "[ 8. 10.  4.  6.  2. nan]\n",
            "\n",
            "\n",
            "body type\n",
            "['pear' 'athletic' 'hourglass' 'full bust' 'apple' 'petite' nan\n",
            " 'straight & narrow']\n",
            "\n",
            "\n",
            "height\n",
            "['5\\' 5\"' '5\\' 8\"' '5\\' 3\"' '5\\' 6\"' '5\\' 2\"' '5\\' 9\"' '5\\' 1\"' '5\\' 4\"'\n",
            " '5\\' 7\"' '5\\' 10\"' '4\\' 10\"' '6\\' 1\"' '5\\' 11\"' nan '5\\' 0\"' '4\\' 11\"'\n",
            " '6\\' 0\"' '6\\' 2\"' '4\\' 9\"' '4\\' 6\"' '4\\' 8\"' '6\\' 4\"' '4\\' 7\"' '6\\' 3\"']\n",
            "\n",
            "\n",
            "size\n",
            "[ 8  4 12 20  1 14 28 35 16 51 48 24 45 32  7 39 17 26 21 57 13  5  3 42\n",
            "  2  0 11 54  9 15 29 25 46 19 50 34 23]\n",
            "\n",
            "\n",
            "age\n",
            "[ 34.  45.  27.  65.  33.  30.  29.  35.  26.  28.  21.  20.  32.  53.\n",
            "  31.  38.  36.  37.  24.  25.  48.  40.  23.  44.  17.  43.  50.  39.\n",
            "  42.  41.  56.  52.  54.  59.  46.  47.  55.  49.  57.  nan  22.  60.\n",
            "  19.  58.  15.  62.  51.  70.  16.   0.  69.  66.  18.  64.  63.  87.\n",
            "  68.  67.  61.   3. 117. 116.   2.  73.  91.  92.   1. 106.  14.  75.\n",
            "   8.  72.  71.  74.  76.   4.   5. 109.  78.]\n",
            "\n",
            "\n",
            "fitting\n",
            "['fit' 'not fit']\n",
            "\n",
            "\n"
          ],
          "name": "stdout"
        }
      ]
    },
    {
      "cell_type": "code",
      "metadata": {
        "colab": {
          "base_uri": "https://localhost:8080/",
          "height": 204
        },
        "id": "sQTdY67emLmD",
        "outputId": "31f49a33-b0c8-4126-b851-d4456c1614b0"
      },
      "source": [
        "clothes_df.head()"
      ],
      "execution_count": 206,
      "outputs": [
        {
          "output_type": "execute_result",
          "data": {
            "text/html": [
              "<div>\n",
              "<style scoped>\n",
              "    .dataframe tbody tr th:only-of-type {\n",
              "        vertical-align: middle;\n",
              "    }\n",
              "\n",
              "    .dataframe tbody tr th {\n",
              "        vertical-align: top;\n",
              "    }\n",
              "\n",
              "    .dataframe thead th {\n",
              "        text-align: right;\n",
              "    }\n",
              "</style>\n",
              "<table border=\"1\" class=\"dataframe\">\n",
              "  <thead>\n",
              "    <tr style=\"text-align: right;\">\n",
              "      <th></th>\n",
              "      <th>bust size</th>\n",
              "      <th>weight</th>\n",
              "      <th>rating</th>\n",
              "      <th>body type</th>\n",
              "      <th>height</th>\n",
              "      <th>size</th>\n",
              "      <th>age</th>\n",
              "      <th>fitting</th>\n",
              "    </tr>\n",
              "  </thead>\n",
              "  <tbody>\n",
              "    <tr>\n",
              "      <th>3</th>\n",
              "      <td>34c</td>\n",
              "      <td>135lbs</td>\n",
              "      <td>8.0</td>\n",
              "      <td>pear</td>\n",
              "      <td>5' 5\"</td>\n",
              "      <td>8</td>\n",
              "      <td>34.0</td>\n",
              "      <td>fit</td>\n",
              "    </tr>\n",
              "    <tr>\n",
              "      <th>5</th>\n",
              "      <td>32b</td>\n",
              "      <td>138lbs</td>\n",
              "      <td>8.0</td>\n",
              "      <td>athletic</td>\n",
              "      <td>5' 8\"</td>\n",
              "      <td>8</td>\n",
              "      <td>45.0</td>\n",
              "      <td>fit</td>\n",
              "    </tr>\n",
              "    <tr>\n",
              "      <th>6</th>\n",
              "      <td>34c</td>\n",
              "      <td>112lbs</td>\n",
              "      <td>10.0</td>\n",
              "      <td>hourglass</td>\n",
              "      <td>5' 3\"</td>\n",
              "      <td>4</td>\n",
              "      <td>27.0</td>\n",
              "      <td>fit</td>\n",
              "    </tr>\n",
              "    <tr>\n",
              "      <th>7</th>\n",
              "      <td>34d+</td>\n",
              "      <td>118lbs</td>\n",
              "      <td>10.0</td>\n",
              "      <td>full bust</td>\n",
              "      <td>5' 3\"</td>\n",
              "      <td>8</td>\n",
              "      <td>65.0</td>\n",
              "      <td>fit</td>\n",
              "    </tr>\n",
              "    <tr>\n",
              "      <th>10</th>\n",
              "      <td>34b</td>\n",
              "      <td>135lbs</td>\n",
              "      <td>8.0</td>\n",
              "      <td>athletic</td>\n",
              "      <td>5' 3\"</td>\n",
              "      <td>12</td>\n",
              "      <td>33.0</td>\n",
              "      <td>not fit</td>\n",
              "    </tr>\n",
              "  </tbody>\n",
              "</table>\n",
              "</div>"
            ],
            "text/plain": [
              "   bust size  weight  rating  body type height  size   age  fitting\n",
              "3        34c  135lbs     8.0       pear  5' 5\"     8  34.0      fit\n",
              "5        32b  138lbs     8.0   athletic  5' 8\"     8  45.0      fit\n",
              "6        34c  112lbs    10.0  hourglass  5' 3\"     4  27.0      fit\n",
              "7       34d+  118lbs    10.0  full bust  5' 3\"     8  65.0      fit\n",
              "10       34b  135lbs     8.0   athletic  5' 3\"    12  33.0  not fit"
            ]
          },
          "metadata": {
            "tags": []
          },
          "execution_count": 206
        }
      ]
    },
    {
      "cell_type": "code",
      "metadata": {
        "scrolled": true,
        "colab": {
          "base_uri": "https://localhost:8080/"
        },
        "id": "Gd-O0objmLmD",
        "outputId": "dfbc7afa-f67b-476f-f1cc-c93832723e4c"
      },
      "source": [
        "# categorical variables value counts \n",
        "for i in clothes_df.select_dtypes(include=['O']):\n",
        "    print(i)\n",
        "    print(clothes_df[i].value_counts())\n",
        "    print('\\n')"
      ],
      "execution_count": 207,
      "outputs": [
        {
          "output_type": "stream",
          "text": [
            "bust size\n",
            "34b        12968\n",
            "34c        11230\n",
            "34d         8843\n",
            "36c         6513\n",
            "36d         5481\n",
            "           ...  \n",
            "46c            1\n",
            "46ddd/e        1\n",
            "46f            1\n",
            "40i            1\n",
            "44g            1\n",
            "Name: bust size, Length: 99, dtype: int64\n",
            "\n",
            "\n",
            "weight\n",
            "130lbs    6855\n",
            "135lbs    6541\n",
            "125lbs    6308\n",
            "140lbs    6036\n",
            "120lbs    5078\n",
            "          ... \n",
            "264lbs       1\n",
            "88lbs        1\n",
            "247lbs       1\n",
            "241lbs       1\n",
            "91lbs        1\n",
            "Name: weight, Length: 173, dtype: int64\n",
            "\n",
            "\n",
            "body type\n",
            "hourglass            26714\n",
            "athletic             20606\n",
            "pear                 11059\n",
            "petite               10939\n",
            "full bust             7348\n",
            "straight & narrow     6678\n",
            "apple                 2417\n",
            "Name: body type, dtype: int64\n",
            "\n",
            "\n",
            "height\n",
            "5' 4\"     13591\n",
            "5' 6\"     12164\n",
            "5' 5\"     11803\n",
            "5' 7\"     11310\n",
            "5' 3\"     10333\n",
            "5' 2\"      8447\n",
            "5' 8\"      7647\n",
            "5' 9\"      5329\n",
            "5' 1\"      3693\n",
            "5' 10\"     3126\n",
            "5' 0\"      2038\n",
            "5' 11\"     1451\n",
            "6' 0\"       642\n",
            "4' 11\"      544\n",
            "6' 1\"       191\n",
            "4' 10\"      114\n",
            "6' 2\"        61\n",
            "4' 9\"        39\n",
            "6' 3\"        14\n",
            "4' 7\"        12\n",
            "4' 6\"         8\n",
            "4' 8\"         7\n",
            "6' 4\"         7\n",
            "Name: height, dtype: int64\n",
            "\n",
            "\n",
            "fitting\n",
            "fit        66567\n",
            "not fit    26317\n",
            "Name: fitting, dtype: int64\n",
            "\n",
            "\n"
          ],
          "name": "stdout"
        }
      ]
    },
    {
      "cell_type": "markdown",
      "metadata": {
        "id": "VceciJeYmLmE"
      },
      "source": [
        "### Removing 'lbs' and converting the 'weight' variable into numeric"
      ]
    },
    {
      "cell_type": "code",
      "metadata": {
        "colab": {
          "base_uri": "https://localhost:8080/",
          "height": 204
        },
        "id": "n1HhqsHQmLmE",
        "outputId": "6e679d5e-674f-43a3-9d25-1b0e28fc954a"
      },
      "source": [
        "#convert height to inches\n",
        "#remove lbs from weight\n",
        "clothes_df['weight'] = clothes_df['weight'].astype(str).apply(lambda x: x.replace('nan', '0lbs').split('l')[0]).astype(int)\n",
        "clothes_df.head()"
      ],
      "execution_count": 208,
      "outputs": [
        {
          "output_type": "execute_result",
          "data": {
            "text/html": [
              "<div>\n",
              "<style scoped>\n",
              "    .dataframe tbody tr th:only-of-type {\n",
              "        vertical-align: middle;\n",
              "    }\n",
              "\n",
              "    .dataframe tbody tr th {\n",
              "        vertical-align: top;\n",
              "    }\n",
              "\n",
              "    .dataframe thead th {\n",
              "        text-align: right;\n",
              "    }\n",
              "</style>\n",
              "<table border=\"1\" class=\"dataframe\">\n",
              "  <thead>\n",
              "    <tr style=\"text-align: right;\">\n",
              "      <th></th>\n",
              "      <th>bust size</th>\n",
              "      <th>weight</th>\n",
              "      <th>rating</th>\n",
              "      <th>body type</th>\n",
              "      <th>height</th>\n",
              "      <th>size</th>\n",
              "      <th>age</th>\n",
              "      <th>fitting</th>\n",
              "    </tr>\n",
              "  </thead>\n",
              "  <tbody>\n",
              "    <tr>\n",
              "      <th>3</th>\n",
              "      <td>34c</td>\n",
              "      <td>135</td>\n",
              "      <td>8.0</td>\n",
              "      <td>pear</td>\n",
              "      <td>5' 5\"</td>\n",
              "      <td>8</td>\n",
              "      <td>34.0</td>\n",
              "      <td>fit</td>\n",
              "    </tr>\n",
              "    <tr>\n",
              "      <th>5</th>\n",
              "      <td>32b</td>\n",
              "      <td>138</td>\n",
              "      <td>8.0</td>\n",
              "      <td>athletic</td>\n",
              "      <td>5' 8\"</td>\n",
              "      <td>8</td>\n",
              "      <td>45.0</td>\n",
              "      <td>fit</td>\n",
              "    </tr>\n",
              "    <tr>\n",
              "      <th>6</th>\n",
              "      <td>34c</td>\n",
              "      <td>112</td>\n",
              "      <td>10.0</td>\n",
              "      <td>hourglass</td>\n",
              "      <td>5' 3\"</td>\n",
              "      <td>4</td>\n",
              "      <td>27.0</td>\n",
              "      <td>fit</td>\n",
              "    </tr>\n",
              "    <tr>\n",
              "      <th>7</th>\n",
              "      <td>34d+</td>\n",
              "      <td>118</td>\n",
              "      <td>10.0</td>\n",
              "      <td>full bust</td>\n",
              "      <td>5' 3\"</td>\n",
              "      <td>8</td>\n",
              "      <td>65.0</td>\n",
              "      <td>fit</td>\n",
              "    </tr>\n",
              "    <tr>\n",
              "      <th>10</th>\n",
              "      <td>34b</td>\n",
              "      <td>135</td>\n",
              "      <td>8.0</td>\n",
              "      <td>athletic</td>\n",
              "      <td>5' 3\"</td>\n",
              "      <td>12</td>\n",
              "      <td>33.0</td>\n",
              "      <td>not fit</td>\n",
              "    </tr>\n",
              "  </tbody>\n",
              "</table>\n",
              "</div>"
            ],
            "text/plain": [
              "   bust size  weight  rating  body type height  size   age  fitting\n",
              "3        34c     135     8.0       pear  5' 5\"     8  34.0      fit\n",
              "5        32b     138     8.0   athletic  5' 8\"     8  45.0      fit\n",
              "6        34c     112    10.0  hourglass  5' 3\"     4  27.0      fit\n",
              "7       34d+     118    10.0  full bust  5' 3\"     8  65.0      fit\n",
              "10       34b     135     8.0   athletic  5' 3\"    12  33.0  not fit"
            ]
          },
          "metadata": {
            "tags": []
          },
          "execution_count": 208
        }
      ]
    },
    {
      "cell_type": "code",
      "metadata": {
        "id": "EbbWLdhVmLmE"
      },
      "source": [
        "#clothes_df['weight'].apply(lambda x: x.split('l'))"
      ],
      "execution_count": 209,
      "outputs": []
    },
    {
      "cell_type": "code",
      "metadata": {
        "id": "p9Gh8z3ImLmF"
      },
      "source": [
        "# Dropping null values\n",
        "clothes_df['weight'].replace(0, round(clothes_df['weight'].mean()), inplace=True)"
      ],
      "execution_count": 210,
      "outputs": []
    },
    {
      "cell_type": "code",
      "metadata": {
        "id": "1IlRV6x9mLmF"
      },
      "source": [
        " clothes_df.dropna(inplace=True)"
      ],
      "execution_count": 211,
      "outputs": []
    },
    {
      "cell_type": "code",
      "metadata": {
        "id": "15exKZlLmLmF"
      },
      "source": [
        "#nan values in:\n",
        "#'age', 'height', 'rented for', 'rating', 'bust size'\n",
        "\n",
        "for i in clothes_df[['age', 'height', 'rating', 'bust size']]:\n",
        "    clothes_df = clothes_df.drop(clothes_df[clothes_df[i] == 'nan'].index)"
      ],
      "execution_count": 212,
      "outputs": []
    },
    {
      "cell_type": "markdown",
      "metadata": {
        "id": "WKZoYL4TmLmG"
      },
      "source": [
        "### Converting the 'height' variable into centimeters for better usability"
      ]
    },
    {
      "cell_type": "code",
      "metadata": {
        "colab": {
          "base_uri": "https://localhost:8080/",
          "height": 0
        },
        "id": "jAY7AG98mLmG",
        "outputId": "2b821e7b-7717-466b-84b5-2a580fc6041d"
      },
      "source": [
        "clothes_df['height'] = clothes_df['height'].apply(lambda x: x.replace('\\\"','').split('\\''))\n",
        "clothes_df.head()"
      ],
      "execution_count": 213,
      "outputs": [
        {
          "output_type": "execute_result",
          "data": {
            "text/html": [
              "<div>\n",
              "<style scoped>\n",
              "    .dataframe tbody tr th:only-of-type {\n",
              "        vertical-align: middle;\n",
              "    }\n",
              "\n",
              "    .dataframe tbody tr th {\n",
              "        vertical-align: top;\n",
              "    }\n",
              "\n",
              "    .dataframe thead th {\n",
              "        text-align: right;\n",
              "    }\n",
              "</style>\n",
              "<table border=\"1\" class=\"dataframe\">\n",
              "  <thead>\n",
              "    <tr style=\"text-align: right;\">\n",
              "      <th></th>\n",
              "      <th>bust size</th>\n",
              "      <th>weight</th>\n",
              "      <th>rating</th>\n",
              "      <th>body type</th>\n",
              "      <th>height</th>\n",
              "      <th>size</th>\n",
              "      <th>age</th>\n",
              "      <th>fitting</th>\n",
              "    </tr>\n",
              "  </thead>\n",
              "  <tbody>\n",
              "    <tr>\n",
              "      <th>3</th>\n",
              "      <td>34c</td>\n",
              "      <td>135</td>\n",
              "      <td>8.0</td>\n",
              "      <td>pear</td>\n",
              "      <td>[5,  5]</td>\n",
              "      <td>8</td>\n",
              "      <td>34.0</td>\n",
              "      <td>fit</td>\n",
              "    </tr>\n",
              "    <tr>\n",
              "      <th>5</th>\n",
              "      <td>32b</td>\n",
              "      <td>138</td>\n",
              "      <td>8.0</td>\n",
              "      <td>athletic</td>\n",
              "      <td>[5,  8]</td>\n",
              "      <td>8</td>\n",
              "      <td>45.0</td>\n",
              "      <td>fit</td>\n",
              "    </tr>\n",
              "    <tr>\n",
              "      <th>6</th>\n",
              "      <td>34c</td>\n",
              "      <td>112</td>\n",
              "      <td>10.0</td>\n",
              "      <td>hourglass</td>\n",
              "      <td>[5,  3]</td>\n",
              "      <td>4</td>\n",
              "      <td>27.0</td>\n",
              "      <td>fit</td>\n",
              "    </tr>\n",
              "    <tr>\n",
              "      <th>7</th>\n",
              "      <td>34d+</td>\n",
              "      <td>118</td>\n",
              "      <td>10.0</td>\n",
              "      <td>full bust</td>\n",
              "      <td>[5,  3]</td>\n",
              "      <td>8</td>\n",
              "      <td>65.0</td>\n",
              "      <td>fit</td>\n",
              "    </tr>\n",
              "    <tr>\n",
              "      <th>10</th>\n",
              "      <td>34b</td>\n",
              "      <td>135</td>\n",
              "      <td>8.0</td>\n",
              "      <td>athletic</td>\n",
              "      <td>[5,  3]</td>\n",
              "      <td>12</td>\n",
              "      <td>33.0</td>\n",
              "      <td>not fit</td>\n",
              "    </tr>\n",
              "  </tbody>\n",
              "</table>\n",
              "</div>"
            ],
            "text/plain": [
              "   bust size  weight  rating  body type   height  size   age  fitting\n",
              "3        34c     135     8.0       pear  [5,  5]     8  34.0      fit\n",
              "5        32b     138     8.0   athletic  [5,  8]     8  45.0      fit\n",
              "6        34c     112    10.0  hourglass  [5,  3]     4  27.0      fit\n",
              "7       34d+     118    10.0  full bust  [5,  3]     8  65.0      fit\n",
              "10       34b     135     8.0   athletic  [5,  3]    12  33.0  not fit"
            ]
          },
          "metadata": {
            "tags": []
          },
          "execution_count": 213
        }
      ]
    },
    {
      "cell_type": "code",
      "metadata": {
        "id": "gUQrpLysmLmG"
      },
      "source": [
        "clothes_df['feet'] = clothes_df['height'].apply(lambda x: float(x[0]) * 30.48)\n",
        "clothes_df['inches'] = clothes_df['height'].apply(lambda x: float(x[1]) * 2.54)"
      ],
      "execution_count": 214,
      "outputs": []
    },
    {
      "cell_type": "code",
      "metadata": {
        "colab": {
          "base_uri": "https://localhost:8080/",
          "height": 0
        },
        "id": "j0s3x8GQmLmH",
        "outputId": "0f5f7ed6-cf1f-4e2d-b44d-232975803180"
      },
      "source": [
        "clothes_df.head()"
      ],
      "execution_count": 215,
      "outputs": [
        {
          "output_type": "execute_result",
          "data": {
            "text/html": [
              "<div>\n",
              "<style scoped>\n",
              "    .dataframe tbody tr th:only-of-type {\n",
              "        vertical-align: middle;\n",
              "    }\n",
              "\n",
              "    .dataframe tbody tr th {\n",
              "        vertical-align: top;\n",
              "    }\n",
              "\n",
              "    .dataframe thead th {\n",
              "        text-align: right;\n",
              "    }\n",
              "</style>\n",
              "<table border=\"1\" class=\"dataframe\">\n",
              "  <thead>\n",
              "    <tr style=\"text-align: right;\">\n",
              "      <th></th>\n",
              "      <th>bust size</th>\n",
              "      <th>weight</th>\n",
              "      <th>rating</th>\n",
              "      <th>body type</th>\n",
              "      <th>height</th>\n",
              "      <th>size</th>\n",
              "      <th>age</th>\n",
              "      <th>fitting</th>\n",
              "      <th>feet</th>\n",
              "      <th>inches</th>\n",
              "    </tr>\n",
              "  </thead>\n",
              "  <tbody>\n",
              "    <tr>\n",
              "      <th>3</th>\n",
              "      <td>34c</td>\n",
              "      <td>135</td>\n",
              "      <td>8.0</td>\n",
              "      <td>pear</td>\n",
              "      <td>[5,  5]</td>\n",
              "      <td>8</td>\n",
              "      <td>34.0</td>\n",
              "      <td>fit</td>\n",
              "      <td>152.4</td>\n",
              "      <td>12.70</td>\n",
              "    </tr>\n",
              "    <tr>\n",
              "      <th>5</th>\n",
              "      <td>32b</td>\n",
              "      <td>138</td>\n",
              "      <td>8.0</td>\n",
              "      <td>athletic</td>\n",
              "      <td>[5,  8]</td>\n",
              "      <td>8</td>\n",
              "      <td>45.0</td>\n",
              "      <td>fit</td>\n",
              "      <td>152.4</td>\n",
              "      <td>20.32</td>\n",
              "    </tr>\n",
              "    <tr>\n",
              "      <th>6</th>\n",
              "      <td>34c</td>\n",
              "      <td>112</td>\n",
              "      <td>10.0</td>\n",
              "      <td>hourglass</td>\n",
              "      <td>[5,  3]</td>\n",
              "      <td>4</td>\n",
              "      <td>27.0</td>\n",
              "      <td>fit</td>\n",
              "      <td>152.4</td>\n",
              "      <td>7.62</td>\n",
              "    </tr>\n",
              "    <tr>\n",
              "      <th>7</th>\n",
              "      <td>34d+</td>\n",
              "      <td>118</td>\n",
              "      <td>10.0</td>\n",
              "      <td>full bust</td>\n",
              "      <td>[5,  3]</td>\n",
              "      <td>8</td>\n",
              "      <td>65.0</td>\n",
              "      <td>fit</td>\n",
              "      <td>152.4</td>\n",
              "      <td>7.62</td>\n",
              "    </tr>\n",
              "    <tr>\n",
              "      <th>10</th>\n",
              "      <td>34b</td>\n",
              "      <td>135</td>\n",
              "      <td>8.0</td>\n",
              "      <td>athletic</td>\n",
              "      <td>[5,  3]</td>\n",
              "      <td>12</td>\n",
              "      <td>33.0</td>\n",
              "      <td>not fit</td>\n",
              "      <td>152.4</td>\n",
              "      <td>7.62</td>\n",
              "    </tr>\n",
              "  </tbody>\n",
              "</table>\n",
              "</div>"
            ],
            "text/plain": [
              "   bust size  weight  rating  body type  ...   age  fitting   feet inches\n",
              "3        34c     135     8.0       pear  ...  34.0      fit  152.4  12.70\n",
              "5        32b     138     8.0   athletic  ...  45.0      fit  152.4  20.32\n",
              "6        34c     112    10.0  hourglass  ...  27.0      fit  152.4   7.62\n",
              "7       34d+     118    10.0  full bust  ...  65.0      fit  152.4   7.62\n",
              "10       34b     135     8.0   athletic  ...  33.0  not fit  152.4   7.62\n",
              "\n",
              "[5 rows x 10 columns]"
            ]
          },
          "metadata": {
            "tags": []
          },
          "execution_count": 215
        }
      ]
    },
    {
      "cell_type": "code",
      "metadata": {
        "id": "0yzVfUsMmLmH"
      },
      "source": [
        "clothes_df['height_cm'] = clothes_df['feet'] + clothes_df['inches']\n",
        "clothes_df.drop(columns=['height', 'feet', 'inches'], axis=1, inplace=True)"
      ],
      "execution_count": 216,
      "outputs": []
    },
    {
      "cell_type": "code",
      "metadata": {
        "colab": {
          "base_uri": "https://localhost:8080/",
          "height": 0
        },
        "id": "HETKGMBHmLmI",
        "outputId": "7e0095f5-d368-4e59-cb19-2e8ac09ec32b"
      },
      "source": [
        "\n",
        "clothes_df['age'] = clothes_df['age'].astype(int)\n",
        "clothes_df.head()"
      ],
      "execution_count": 217,
      "outputs": [
        {
          "output_type": "execute_result",
          "data": {
            "text/html": [
              "<div>\n",
              "<style scoped>\n",
              "    .dataframe tbody tr th:only-of-type {\n",
              "        vertical-align: middle;\n",
              "    }\n",
              "\n",
              "    .dataframe tbody tr th {\n",
              "        vertical-align: top;\n",
              "    }\n",
              "\n",
              "    .dataframe thead th {\n",
              "        text-align: right;\n",
              "    }\n",
              "</style>\n",
              "<table border=\"1\" class=\"dataframe\">\n",
              "  <thead>\n",
              "    <tr style=\"text-align: right;\">\n",
              "      <th></th>\n",
              "      <th>bust size</th>\n",
              "      <th>weight</th>\n",
              "      <th>rating</th>\n",
              "      <th>body type</th>\n",
              "      <th>size</th>\n",
              "      <th>age</th>\n",
              "      <th>fitting</th>\n",
              "      <th>height_cm</th>\n",
              "    </tr>\n",
              "  </thead>\n",
              "  <tbody>\n",
              "    <tr>\n",
              "      <th>3</th>\n",
              "      <td>34c</td>\n",
              "      <td>135</td>\n",
              "      <td>8.0</td>\n",
              "      <td>pear</td>\n",
              "      <td>8</td>\n",
              "      <td>34</td>\n",
              "      <td>fit</td>\n",
              "      <td>165.10</td>\n",
              "    </tr>\n",
              "    <tr>\n",
              "      <th>5</th>\n",
              "      <td>32b</td>\n",
              "      <td>138</td>\n",
              "      <td>8.0</td>\n",
              "      <td>athletic</td>\n",
              "      <td>8</td>\n",
              "      <td>45</td>\n",
              "      <td>fit</td>\n",
              "      <td>172.72</td>\n",
              "    </tr>\n",
              "    <tr>\n",
              "      <th>6</th>\n",
              "      <td>34c</td>\n",
              "      <td>112</td>\n",
              "      <td>10.0</td>\n",
              "      <td>hourglass</td>\n",
              "      <td>4</td>\n",
              "      <td>27</td>\n",
              "      <td>fit</td>\n",
              "      <td>160.02</td>\n",
              "    </tr>\n",
              "    <tr>\n",
              "      <th>7</th>\n",
              "      <td>34d+</td>\n",
              "      <td>118</td>\n",
              "      <td>10.0</td>\n",
              "      <td>full bust</td>\n",
              "      <td>8</td>\n",
              "      <td>65</td>\n",
              "      <td>fit</td>\n",
              "      <td>160.02</td>\n",
              "    </tr>\n",
              "    <tr>\n",
              "      <th>10</th>\n",
              "      <td>34b</td>\n",
              "      <td>135</td>\n",
              "      <td>8.0</td>\n",
              "      <td>athletic</td>\n",
              "      <td>12</td>\n",
              "      <td>33</td>\n",
              "      <td>not fit</td>\n",
              "      <td>160.02</td>\n",
              "    </tr>\n",
              "  </tbody>\n",
              "</table>\n",
              "</div>"
            ],
            "text/plain": [
              "   bust size  weight  rating  body type  size  age  fitting  height_cm\n",
              "3        34c     135     8.0       pear     8   34      fit     165.10\n",
              "5        32b     138     8.0   athletic     8   45      fit     172.72\n",
              "6        34c     112    10.0  hourglass     4   27      fit     160.02\n",
              "7       34d+     118    10.0  full bust     8   65      fit     160.02\n",
              "10       34b     135     8.0   athletic    12   33  not fit     160.02"
            ]
          },
          "metadata": {
            "tags": []
          },
          "execution_count": 217
        }
      ]
    },
    {
      "cell_type": "code",
      "metadata": {
        "colab": {
          "base_uri": "https://localhost:8080/"
        },
        "id": "8o_EGuFAmLmI",
        "outputId": "57cbd662-3e3d-44df-d96d-fafc310ed0e2"
      },
      "source": [
        "clothes_df['fitting'].value_counts()"
      ],
      "execution_count": 218,
      "outputs": [
        {
          "output_type": "execute_result",
          "data": {
            "text/plain": [
              "fit        56901\n",
              "not fit    22576\n",
              "Name: fitting, dtype: int64"
            ]
          },
          "metadata": {
            "tags": []
          },
          "execution_count": 218
        }
      ]
    },
    {
      "cell_type": "code",
      "metadata": {
        "colab": {
          "base_uri": "https://localhost:8080/"
        },
        "id": "ZRslhpLpmLmI",
        "outputId": "bb3530b3-b485-417a-f777-1b74a1b9666c"
      },
      "source": [
        "clothes_df.shape"
      ],
      "execution_count": 219,
      "outputs": [
        {
          "output_type": "execute_result",
          "data": {
            "text/plain": [
              "(79477, 8)"
            ]
          },
          "metadata": {
            "tags": []
          },
          "execution_count": 219
        }
      ]
    },
    {
      "cell_type": "markdown",
      "metadata": {
        "id": "G-7J0BUbmLmJ"
      },
      "source": [
        "\n",
        "## EDA"
      ]
    },
    {
      "cell_type": "code",
      "metadata": {
        "colab": {
          "base_uri": "https://localhost:8080/"
        },
        "id": "iCkLiDq2mLmJ",
        "outputId": "72ce2f52-bbb9-474f-dbee-2b3af72c5788"
      },
      "source": [
        "clothes_df['age'] = clothes_df['age'].replace(0, np.nan)\n",
        "clothes_df['age'].fillna(clothes_df['age'].mean(), inplace=True)\n",
        "clothes_df['age'] = clothes_df['age'].astype(int)\n",
        "\n",
        "clothes_df['age'].unique()"
      ],
      "execution_count": 220,
      "outputs": [
        {
          "output_type": "execute_result",
          "data": {
            "text/plain": [
              "array([ 34,  45,  27,  65,  33,  30,  29,  35,  26,  28,  21,  20,  32,\n",
              "        53,  31,  38,  36,  37,  24,  25,  48,  40,  23,  44,  17,  43,\n",
              "        50,  39,  42,  41,  56,  52,  54,  59,  46,  47,  55,  49,  57,\n",
              "        22,  60,  19,  58,  15,  62,  51,  70,  16,  69,  66,  18,  64,\n",
              "        63,  87,  68,  61, 117, 116,  67,   2,  91,  92, 106,  75,  72,\n",
              "        14,   1,  71,  74,  76,  73,   3])"
            ]
          },
          "metadata": {
            "tags": []
          },
          "execution_count": 220
        }
      ]
    },
    {
      "cell_type": "markdown",
      "metadata": {
        "id": "bscLeTeQmLmJ"
      },
      "source": [
        "### Univariate Analysis"
      ]
    },
    {
      "cell_type": "code",
      "metadata": {
        "colab": {
          "base_uri": "https://localhost:8080/",
          "height": 0
        },
        "id": "e8c8r996mLmK",
        "outputId": "91733404-9ad8-4d9d-c6c8-8bbf2605eb46"
      },
      "source": [
        "clothes_df.describe()"
      ],
      "execution_count": 221,
      "outputs": [
        {
          "output_type": "execute_result",
          "data": {
            "text/html": [
              "<div>\n",
              "<style scoped>\n",
              "    .dataframe tbody tr th:only-of-type {\n",
              "        vertical-align: middle;\n",
              "    }\n",
              "\n",
              "    .dataframe tbody tr th {\n",
              "        vertical-align: top;\n",
              "    }\n",
              "\n",
              "    .dataframe thead th {\n",
              "        text-align: right;\n",
              "    }\n",
              "</style>\n",
              "<table border=\"1\" class=\"dataframe\">\n",
              "  <thead>\n",
              "    <tr style=\"text-align: right;\">\n",
              "      <th></th>\n",
              "      <th>weight</th>\n",
              "      <th>rating</th>\n",
              "      <th>size</th>\n",
              "      <th>age</th>\n",
              "      <th>height_cm</th>\n",
              "    </tr>\n",
              "  </thead>\n",
              "  <tbody>\n",
              "    <tr>\n",
              "      <th>count</th>\n",
              "      <td>79477.000000</td>\n",
              "      <td>79477.000000</td>\n",
              "      <td>79477.000000</td>\n",
              "      <td>79477.000000</td>\n",
              "      <td>79477.000000</td>\n",
              "    </tr>\n",
              "    <tr>\n",
              "      <th>mean</th>\n",
              "      <td>134.808737</td>\n",
              "      <td>9.038112</td>\n",
              "      <td>12.007335</td>\n",
              "      <td>33.907206</td>\n",
              "      <td>165.628633</td>\n",
              "    </tr>\n",
              "    <tr>\n",
              "      <th>std</th>\n",
              "      <td>21.225765</td>\n",
              "      <td>1.453498</td>\n",
              "      <td>8.042988</td>\n",
              "      <td>7.725137</td>\n",
              "      <td>6.784576</td>\n",
              "    </tr>\n",
              "    <tr>\n",
              "      <th>min</th>\n",
              "      <td>50.000000</td>\n",
              "      <td>2.000000</td>\n",
              "      <td>0.000000</td>\n",
              "      <td>1.000000</td>\n",
              "      <td>137.160000</td>\n",
              "    </tr>\n",
              "    <tr>\n",
              "      <th>25%</th>\n",
              "      <td>118.000000</td>\n",
              "      <td>8.000000</td>\n",
              "      <td>8.000000</td>\n",
              "      <td>29.000000</td>\n",
              "      <td>160.020000</td>\n",
              "    </tr>\n",
              "    <tr>\n",
              "      <th>50%</th>\n",
              "      <td>130.000000</td>\n",
              "      <td>10.000000</td>\n",
              "      <td>12.000000</td>\n",
              "      <td>32.000000</td>\n",
              "      <td>165.100000</td>\n",
              "    </tr>\n",
              "    <tr>\n",
              "      <th>75%</th>\n",
              "      <td>145.000000</td>\n",
              "      <td>10.000000</td>\n",
              "      <td>16.000000</td>\n",
              "      <td>37.000000</td>\n",
              "      <td>170.180000</td>\n",
              "    </tr>\n",
              "    <tr>\n",
              "      <th>max</th>\n",
              "      <td>285.000000</td>\n",
              "      <td>10.000000</td>\n",
              "      <td>57.000000</td>\n",
              "      <td>117.000000</td>\n",
              "      <td>193.040000</td>\n",
              "    </tr>\n",
              "  </tbody>\n",
              "</table>\n",
              "</div>"
            ],
            "text/plain": [
              "             weight        rating          size           age     height_cm\n",
              "count  79477.000000  79477.000000  79477.000000  79477.000000  79477.000000\n",
              "mean     134.808737      9.038112     12.007335     33.907206    165.628633\n",
              "std       21.225765      1.453498      8.042988      7.725137      6.784576\n",
              "min       50.000000      2.000000      0.000000      1.000000    137.160000\n",
              "25%      118.000000      8.000000      8.000000     29.000000    160.020000\n",
              "50%      130.000000     10.000000     12.000000     32.000000    165.100000\n",
              "75%      145.000000     10.000000     16.000000     37.000000    170.180000\n",
              "max      285.000000     10.000000     57.000000    117.000000    193.040000"
            ]
          },
          "metadata": {
            "tags": []
          },
          "execution_count": 221
        }
      ]
    },
    {
      "cell_type": "code",
      "metadata": {
        "id": "-vDo_Zq4mLmK"
      },
      "source": [
        "clothes_df['size'] = np.log(clothes_df['size'].replace(0, np.nan))\n",
        "clothes_df['size'].replace(np.nan, 0, inplace=True)"
      ],
      "execution_count": 222,
      "outputs": []
    },
    {
      "cell_type": "code",
      "metadata": {
        "colab": {
          "base_uri": "https://localhost:8080/",
          "height": 0
        },
        "id": "KLZnrs7XmLmK",
        "outputId": "a0dc20c8-e24d-43e0-dcb2-b2ac95ae4f2c"
      },
      "source": [
        "# visualizing the continuous variables through histograms\n",
        "for i in clothes_df.select_dtypes(include='number'):\n",
        "    plt.hist(clothes_df[i])\n",
        "    plt.title(i)\n",
        "    plt.show()"
      ],
      "execution_count": 223,
      "outputs": [
        {
          "output_type": "display_data",
          "data": {
            "image/png": "[encoded data removed]",
            "text/plain": [
              "<Figure size 432x288 with 1 Axes>"
            ]
          },
          "metadata": {
            "tags": [],
            "needs_background": "light"
          }
        },
        {
          "output_type": "display_data",
          "data": {
            "image/png": "[encoded data removed]",
            "text/plain": [
              "<Figure size 432x288 with 1 Axes>"
            ]
          },
          "metadata": {
            "tags": [],
            "needs_background": "light"
          }
        },
        {
          "output_type": "display_data",
          "data": {
            "image/png": "[encoded data removed]",
            "text/plain": [
              "<Figure size 432x288 with 1 Axes>"
            ]
          },
          "metadata": {
            "tags": [],
            "needs_background": "light"
          }
        },
        {
          "output_type": "display_data",
          "data": {
            "image/png": "[encoded data removed]",
            "text/plain": [
              "<Figure size 432x288 with 1 Axes>"
            ]
          },
          "metadata": {
            "tags": [],
            "needs_background": "light"
          }
        },
        {
          "output_type": "display_data",
          "data": {
            "image/png": "[encoded data removed]",
            "text/plain": [
              "<Figure size 432x288 with 1 Axes>"
            ]
          },
          "metadata": {
            "tags": [],
            "needs_background": "light"
          }
        }
      ]
    },
    {
      "cell_type": "code",
      "metadata": {
        "colab": {
          "base_uri": "https://localhost:8080/"
        },
        "id": "J-UgX3WFmLmL",
        "outputId": "9b63c6a4-6f60-419c-e7b4-260cb2162532"
      },
      "source": [
        "np.where(clothes_df['size'] == 0)"
      ],
      "execution_count": 224,
      "outputs": [
        {
          "output_type": "execute_result",
          "data": {
            "text/plain": [
              "(array([   12,    17,    46, ..., 79449, 79456, 79460]),)"
            ]
          },
          "metadata": {
            "tags": []
          },
          "execution_count": 224
        }
      ]
    },
    {
      "cell_type": "code",
      "metadata": {
        "colab": {
          "base_uri": "https://localhost:8080/",
          "height": 0
        },
        "id": "-zXaA00umLmL",
        "outputId": "7e9e66f4-6fe8-4097-c790-9e8665bae4b4"
      },
      "source": [
        "plt.figure(figsize=(7,5))\n",
        "plt.bar(clothes_df.groupby(\"fitting\")[\"fitting\"].count().index, \n",
        "         clothes_df.groupby(\"fitting\")[\"fitting\"].count(), \n",
        "         color=[\"gray\",\"blue\"])\n",
        "plt.title(\"horizontal bar chart of fit\")"
      ],
      "execution_count": 225,
      "outputs": [
        {
          "output_type": "execute_result",
          "data": {
            "text/plain": [
              "Text(0.5, 1.0, 'horizontal bar chart of fit')"
            ]
          },
          "metadata": {
            "tags": []
          },
          "execution_count": 225
        },
        {
          "output_type": "display_data",
          "data": {
            "image/png": "[encoded data removed]",
            "text/plain": [
              "<Figure size 504x360 with 1 Axes>"
            ]
          },
          "metadata": {
            "tags": [],
            "needs_background": "light"
          }
        }
      ]
    },
    {
      "cell_type": "markdown",
      "metadata": {
        "id": "x_wnxWY6mLmL"
      },
      "source": [
        "### Bivariate Analysis"
      ]
    },
    {
      "cell_type": "markdown",
      "metadata": {
        "id": "g2YnXCK2mLmM"
      },
      "source": [
        "##### Continuous/Continuous"
      ]
    },
    {
      "cell_type": "code",
      "metadata": {
        "colab": {
          "base_uri": "https://localhost:8080/",
          "height": 0
        },
        "id": "q36Ms930mLmM",
        "outputId": "42f34b9e-6791-4101-bad5-f8f2b578fcf3"
      },
      "source": [
        "clothes_df.corr()"
      ],
      "execution_count": 226,
      "outputs": [
        {
          "output_type": "execute_result",
          "data": {
            "text/html": [
              "<div>\n",
              "<style scoped>\n",
              "    .dataframe tbody tr th:only-of-type {\n",
              "        vertical-align: middle;\n",
              "    }\n",
              "\n",
              "    .dataframe tbody tr th {\n",
              "        vertical-align: top;\n",
              "    }\n",
              "\n",
              "    .dataframe thead th {\n",
              "        text-align: right;\n",
              "    }\n",
              "</style>\n",
              "<table border=\"1\" class=\"dataframe\">\n",
              "  <thead>\n",
              "    <tr style=\"text-align: right;\">\n",
              "      <th></th>\n",
              "      <th>weight</th>\n",
              "      <th>rating</th>\n",
              "      <th>size</th>\n",
              "      <th>age</th>\n",
              "      <th>height_cm</th>\n",
              "    </tr>\n",
              "  </thead>\n",
              "  <tbody>\n",
              "    <tr>\n",
              "      <th>weight</th>\n",
              "      <td>1.000000</td>\n",
              "      <td>-0.015818</td>\n",
              "      <td>0.591490</td>\n",
              "      <td>0.043702</td>\n",
              "      <td>0.337471</td>\n",
              "    </tr>\n",
              "    <tr>\n",
              "      <th>rating</th>\n",
              "      <td>-0.015818</td>\n",
              "      <td>1.000000</td>\n",
              "      <td>-0.032322</td>\n",
              "      <td>-0.030601</td>\n",
              "      <td>0.003042</td>\n",
              "    </tr>\n",
              "    <tr>\n",
              "      <th>size</th>\n",
              "      <td>0.591490</td>\n",
              "      <td>-0.032322</td>\n",
              "      <td>1.000000</td>\n",
              "      <td>0.130274</td>\n",
              "      <td>0.262982</td>\n",
              "    </tr>\n",
              "    <tr>\n",
              "      <th>age</th>\n",
              "      <td>0.043702</td>\n",
              "      <td>-0.030601</td>\n",
              "      <td>0.130274</td>\n",
              "      <td>1.000000</td>\n",
              "      <td>-0.018413</td>\n",
              "    </tr>\n",
              "    <tr>\n",
              "      <th>height_cm</th>\n",
              "      <td>0.337471</td>\n",
              "      <td>0.003042</td>\n",
              "      <td>0.262982</td>\n",
              "      <td>-0.018413</td>\n",
              "      <td>1.000000</td>\n",
              "    </tr>\n",
              "  </tbody>\n",
              "</table>\n",
              "</div>"
            ],
            "text/plain": [
              "             weight    rating      size       age  height_cm\n",
              "weight     1.000000 -0.015818  0.591490  0.043702   0.337471\n",
              "rating    -0.015818  1.000000 -0.032322 -0.030601   0.003042\n",
              "size       0.591490 -0.032322  1.000000  0.130274   0.262982\n",
              "age        0.043702 -0.030601  0.130274  1.000000  -0.018413\n",
              "height_cm  0.337471  0.003042  0.262982 -0.018413   1.000000"
            ]
          },
          "metadata": {
            "tags": []
          },
          "execution_count": 226
        }
      ]
    },
    {
      "cell_type": "code",
      "metadata": {
        "colab": {
          "base_uri": "https://localhost:8080/",
          "height": 0
        },
        "id": "yz7aSnoemLmM",
        "outputId": "97ad7873-519a-471d-8821-a5b7739407bd"
      },
      "source": [
        "sns.pairplot(data=clothes_df, height=1.8)"
      ],
      "execution_count": 227,
      "outputs": [
        {
          "output_type": "execute_result",
          "data": {
            "text/plain": [
              "<seaborn.axisgrid.PairGrid at 0x7fb2c135ab90>"
            ]
          },
          "metadata": {
            "tags": []
          },
          "execution_count": 227
        },
        {
          "output_type": "display_data",
          "data": {
            "image/png": "[encoded data removed]",
            "text/plain": [
              "<Figure size 648x648 with 30 Axes>"
            ]
          },
          "metadata": {
            "tags": [],
            "needs_background": "light"
          }
        }
      ]
    },
    {
      "cell_type": "code",
      "metadata": {
        "colab": {
          "base_uri": "https://localhost:8080/",
          "height": 0
        },
        "id": "h4OgJaJsmLmN",
        "outputId": "da9c8c5b-ff33-46d6-ae70-c6650eb827d0"
      },
      "source": [
        "plt.figure(figsize=(10,5))\n",
        "\n",
        "#plt.subplot(1,2,1)\n",
        "sns.heatmap(clothes_df.corr(), square=True, annot=True, linewidths=.5)\n",
        "plt.title(\"correlation matrix (Clothes)\")\n",
        "plt.show()"
      ],
      "execution_count": 228,
      "outputs": [
        {
          "output_type": "display_data",
          "data": {
            "image/png": "[encoded data removed]",
            "text/plain": [
              "<Figure size 720x360 with 2 Axes>"
            ]
          },
          "metadata": {
            "tags": [],
            "needs_background": "light"
          }
        }
      ]
    },
    {
      "cell_type": "markdown",
      "metadata": {
        "id": "ClTW97jKmLmN"
      },
      "source": [
        "size and weight (0.657)\n",
        "\n",
        "weight and height_cm (0.339)\n",
        "\n",
        "size and height_cm (0.236)\n",
        "\n",
        "size and age (0.153)"
      ]
    },
    {
      "cell_type": "markdown",
      "metadata": {
        "id": "rRvFzkmDmLmO"
      },
      "source": [
        "#### Categorical/Continuous"
      ]
    },
    {
      "cell_type": "code",
      "metadata": {
        "scrolled": true,
        "colab": {
          "base_uri": "https://localhost:8080/",
          "height": 0
        },
        "id": "9RNnst_tmLmO",
        "outputId": "e1061800-4263-4ade-8bd0-748ef3f8c814"
      },
      "source": [
        "clothes_df.groupby('fitting').mean()"
      ],
      "execution_count": 229,
      "outputs": [
        {
          "output_type": "execute_result",
          "data": {
            "text/html": [
              "<div>\n",
              "<style scoped>\n",
              "    .dataframe tbody tr th:only-of-type {\n",
              "        vertical-align: middle;\n",
              "    }\n",
              "\n",
              "    .dataframe tbody tr th {\n",
              "        vertical-align: top;\n",
              "    }\n",
              "\n",
              "    .dataframe thead th {\n",
              "        text-align: right;\n",
              "    }\n",
              "</style>\n",
              "<table border=\"1\" class=\"dataframe\">\n",
              "  <thead>\n",
              "    <tr style=\"text-align: right;\">\n",
              "      <th></th>\n",
              "      <th>weight</th>\n",
              "      <th>rating</th>\n",
              "      <th>size</th>\n",
              "      <th>age</th>\n",
              "      <th>height_cm</th>\n",
              "    </tr>\n",
              "    <tr>\n",
              "      <th>fitting</th>\n",
              "      <th></th>\n",
              "      <th></th>\n",
              "      <th></th>\n",
              "      <th></th>\n",
              "      <th></th>\n",
              "    </tr>\n",
              "  </thead>\n",
              "  <tbody>\n",
              "    <tr>\n",
              "      <th>fit</th>\n",
              "      <td>134.754609</td>\n",
              "      <td>9.258431</td>\n",
              "      <td>2.193414</td>\n",
              "      <td>33.972426</td>\n",
              "      <td>165.679146</td>\n",
              "    </tr>\n",
              "    <tr>\n",
              "      <th>not fit</th>\n",
              "      <td>134.945163</td>\n",
              "      <td>8.482814</td>\n",
              "      <td>2.222162</td>\n",
              "      <td>33.742824</td>\n",
              "      <td>165.501319</td>\n",
              "    </tr>\n",
              "  </tbody>\n",
              "</table>\n",
              "</div>"
            ],
            "text/plain": [
              "             weight    rating      size        age   height_cm\n",
              "fitting                                                       \n",
              "fit      134.754609  9.258431  2.193414  33.972426  165.679146\n",
              "not fit  134.945163  8.482814  2.222162  33.742824  165.501319"
            ]
          },
          "metadata": {
            "tags": []
          },
          "execution_count": 229
        }
      ]
    },
    {
      "cell_type": "markdown",
      "metadata": {
        "id": "kn0Qx8aCmLmP"
      },
      "source": [
        "Since fit v not fit are similar, on average, in all the continuous variables. As you can see below with an graph example of one continuous variable with the target variable"
      ]
    },
    {
      "cell_type": "code",
      "metadata": {
        "colab": {
          "base_uri": "https://localhost:8080/",
          "height": 0
        },
        "id": "hRis7-RSmLmQ",
        "outputId": "55fa8a29-82db-4e77-d6e3-3ab88806454e"
      },
      "source": [
        "plt.figure(figsize=(10,5))\n",
        "\n",
        "#plt.subplot(1,3,1)\n",
        "sns.barplot(x=clothes_df[\"fitting\"], y=clothes_df[\"size\"], data=clothes_df)\n",
        "plt.title(\"average size of each fitting\")\n",
        "plt.show()"
      ],
      "execution_count": 230,
      "outputs": [
        {
          "output_type": "display_data",
          "data": {
            "image/png": "[encoded data removed]",
            "text/plain": [
              "<Figure size 720x360 with 1 Axes>"
            ]
          },
          "metadata": {
            "tags": [],
            "needs_background": "light"
          }
        }
      ]
    },
    {
      "cell_type": "markdown",
      "metadata": {
        "id": "CPhlAMOGmLmQ"
      },
      "source": [
        "#### Categorical/Categorical"
      ]
    },
    {
      "cell_type": "code",
      "metadata": {
        "colab": {
          "base_uri": "https://localhost:8080/",
          "height": 0
        },
        "id": "ra_J4V56mLmR",
        "outputId": "19dc722a-dfc4-4db4-84a2-1c620653cdfb"
      },
      "source": [
        "# feature engineering 'bust size' --> 'bust_line' and 'cup_size'\n",
        "clothes_df['bust_line'] = clothes_df['bust size'].apply(lambda x: x[:2])\n",
        "clothes_df['cup_size'] = clothes_df['bust size'].apply(lambda x: x[2:])\n",
        "clothes_df.head()"
      ],
      "execution_count": 231,
      "outputs": [
        {
          "output_type": "execute_result",
          "data": {
            "text/html": [
              "<div>\n",
              "<style scoped>\n",
              "    .dataframe tbody tr th:only-of-type {\n",
              "        vertical-align: middle;\n",
              "    }\n",
              "\n",
              "    .dataframe tbody tr th {\n",
              "        vertical-align: top;\n",
              "    }\n",
              "\n",
              "    .dataframe thead th {\n",
              "        text-align: right;\n",
              "    }\n",
              "</style>\n",
              "<table border=\"1\" class=\"dataframe\">\n",
              "  <thead>\n",
              "    <tr style=\"text-align: right;\">\n",
              "      <th></th>\n",
              "      <th>bust size</th>\n",
              "      <th>weight</th>\n",
              "      <th>rating</th>\n",
              "      <th>body type</th>\n",
              "      <th>size</th>\n",
              "      <th>age</th>\n",
              "      <th>fitting</th>\n",
              "      <th>height_cm</th>\n",
              "      <th>bust_line</th>\n",
              "      <th>cup_size</th>\n",
              "    </tr>\n",
              "  </thead>\n",
              "  <tbody>\n",
              "    <tr>\n",
              "      <th>3</th>\n",
              "      <td>34c</td>\n",
              "      <td>135</td>\n",
              "      <td>8.0</td>\n",
              "      <td>pear</td>\n",
              "      <td>2.079442</td>\n",
              "      <td>34</td>\n",
              "      <td>fit</td>\n",
              "      <td>165.10</td>\n",
              "      <td>34</td>\n",
              "      <td>c</td>\n",
              "    </tr>\n",
              "    <tr>\n",
              "      <th>5</th>\n",
              "      <td>32b</td>\n",
              "      <td>138</td>\n",
              "      <td>8.0</td>\n",
              "      <td>athletic</td>\n",
              "      <td>2.079442</td>\n",
              "      <td>45</td>\n",
              "      <td>fit</td>\n",
              "      <td>172.72</td>\n",
              "      <td>32</td>\n",
              "      <td>b</td>\n",
              "    </tr>\n",
              "    <tr>\n",
              "      <th>6</th>\n",
              "      <td>34c</td>\n",
              "      <td>112</td>\n",
              "      <td>10.0</td>\n",
              "      <td>hourglass</td>\n",
              "      <td>1.386294</td>\n",
              "      <td>27</td>\n",
              "      <td>fit</td>\n",
              "      <td>160.02</td>\n",
              "      <td>34</td>\n",
              "      <td>c</td>\n",
              "    </tr>\n",
              "    <tr>\n",
              "      <th>7</th>\n",
              "      <td>34d+</td>\n",
              "      <td>118</td>\n",
              "      <td>10.0</td>\n",
              "      <td>full bust</td>\n",
              "      <td>2.079442</td>\n",
              "      <td>65</td>\n",
              "      <td>fit</td>\n",
              "      <td>160.02</td>\n",
              "      <td>34</td>\n",
              "      <td>d+</td>\n",
              "    </tr>\n",
              "    <tr>\n",
              "      <th>10</th>\n",
              "      <td>34b</td>\n",
              "      <td>135</td>\n",
              "      <td>8.0</td>\n",
              "      <td>athletic</td>\n",
              "      <td>2.484907</td>\n",
              "      <td>33</td>\n",
              "      <td>not fit</td>\n",
              "      <td>160.02</td>\n",
              "      <td>34</td>\n",
              "      <td>b</td>\n",
              "    </tr>\n",
              "  </tbody>\n",
              "</table>\n",
              "</div>"
            ],
            "text/plain": [
              "   bust size  weight  rating  body type  ...  fitting  height_cm bust_line  cup_size\n",
              "3        34c     135     8.0       pear  ...      fit     165.10        34         c\n",
              "5        32b     138     8.0   athletic  ...      fit     172.72        32         b\n",
              "6        34c     112    10.0  hourglass  ...      fit     160.02        34         c\n",
              "7       34d+     118    10.0  full bust  ...      fit     160.02        34        d+\n",
              "10       34b     135     8.0   athletic  ...  not fit     160.02        34         b\n",
              "\n",
              "[5 rows x 10 columns]"
            ]
          },
          "metadata": {
            "tags": []
          },
          "execution_count": 231
        }
      ]
    },
    {
      "cell_type": "code",
      "metadata": {
        "id": "7oKHiiW-mLmR"
      },
      "source": [
        "# Removing repetitive or odd values\n",
        "count_table = pd.crosstab(clothes_df[\"fitting\"], clothes_df[\"cup_size\"])\n",
        "clothes_df['cup_size'] = clothes_df['cup_size'].replace(['i', 'j'], 'h')\n",
        "clothes_df['cup_size'] = clothes_df['cup_size'].replace('ddd/e', 'e')"
      ],
      "execution_count": 232,
      "outputs": []
    },
    {
      "cell_type": "code",
      "metadata": {
        "id": "3uBtVnSpmLmR"
      },
      "source": [
        "# importing stat libraries\n",
        "from scipy.stats import stats\n",
        "from scipy.stats import chisquare\n",
        "import statsmodels.api as sm\n",
        "from scipy.stats import chisquare"
      ],
      "execution_count": 233,
      "outputs": []
    },
    {
      "cell_type": "code",
      "metadata": {
        "colab": {
          "base_uri": "https://localhost:8080/",
          "height": 0
        },
        "id": "LqawMr7bmLmT",
        "outputId": "9f249b13-690e-4f69-840c-2330b22e7ddc"
      },
      "source": [
        "# checking whether categorical variables have a relationship with the target variable\n",
        "count_table = pd.crosstab(clothes_df[\"fitting\"], clothes_df[\"body type\"])\n",
        "count_table"
      ],
      "execution_count": 234,
      "outputs": [
        {
          "output_type": "execute_result",
          "data": {
            "text/html": [
              "<div>\n",
              "<style scoped>\n",
              "    .dataframe tbody tr th:only-of-type {\n",
              "        vertical-align: middle;\n",
              "    }\n",
              "\n",
              "    .dataframe tbody tr th {\n",
              "        vertical-align: top;\n",
              "    }\n",
              "\n",
              "    .dataframe thead th {\n",
              "        text-align: right;\n",
              "    }\n",
              "</style>\n",
              "<table border=\"1\" class=\"dataframe\">\n",
              "  <thead>\n",
              "    <tr style=\"text-align: right;\">\n",
              "      <th>body type</th>\n",
              "      <th>apple</th>\n",
              "      <th>athletic</th>\n",
              "      <th>full bust</th>\n",
              "      <th>hourglass</th>\n",
              "      <th>pear</th>\n",
              "      <th>petite</th>\n",
              "      <th>straight &amp; narrow</th>\n",
              "    </tr>\n",
              "    <tr>\n",
              "      <th>fitting</th>\n",
              "      <th></th>\n",
              "      <th></th>\n",
              "      <th></th>\n",
              "      <th></th>\n",
              "      <th></th>\n",
              "      <th></th>\n",
              "      <th></th>\n",
              "    </tr>\n",
              "  </thead>\n",
              "  <tbody>\n",
              "    <tr>\n",
              "      <th>fit</th>\n",
              "      <td>1598</td>\n",
              "      <td>13849</td>\n",
              "      <td>4627</td>\n",
              "      <td>17790</td>\n",
              "      <td>7262</td>\n",
              "      <td>7307</td>\n",
              "      <td>4468</td>\n",
              "    </tr>\n",
              "    <tr>\n",
              "      <th>not fit</th>\n",
              "      <td>636</td>\n",
              "      <td>5403</td>\n",
              "      <td>1946</td>\n",
              "      <td>6954</td>\n",
              "      <td>3018</td>\n",
              "      <td>2890</td>\n",
              "      <td>1729</td>\n",
              "    </tr>\n",
              "  </tbody>\n",
              "</table>\n",
              "</div>"
            ],
            "text/plain": [
              "body type  apple  athletic  full bust  ...  pear  petite  straight & narrow\n",
              "fitting                                ...                                 \n",
              "fit         1598     13849       4627  ...  7262    7307               4468\n",
              "not fit      636      5403       1946  ...  3018    2890               1729\n",
              "\n",
              "[2 rows x 7 columns]"
            ]
          },
          "metadata": {
            "tags": []
          },
          "execution_count": 234
        }
      ]
    },
    {
      "cell_type": "code",
      "metadata": {
        "colab": {
          "base_uri": "https://localhost:8080/"
        },
        "id": "LLDbjlB4mLmT",
        "outputId": "fa37b82f-0682-413a-bf80-2c48911984e9"
      },
      "source": [
        " print(stats.chisquare(count_table, axis=None))"
      ],
      "execution_count": 235,
      "outputs": [
        {
          "output_type": "stream",
          "text": [
            "Power_divergenceResult(statistic=54490.7509468148, pvalue=0.0)\n"
          ],
          "name": "stdout"
        }
      ]
    },
    {
      "cell_type": "code",
      "metadata": {
        "colab": {
          "base_uri": "https://localhost:8080/",
          "height": 0
        },
        "id": "dLJmLDMvmLmT",
        "outputId": "581ed818-a28d-4dd7-8d46-1e9503dcc3df"
      },
      "source": [
        "sns.countplot(x=\"cup_size\", hue=\"fitting\", data=clothes_df)\n",
        "plt.show()"
      ],
      "execution_count": 236,
      "outputs": [
        {
          "output_type": "display_data",
          "data": {
            "image/png": "[encoded data removed]",
            "text/plain": [
              "<Figure size 432x288 with 1 Axes>"
            ]
          },
          "metadata": {
            "tags": [],
            "needs_background": "light"
          }
        }
      ]
    },
    {
      "cell_type": "code",
      "metadata": {
        "colab": {
          "base_uri": "https://localhost:8080/",
          "height": 0
        },
        "id": "txQ33NKtmLmU",
        "outputId": "3e702a7b-0808-4d7e-bea5-3834b70bee2b"
      },
      "source": [
        "count_table2 = pd.crosstab(clothes_df[\"fitting\"], clothes_df[\"cup_size\"])\n",
        "count_table"
      ],
      "execution_count": 237,
      "outputs": [
        {
          "output_type": "execute_result",
          "data": {
            "text/html": [
              "<div>\n",
              "<style scoped>\n",
              "    .dataframe tbody tr th:only-of-type {\n",
              "        vertical-align: middle;\n",
              "    }\n",
              "\n",
              "    .dataframe tbody tr th {\n",
              "        vertical-align: top;\n",
              "    }\n",
              "\n",
              "    .dataframe thead th {\n",
              "        text-align: right;\n",
              "    }\n",
              "</style>\n",
              "<table border=\"1\" class=\"dataframe\">\n",
              "  <thead>\n",
              "    <tr style=\"text-align: right;\">\n",
              "      <th>body type</th>\n",
              "      <th>apple</th>\n",
              "      <th>athletic</th>\n",
              "      <th>full bust</th>\n",
              "      <th>hourglass</th>\n",
              "      <th>pear</th>\n",
              "      <th>petite</th>\n",
              "      <th>straight &amp; narrow</th>\n",
              "    </tr>\n",
              "    <tr>\n",
              "      <th>fitting</th>\n",
              "      <th></th>\n",
              "      <th></th>\n",
              "      <th></th>\n",
              "      <th></th>\n",
              "      <th></th>\n",
              "      <th></th>\n",
              "      <th></th>\n",
              "    </tr>\n",
              "  </thead>\n",
              "  <tbody>\n",
              "    <tr>\n",
              "      <th>fit</th>\n",
              "      <td>1598</td>\n",
              "      <td>13849</td>\n",
              "      <td>4627</td>\n",
              "      <td>17790</td>\n",
              "      <td>7262</td>\n",
              "      <td>7307</td>\n",
              "      <td>4468</td>\n",
              "    </tr>\n",
              "    <tr>\n",
              "      <th>not fit</th>\n",
              "      <td>636</td>\n",
              "      <td>5403</td>\n",
              "      <td>1946</td>\n",
              "      <td>6954</td>\n",
              "      <td>3018</td>\n",
              "      <td>2890</td>\n",
              "      <td>1729</td>\n",
              "    </tr>\n",
              "  </tbody>\n",
              "</table>\n",
              "</div>"
            ],
            "text/plain": [
              "body type  apple  athletic  full bust  ...  pear  petite  straight & narrow\n",
              "fitting                                ...                                 \n",
              "fit         1598     13849       4627  ...  7262    7307               4468\n",
              "not fit      636      5403       1946  ...  3018    2890               1729\n",
              "\n",
              "[2 rows x 7 columns]"
            ]
          },
          "metadata": {
            "tags": []
          },
          "execution_count": 237
        }
      ]
    },
    {
      "cell_type": "code",
      "metadata": {
        "colab": {
          "base_uri": "https://localhost:8080/"
        },
        "id": "P9AsDgXlmLmU",
        "outputId": "b7636295-34f7-4d78-af6e-ee458a429eb5"
      },
      "source": [
        "print(stats.chisquare(count_table2, axis=None))"
      ],
      "execution_count": 238,
      "outputs": [
        {
          "output_type": "stream",
          "text": [
            "Power_divergenceResult(statistic=167297.7573511834, pvalue=0.0)\n"
          ],
          "name": "stdout"
        }
      ]
    },
    {
      "cell_type": "code",
      "metadata": {
        "colab": {
          "base_uri": "https://localhost:8080/",
          "height": 0
        },
        "id": "3ifBydPXmLmU",
        "outputId": "d0751630-e1d3-403d-8d1a-b9a2c7da3f22"
      },
      "source": [
        "sns.countplot(x=\"body type\", hue=\"fitting\", data=clothes_df)\n",
        "plt.xticks(rotation=90)\n",
        "plt.show()"
      ],
      "execution_count": 239,
      "outputs": [
        {
          "output_type": "display_data",
          "data": {
            "image/png": "[encoded data removed]",
            "text/plain": [
              "<Figure size 432x288 with 1 Axes>"
            ]
          },
          "metadata": {
            "tags": [],
            "needs_background": "light"
          }
        }
      ]
    },
    {
      "cell_type": "code",
      "metadata": {
        "colab": {
          "base_uri": "https://localhost:8080/"
        },
        "id": "fescG8HVmLmV",
        "outputId": "d3373a59-c977-444d-cd6d-9146c0ce5c03"
      },
      "source": [
        "print(stats.chisquare(count_table, axis=None))"
      ],
      "execution_count": 240,
      "outputs": [
        {
          "output_type": "stream",
          "text": [
            "Power_divergenceResult(statistic=54490.7509468148, pvalue=0.0)\n"
          ],
          "name": "stdout"
        }
      ]
    },
    {
      "cell_type": "code",
      "metadata": {
        "colab": {
          "base_uri": "https://localhost:8080/",
          "height": 0
        },
        "id": "6oF8i4PGmLmV",
        "outputId": "718ed974-4a18-439c-9e14-7e4a9ee88ca7"
      },
      "source": [
        "clothes_df.drop(columns='bust size', axis=1, inplace=True)\n",
        "clothes_df.head()"
      ],
      "execution_count": 241,
      "outputs": [
        {
          "output_type": "execute_result",
          "data": {
            "text/html": [
              "<div>\n",
              "<style scoped>\n",
              "    .dataframe tbody tr th:only-of-type {\n",
              "        vertical-align: middle;\n",
              "    }\n",
              "\n",
              "    .dataframe tbody tr th {\n",
              "        vertical-align: top;\n",
              "    }\n",
              "\n",
              "    .dataframe thead th {\n",
              "        text-align: right;\n",
              "    }\n",
              "</style>\n",
              "<table border=\"1\" class=\"dataframe\">\n",
              "  <thead>\n",
              "    <tr style=\"text-align: right;\">\n",
              "      <th></th>\n",
              "      <th>weight</th>\n",
              "      <th>rating</th>\n",
              "      <th>body type</th>\n",
              "      <th>size</th>\n",
              "      <th>age</th>\n",
              "      <th>fitting</th>\n",
              "      <th>height_cm</th>\n",
              "      <th>bust_line</th>\n",
              "      <th>cup_size</th>\n",
              "    </tr>\n",
              "  </thead>\n",
              "  <tbody>\n",
              "    <tr>\n",
              "      <th>3</th>\n",
              "      <td>135</td>\n",
              "      <td>8.0</td>\n",
              "      <td>pear</td>\n",
              "      <td>2.079442</td>\n",
              "      <td>34</td>\n",
              "      <td>fit</td>\n",
              "      <td>165.10</td>\n",
              "      <td>34</td>\n",
              "      <td>c</td>\n",
              "    </tr>\n",
              "    <tr>\n",
              "      <th>5</th>\n",
              "      <td>138</td>\n",
              "      <td>8.0</td>\n",
              "      <td>athletic</td>\n",
              "      <td>2.079442</td>\n",
              "      <td>45</td>\n",
              "      <td>fit</td>\n",
              "      <td>172.72</td>\n",
              "      <td>32</td>\n",
              "      <td>b</td>\n",
              "    </tr>\n",
              "    <tr>\n",
              "      <th>6</th>\n",
              "      <td>112</td>\n",
              "      <td>10.0</td>\n",
              "      <td>hourglass</td>\n",
              "      <td>1.386294</td>\n",
              "      <td>27</td>\n",
              "      <td>fit</td>\n",
              "      <td>160.02</td>\n",
              "      <td>34</td>\n",
              "      <td>c</td>\n",
              "    </tr>\n",
              "    <tr>\n",
              "      <th>7</th>\n",
              "      <td>118</td>\n",
              "      <td>10.0</td>\n",
              "      <td>full bust</td>\n",
              "      <td>2.079442</td>\n",
              "      <td>65</td>\n",
              "      <td>fit</td>\n",
              "      <td>160.02</td>\n",
              "      <td>34</td>\n",
              "      <td>d+</td>\n",
              "    </tr>\n",
              "    <tr>\n",
              "      <th>10</th>\n",
              "      <td>135</td>\n",
              "      <td>8.0</td>\n",
              "      <td>athletic</td>\n",
              "      <td>2.484907</td>\n",
              "      <td>33</td>\n",
              "      <td>not fit</td>\n",
              "      <td>160.02</td>\n",
              "      <td>34</td>\n",
              "      <td>b</td>\n",
              "    </tr>\n",
              "  </tbody>\n",
              "</table>\n",
              "</div>"
            ],
            "text/plain": [
              "    weight  rating  body type      size  ...  fitting height_cm  bust_line cup_size\n",
              "3      135     8.0       pear  2.079442  ...      fit    165.10         34        c\n",
              "5      138     8.0   athletic  2.079442  ...      fit    172.72         32        b\n",
              "6      112    10.0  hourglass  1.386294  ...      fit    160.02         34        c\n",
              "7      118    10.0  full bust  2.079442  ...      fit    160.02         34       d+\n",
              "10     135     8.0   athletic  2.484907  ...  not fit    160.02         34        b\n",
              "\n",
              "[5 rows x 9 columns]"
            ]
          },
          "metadata": {
            "tags": []
          },
          "execution_count": 241
        }
      ]
    },
    {
      "cell_type": "code",
      "metadata": {
        "colab": {
          "base_uri": "https://localhost:8080/",
          "height": 0
        },
        "id": "W2o2aATJmLmW",
        "outputId": "1551db51-a91e-4e89-c1f4-08bf1562274d"
      },
      "source": [
        "clothes_df.describe(include=['O'])"
      ],
      "execution_count": 242,
      "outputs": [
        {
          "output_type": "execute_result",
          "data": {
            "text/html": [
              "<div>\n",
              "<style scoped>\n",
              "    .dataframe tbody tr th:only-of-type {\n",
              "        vertical-align: middle;\n",
              "    }\n",
              "\n",
              "    .dataframe tbody tr th {\n",
              "        vertical-align: top;\n",
              "    }\n",
              "\n",
              "    .dataframe thead th {\n",
              "        text-align: right;\n",
              "    }\n",
              "</style>\n",
              "<table border=\"1\" class=\"dataframe\">\n",
              "  <thead>\n",
              "    <tr style=\"text-align: right;\">\n",
              "      <th></th>\n",
              "      <th>body type</th>\n",
              "      <th>fitting</th>\n",
              "      <th>bust_line</th>\n",
              "      <th>cup_size</th>\n",
              "    </tr>\n",
              "  </thead>\n",
              "  <tbody>\n",
              "    <tr>\n",
              "      <th>count</th>\n",
              "      <td>79477</td>\n",
              "      <td>79477</td>\n",
              "      <td>79477</td>\n",
              "      <td>79477</td>\n",
              "    </tr>\n",
              "    <tr>\n",
              "      <th>unique</th>\n",
              "      <td>7</td>\n",
              "      <td>2</td>\n",
              "      <td>11</td>\n",
              "      <td>11</td>\n",
              "    </tr>\n",
              "    <tr>\n",
              "      <th>top</th>\n",
              "      <td>hourglass</td>\n",
              "      <td>fit</td>\n",
              "      <td>34</td>\n",
              "      <td>c</td>\n",
              "    </tr>\n",
              "    <tr>\n",
              "      <th>freq</th>\n",
              "      <td>24744</td>\n",
              "      <td>56901</td>\n",
              "      <td>37537</td>\n",
              "      <td>22651</td>\n",
              "    </tr>\n",
              "  </tbody>\n",
              "</table>\n",
              "</div>"
            ],
            "text/plain": [
              "        body type fitting bust_line cup_size\n",
              "count       79477   79477     79477    79477\n",
              "unique          7       2        11       11\n",
              "top     hourglass     fit        34        c\n",
              "freq        24744   56901     37537    22651"
            ]
          },
          "metadata": {
            "tags": []
          },
          "execution_count": 242
        }
      ]
    },
    {
      "cell_type": "markdown",
      "metadata": {
        "id": "2u4x6dZVmLmW"
      },
      "source": [
        "# Model Prep"
      ]
    },
    {
      "cell_type": "code",
      "metadata": {
        "colab": {
          "base_uri": "https://localhost:8080/",
          "height": 204
        },
        "id": "z3SXYwEImLmW",
        "outputId": "1f3c8759-cda9-4a40-8e41-aad6bc677f24"
      },
      "source": [
        "#filter method: feature selection\n",
        "clothes_df.corr()"
      ],
      "execution_count": 243,
      "outputs": [
        {
          "output_type": "execute_result",
          "data": {
            "text/html": [
              "<div>\n",
              "<style scoped>\n",
              "    .dataframe tbody tr th:only-of-type {\n",
              "        vertical-align: middle;\n",
              "    }\n",
              "\n",
              "    .dataframe tbody tr th {\n",
              "        vertical-align: top;\n",
              "    }\n",
              "\n",
              "    .dataframe thead th {\n",
              "        text-align: right;\n",
              "    }\n",
              "</style>\n",
              "<table border=\"1\" class=\"dataframe\">\n",
              "  <thead>\n",
              "    <tr style=\"text-align: right;\">\n",
              "      <th></th>\n",
              "      <th>weight</th>\n",
              "      <th>rating</th>\n",
              "      <th>size</th>\n",
              "      <th>age</th>\n",
              "      <th>height_cm</th>\n",
              "    </tr>\n",
              "  </thead>\n",
              "  <tbody>\n",
              "    <tr>\n",
              "      <th>weight</th>\n",
              "      <td>1.000000</td>\n",
              "      <td>-0.015818</td>\n",
              "      <td>0.591490</td>\n",
              "      <td>0.043702</td>\n",
              "      <td>0.337471</td>\n",
              "    </tr>\n",
              "    <tr>\n",
              "      <th>rating</th>\n",
              "      <td>-0.015818</td>\n",
              "      <td>1.000000</td>\n",
              "      <td>-0.032322</td>\n",
              "      <td>-0.030601</td>\n",
              "      <td>0.003042</td>\n",
              "    </tr>\n",
              "    <tr>\n",
              "      <th>size</th>\n",
              "      <td>0.591490</td>\n",
              "      <td>-0.032322</td>\n",
              "      <td>1.000000</td>\n",
              "      <td>0.130274</td>\n",
              "      <td>0.262982</td>\n",
              "    </tr>\n",
              "    <tr>\n",
              "      <th>age</th>\n",
              "      <td>0.043702</td>\n",
              "      <td>-0.030601</td>\n",
              "      <td>0.130274</td>\n",
              "      <td>1.000000</td>\n",
              "      <td>-0.018413</td>\n",
              "    </tr>\n",
              "    <tr>\n",
              "      <th>height_cm</th>\n",
              "      <td>0.337471</td>\n",
              "      <td>0.003042</td>\n",
              "      <td>0.262982</td>\n",
              "      <td>-0.018413</td>\n",
              "      <td>1.000000</td>\n",
              "    </tr>\n",
              "  </tbody>\n",
              "</table>\n",
              "</div>"
            ],
            "text/plain": [
              "             weight    rating      size       age  height_cm\n",
              "weight     1.000000 -0.015818  0.591490  0.043702   0.337471\n",
              "rating    -0.015818  1.000000 -0.032322 -0.030601   0.003042\n",
              "size       0.591490 -0.032322  1.000000  0.130274   0.262982\n",
              "age        0.043702 -0.030601  0.130274  1.000000  -0.018413\n",
              "height_cm  0.337471  0.003042  0.262982 -0.018413   1.000000"
            ]
          },
          "metadata": {
            "tags": []
          },
          "execution_count": 243
        }
      ]
    },
    {
      "cell_type": "code",
      "metadata": {
        "colab": {
          "base_uri": "https://localhost:8080/"
        },
        "id": "qqbWzh2EmLmX",
        "outputId": "59982918-1681-411f-a3c0-a626f629e875"
      },
      "source": [
        "clothes_df.shape"
      ],
      "execution_count": 244,
      "outputs": [
        {
          "output_type": "execute_result",
          "data": {
            "text/plain": [
              "(79477, 9)"
            ]
          },
          "metadata": {
            "tags": []
          },
          "execution_count": 244
        }
      ]
    },
    {
      "cell_type": "code",
      "metadata": {
        "colab": {
          "base_uri": "https://localhost:8080/",
          "height": 35
        },
        "id": "muwNSOAlmLmX",
        "outputId": "4a4e5d25-99be-46be-f91d-f5261bc28c9a"
      },
      "source": [
        "'''clothes_df['fitting'] = clothes_df['fitting'].replace('fit', 1)\n",
        "clothes_df['fitting'] = clothes_df['fitting'].replace('not fit', 0)\n",
        "'''\n"
      ],
      "execution_count": 245,
      "outputs": [
        {
          "output_type": "execute_result",
          "data": {
            "application/vnd.google.colaboratory.intrinsic+json": {
              "type": "string"
            },
            "text/plain": [
              "\"clothes_df['fitting'] = clothes_df['fitting'].replace('fit', 1)\\nclothes_df['fitting'] = clothes_df['fitting'].replace('not fit', 0)\\n\""
            ]
          },
          "metadata": {
            "tags": []
          },
          "execution_count": 245
        }
      ]
    },
    {
      "cell_type": "code",
      "metadata": {
        "colab": {
          "base_uri": "https://localhost:8080/",
          "height": 204
        },
        "id": "w5WGgGC3mLmX",
        "outputId": "8d05e977-4afc-444e-e8eb-0990cfeb19a0"
      },
      "source": [
        "clothes_df.head()"
      ],
      "execution_count": 246,
      "outputs": [
        {
          "output_type": "execute_result",
          "data": {
            "text/html": [
              "<div>\n",
              "<style scoped>\n",
              "    .dataframe tbody tr th:only-of-type {\n",
              "        vertical-align: middle;\n",
              "    }\n",
              "\n",
              "    .dataframe tbody tr th {\n",
              "        vertical-align: top;\n",
              "    }\n",
              "\n",
              "    .dataframe thead th {\n",
              "        text-align: right;\n",
              "    }\n",
              "</style>\n",
              "<table border=\"1\" class=\"dataframe\">\n",
              "  <thead>\n",
              "    <tr style=\"text-align: right;\">\n",
              "      <th></th>\n",
              "      <th>weight</th>\n",
              "      <th>rating</th>\n",
              "      <th>body type</th>\n",
              "      <th>size</th>\n",
              "      <th>age</th>\n",
              "      <th>fitting</th>\n",
              "      <th>height_cm</th>\n",
              "      <th>bust_line</th>\n",
              "      <th>cup_size</th>\n",
              "    </tr>\n",
              "  </thead>\n",
              "  <tbody>\n",
              "    <tr>\n",
              "      <th>3</th>\n",
              "      <td>135</td>\n",
              "      <td>8.0</td>\n",
              "      <td>pear</td>\n",
              "      <td>2.079442</td>\n",
              "      <td>34</td>\n",
              "      <td>fit</td>\n",
              "      <td>165.10</td>\n",
              "      <td>34</td>\n",
              "      <td>c</td>\n",
              "    </tr>\n",
              "    <tr>\n",
              "      <th>5</th>\n",
              "      <td>138</td>\n",
              "      <td>8.0</td>\n",
              "      <td>athletic</td>\n",
              "      <td>2.079442</td>\n",
              "      <td>45</td>\n",
              "      <td>fit</td>\n",
              "      <td>172.72</td>\n",
              "      <td>32</td>\n",
              "      <td>b</td>\n",
              "    </tr>\n",
              "    <tr>\n",
              "      <th>6</th>\n",
              "      <td>112</td>\n",
              "      <td>10.0</td>\n",
              "      <td>hourglass</td>\n",
              "      <td>1.386294</td>\n",
              "      <td>27</td>\n",
              "      <td>fit</td>\n",
              "      <td>160.02</td>\n",
              "      <td>34</td>\n",
              "      <td>c</td>\n",
              "    </tr>\n",
              "    <tr>\n",
              "      <th>7</th>\n",
              "      <td>118</td>\n",
              "      <td>10.0</td>\n",
              "      <td>full bust</td>\n",
              "      <td>2.079442</td>\n",
              "      <td>65</td>\n",
              "      <td>fit</td>\n",
              "      <td>160.02</td>\n",
              "      <td>34</td>\n",
              "      <td>d+</td>\n",
              "    </tr>\n",
              "    <tr>\n",
              "      <th>10</th>\n",
              "      <td>135</td>\n",
              "      <td>8.0</td>\n",
              "      <td>athletic</td>\n",
              "      <td>2.484907</td>\n",
              "      <td>33</td>\n",
              "      <td>not fit</td>\n",
              "      <td>160.02</td>\n",
              "      <td>34</td>\n",
              "      <td>b</td>\n",
              "    </tr>\n",
              "  </tbody>\n",
              "</table>\n",
              "</div>"
            ],
            "text/plain": [
              "    weight  rating  body type      size  ...  fitting height_cm  bust_line cup_size\n",
              "3      135     8.0       pear  2.079442  ...      fit    165.10         34        c\n",
              "5      138     8.0   athletic  2.079442  ...      fit    172.72         32        b\n",
              "6      112    10.0  hourglass  1.386294  ...      fit    160.02         34        c\n",
              "7      118    10.0  full bust  2.079442  ...      fit    160.02         34       d+\n",
              "10     135     8.0   athletic  2.484907  ...  not fit    160.02         34        b\n",
              "\n",
              "[5 rows x 9 columns]"
            ]
          },
          "metadata": {
            "tags": []
          },
          "execution_count": 246
        }
      ]
    },
    {
      "cell_type": "code",
      "metadata": {
        "id": "dmXeXUTOmLmY"
      },
      "source": [
        "clothes_df = pd.concat([clothes_df, pd.get_dummies(clothes_df[[\"body type\", \"cup_size\", \"bust_line\"]])], axis=1)\n",
        "clothes_df.drop(columns=['body type', 'cup_size', 'bust_line'], axis=1, inplace=True)"
      ],
      "execution_count": 247,
      "outputs": []
    },
    {
      "cell_type": "code",
      "metadata": {
        "id": "I1UQEm9SmLmY"
      },
      "source": [
        "def remove_correlated_features(dataset, threshold=0.70):\n",
        "    col_corr = set()\n",
        "    corr_matrix = dataset.corr()\n",
        "    for i in range(len(corr_matrix.columns)):\n",
        "        for j in range(i):\n",
        "            if (corr_matrix.iloc[i, j] >= threshold) and (corr_matrix.columns[j] not in col_corr):\n",
        "                colname = corr_matrix.columns[i]\n",
        "                col_corr.add(colname)\n",
        "                if colname in dataset.columns:\n",
        "                    print(f'Deleted {colname} from dataset.')\n",
        "                    del dataset[colname]\n",
        "\n",
        "    return dataset\n",
        "\n",
        "clothes_df = remove_correlated_features(clothes_df)"
      ],
      "execution_count": 248,
      "outputs": []
    },
    {
      "cell_type": "markdown",
      "metadata": {
        "id": "5IbQBxX_mLmY"
      },
      "source": [
        "# Models"
      ]
    },
    {
      "cell_type": "code",
      "metadata": {
        "colab": {
          "base_uri": "https://localhost:8080/",
          "height": 258
        },
        "id": "yEINX5iomLmZ",
        "outputId": "13aa2168-3c1d-41dd-d14e-143814d96993"
      },
      "source": [
        "clothes_df.head()"
      ],
      "execution_count": 249,
      "outputs": [
        {
          "output_type": "execute_result",
          "data": {
            "text/html": [
              "<div>\n",
              "<style scoped>\n",
              "    .dataframe tbody tr th:only-of-type {\n",
              "        vertical-align: middle;\n",
              "    }\n",
              "\n",
              "    .dataframe tbody tr th {\n",
              "        vertical-align: top;\n",
              "    }\n",
              "\n",
              "    .dataframe thead th {\n",
              "        text-align: right;\n",
              "    }\n",
              "</style>\n",
              "<table border=\"1\" class=\"dataframe\">\n",
              "  <thead>\n",
              "    <tr style=\"text-align: right;\">\n",
              "      <th></th>\n",
              "      <th>weight</th>\n",
              "      <th>rating</th>\n",
              "      <th>size</th>\n",
              "      <th>age</th>\n",
              "      <th>fitting</th>\n",
              "      <th>height_cm</th>\n",
              "      <th>body type_apple</th>\n",
              "      <th>body type_athletic</th>\n",
              "      <th>body type_full bust</th>\n",
              "      <th>body type_hourglass</th>\n",
              "      <th>body type_pear</th>\n",
              "      <th>body type_petite</th>\n",
              "      <th>body type_straight &amp; narrow</th>\n",
              "      <th>cup_size_a</th>\n",
              "      <th>cup_size_aa</th>\n",
              "      <th>cup_size_b</th>\n",
              "      <th>cup_size_c</th>\n",
              "      <th>cup_size_d</th>\n",
              "      <th>cup_size_d+</th>\n",
              "      <th>cup_size_dd</th>\n",
              "      <th>cup_size_e</th>\n",
              "      <th>cup_size_f</th>\n",
              "      <th>cup_size_g</th>\n",
              "      <th>cup_size_h</th>\n",
              "      <th>bust_line_28</th>\n",
              "      <th>bust_line_30</th>\n",
              "      <th>bust_line_32</th>\n",
              "      <th>bust_line_34</th>\n",
              "      <th>bust_line_36</th>\n",
              "      <th>bust_line_38</th>\n",
              "      <th>bust_line_40</th>\n",
              "      <th>bust_line_42</th>\n",
              "      <th>bust_line_44</th>\n",
              "      <th>bust_line_46</th>\n",
              "      <th>bust_line_48</th>\n",
              "    </tr>\n",
              "  </thead>\n",
              "  <tbody>\n",
              "    <tr>\n",
              "      <th>3</th>\n",
              "      <td>135</td>\n",
              "      <td>8.0</td>\n",
              "      <td>2.079442</td>\n",
              "      <td>34</td>\n",
              "      <td>fit</td>\n",
              "      <td>165.10</td>\n",
              "      <td>0</td>\n",
              "      <td>0</td>\n",
              "      <td>0</td>\n",
              "      <td>0</td>\n",
              "      <td>1</td>\n",
              "      <td>0</td>\n",
              "      <td>0</td>\n",
              "      <td>0</td>\n",
              "      <td>0</td>\n",
              "      <td>0</td>\n",
              "      <td>1</td>\n",
              "      <td>0</td>\n",
              "      <td>0</td>\n",
              "      <td>0</td>\n",
              "      <td>0</td>\n",
              "      <td>0</td>\n",
              "      <td>0</td>\n",
              "      <td>0</td>\n",
              "      <td>0</td>\n",
              "      <td>0</td>\n",
              "      <td>0</td>\n",
              "      <td>1</td>\n",
              "      <td>0</td>\n",
              "      <td>0</td>\n",
              "      <td>0</td>\n",
              "      <td>0</td>\n",
              "      <td>0</td>\n",
              "      <td>0</td>\n",
              "      <td>0</td>\n",
              "    </tr>\n",
              "    <tr>\n",
              "      <th>5</th>\n",
              "      <td>138</td>\n",
              "      <td>8.0</td>\n",
              "      <td>2.079442</td>\n",
              "      <td>45</td>\n",
              "      <td>fit</td>\n",
              "      <td>172.72</td>\n",
              "      <td>0</td>\n",
              "      <td>1</td>\n",
              "      <td>0</td>\n",
              "      <td>0</td>\n",
              "      <td>0</td>\n",
              "      <td>0</td>\n",
              "      <td>0</td>\n",
              "      <td>0</td>\n",
              "      <td>0</td>\n",
              "      <td>1</td>\n",
              "      <td>0</td>\n",
              "      <td>0</td>\n",
              "      <td>0</td>\n",
              "      <td>0</td>\n",
              "      <td>0</td>\n",
              "      <td>0</td>\n",
              "      <td>0</td>\n",
              "      <td>0</td>\n",
              "      <td>0</td>\n",
              "      <td>0</td>\n",
              "      <td>1</td>\n",
              "      <td>0</td>\n",
              "      <td>0</td>\n",
              "      <td>0</td>\n",
              "      <td>0</td>\n",
              "      <td>0</td>\n",
              "      <td>0</td>\n",
              "      <td>0</td>\n",
              "      <td>0</td>\n",
              "    </tr>\n",
              "    <tr>\n",
              "      <th>6</th>\n",
              "      <td>112</td>\n",
              "      <td>10.0</td>\n",
              "      <td>1.386294</td>\n",
              "      <td>27</td>\n",
              "      <td>fit</td>\n",
              "      <td>160.02</td>\n",
              "      <td>0</td>\n",
              "      <td>0</td>\n",
              "      <td>0</td>\n",
              "      <td>1</td>\n",
              "      <td>0</td>\n",
              "      <td>0</td>\n",
              "      <td>0</td>\n",
              "      <td>0</td>\n",
              "      <td>0</td>\n",
              "      <td>0</td>\n",
              "      <td>1</td>\n",
              "      <td>0</td>\n",
              "      <td>0</td>\n",
              "      <td>0</td>\n",
              "      <td>0</td>\n",
              "      <td>0</td>\n",
              "      <td>0</td>\n",
              "      <td>0</td>\n",
              "      <td>0</td>\n",
              "      <td>0</td>\n",
              "      <td>0</td>\n",
              "      <td>1</td>\n",
              "      <td>0</td>\n",
              "      <td>0</td>\n",
              "      <td>0</td>\n",
              "      <td>0</td>\n",
              "      <td>0</td>\n",
              "      <td>0</td>\n",
              "      <td>0</td>\n",
              "    </tr>\n",
              "    <tr>\n",
              "      <th>7</th>\n",
              "      <td>118</td>\n",
              "      <td>10.0</td>\n",
              "      <td>2.079442</td>\n",
              "      <td>65</td>\n",
              "      <td>fit</td>\n",
              "      <td>160.02</td>\n",
              "      <td>0</td>\n",
              "      <td>0</td>\n",
              "      <td>1</td>\n",
              "      <td>0</td>\n",
              "      <td>0</td>\n",
              "      <td>0</td>\n",
              "      <td>0</td>\n",
              "      <td>0</td>\n",
              "      <td>0</td>\n",
              "      <td>0</td>\n",
              "      <td>0</td>\n",
              "      <td>0</td>\n",
              "      <td>1</td>\n",
              "      <td>0</td>\n",
              "      <td>0</td>\n",
              "      <td>0</td>\n",
              "      <td>0</td>\n",
              "      <td>0</td>\n",
              "      <td>0</td>\n",
              "      <td>0</td>\n",
              "      <td>0</td>\n",
              "      <td>1</td>\n",
              "      <td>0</td>\n",
              "      <td>0</td>\n",
              "      <td>0</td>\n",
              "      <td>0</td>\n",
              "      <td>0</td>\n",
              "      <td>0</td>\n",
              "      <td>0</td>\n",
              "    </tr>\n",
              "    <tr>\n",
              "      <th>10</th>\n",
              "      <td>135</td>\n",
              "      <td>8.0</td>\n",
              "      <td>2.484907</td>\n",
              "      <td>33</td>\n",
              "      <td>not fit</td>\n",
              "      <td>160.02</td>\n",
              "      <td>0</td>\n",
              "      <td>1</td>\n",
              "      <td>0</td>\n",
              "      <td>0</td>\n",
              "      <td>0</td>\n",
              "      <td>0</td>\n",
              "      <td>0</td>\n",
              "      <td>0</td>\n",
              "      <td>0</td>\n",
              "      <td>1</td>\n",
              "      <td>0</td>\n",
              "      <td>0</td>\n",
              "      <td>0</td>\n",
              "      <td>0</td>\n",
              "      <td>0</td>\n",
              "      <td>0</td>\n",
              "      <td>0</td>\n",
              "      <td>0</td>\n",
              "      <td>0</td>\n",
              "      <td>0</td>\n",
              "      <td>0</td>\n",
              "      <td>1</td>\n",
              "      <td>0</td>\n",
              "      <td>0</td>\n",
              "      <td>0</td>\n",
              "      <td>0</td>\n",
              "      <td>0</td>\n",
              "      <td>0</td>\n",
              "      <td>0</td>\n",
              "    </tr>\n",
              "  </tbody>\n",
              "</table>\n",
              "</div>"
            ],
            "text/plain": [
              "    weight  rating      size  ...  bust_line_44 bust_line_46  bust_line_48\n",
              "3      135     8.0  2.079442  ...             0            0             0\n",
              "5      138     8.0  2.079442  ...             0            0             0\n",
              "6      112    10.0  1.386294  ...             0            0             0\n",
              "7      118    10.0  2.079442  ...             0            0             0\n",
              "10     135     8.0  2.484907  ...             0            0             0\n",
              "\n",
              "[5 rows x 35 columns]"
            ]
          },
          "metadata": {
            "tags": []
          },
          "execution_count": 249
        }
      ]
    },
    {
      "cell_type": "code",
      "metadata": {
        "id": "jTysZ4QMmLmZ"
      },
      "source": [
        "clothes_df['fitting'] = clothes_df['fitting'].replace('fit', 0)\n",
        "clothes_df['fitting'] = clothes_df['fitting'].replace('not fit', 1)"
      ],
      "execution_count": 250,
      "outputs": []
    },
    {
      "cell_type": "code",
      "metadata": {
        "colab": {
          "base_uri": "https://localhost:8080/",
          "height": 204
        },
        "id": "5n8Q8xppmLma",
        "outputId": "8b400db2-0011-4c38-dfa1-f2eac5622815"
      },
      "source": [
        "clothes_df = clothes_df[['age', 'weight', 'height_cm', 'rating', 'size', 'fitting']]\n",
        "clothes_df['size'] = round(clothes_df['size']).astype(int)\n",
        "clothes_df.head()"
      ],
      "execution_count": 251,
      "outputs": [
        {
          "output_type": "execute_result",
          "data": {
            "text/html": [
              "<div>\n",
              "<style scoped>\n",
              "    .dataframe tbody tr th:only-of-type {\n",
              "        vertical-align: middle;\n",
              "    }\n",
              "\n",
              "    .dataframe tbody tr th {\n",
              "        vertical-align: top;\n",
              "    }\n",
              "\n",
              "    .dataframe thead th {\n",
              "        text-align: right;\n",
              "    }\n",
              "</style>\n",
              "<table border=\"1\" class=\"dataframe\">\n",
              "  <thead>\n",
              "    <tr style=\"text-align: right;\">\n",
              "      <th></th>\n",
              "      <th>age</th>\n",
              "      <th>weight</th>\n",
              "      <th>height_cm</th>\n",
              "      <th>rating</th>\n",
              "      <th>size</th>\n",
              "      <th>fitting</th>\n",
              "    </tr>\n",
              "  </thead>\n",
              "  <tbody>\n",
              "    <tr>\n",
              "      <th>3</th>\n",
              "      <td>34</td>\n",
              "      <td>135</td>\n",
              "      <td>165.10</td>\n",
              "      <td>8.0</td>\n",
              "      <td>2</td>\n",
              "      <td>0</td>\n",
              "    </tr>\n",
              "    <tr>\n",
              "      <th>5</th>\n",
              "      <td>45</td>\n",
              "      <td>138</td>\n",
              "      <td>172.72</td>\n",
              "      <td>8.0</td>\n",
              "      <td>2</td>\n",
              "      <td>0</td>\n",
              "    </tr>\n",
              "    <tr>\n",
              "      <th>6</th>\n",
              "      <td>27</td>\n",
              "      <td>112</td>\n",
              "      <td>160.02</td>\n",
              "      <td>10.0</td>\n",
              "      <td>1</td>\n",
              "      <td>0</td>\n",
              "    </tr>\n",
              "    <tr>\n",
              "      <th>7</th>\n",
              "      <td>65</td>\n",
              "      <td>118</td>\n",
              "      <td>160.02</td>\n",
              "      <td>10.0</td>\n",
              "      <td>2</td>\n",
              "      <td>0</td>\n",
              "    </tr>\n",
              "    <tr>\n",
              "      <th>10</th>\n",
              "      <td>33</td>\n",
              "      <td>135</td>\n",
              "      <td>160.02</td>\n",
              "      <td>8.0</td>\n",
              "      <td>2</td>\n",
              "      <td>1</td>\n",
              "    </tr>\n",
              "  </tbody>\n",
              "</table>\n",
              "</div>"
            ],
            "text/plain": [
              "    age  weight  height_cm  rating  size  fitting\n",
              "3    34     135     165.10     8.0     2        0\n",
              "5    45     138     172.72     8.0     2        0\n",
              "6    27     112     160.02    10.0     1        0\n",
              "7    65     118     160.02    10.0     2        0\n",
              "10   33     135     160.02     8.0     2        1"
            ]
          },
          "metadata": {
            "tags": []
          },
          "execution_count": 251
        }
      ]
    },
    {
      "cell_type": "code",
      "metadata": {
        "colab": {
          "base_uri": "https://localhost:8080/"
        },
        "id": "gBfMwpWatwhy",
        "outputId": "cb115ce3-99c4-402c-9abf-2edddb9e8242"
      },
      "source": [
        "from sklearn.model_selection import train_test_split \r\n",
        "\r\n",
        "X = clothes_df.drop(columns='fitting', axis=1)\r\n",
        "y = clothes_df['fitting']\r\n",
        "  \r\n",
        "# split into 70:30 ration \r\n",
        "X_train, X_test, y_train, y_test = train_test_split(X, y, test_size = 0.2) \r\n",
        "  \r\n",
        "# describes info about train and test set \r\n",
        "print(\"Number transactions X_train dataset: \", X_train.shape) \r\n",
        "print(\"Number transactions y_train dataset: \", y_train.shape) \r\n",
        "print(\"Number transactions X_test dataset: \", X_test.shape) \r\n",
        "print(\"Number transactions y_test dataset: \", y_test.shape) "
      ],
      "execution_count": 252,
      "outputs": [
        {
          "output_type": "stream",
          "text": [
            "Number transactions X_train dataset:  (63581, 5)\n",
            "Number transactions y_train dataset:  (63581,)\n",
            "Number transactions X_test dataset:  (15896, 5)\n",
            "Number transactions y_test dataset:  (15896,)\n"
          ],
          "name": "stdout"
        }
      ]
    },
    {
      "cell_type": "code",
      "metadata": {
        "id": "GT7t1O2GmLmc",
        "colab": {
          "base_uri": "https://localhost:8080/"
        },
        "outputId": "73788811-3c47-4cb0-b796-cab98de4150f"
      },
      "source": [
        "# Checking whether my model is better\n",
        "from sklearn.dummy import DummyClassifier\n",
        "\n",
        "dummy = DummyClassifier(strategy = 'most_frequent')\n",
        "dummy.fit(X_train, y_train)\n",
        "dummy.score(X_test, y_test)"
      ],
      "execution_count": 253,
      "outputs": [
        {
          "output_type": "execute_result",
          "data": {
            "text/plain": [
              "0.71527428283845"
            ]
          },
          "metadata": {
            "tags": []
          },
          "execution_count": 253
        }
      ]
    },
    {
      "cell_type": "markdown",
      "metadata": {
        "id": "gVSqRW38C-mH"
      },
      "source": [
        "### Without SMOTE"
      ]
    },
    {
      "cell_type": "code",
      "metadata": {
        "colab": {
          "base_uri": "https://localhost:8080/"
        },
        "id": "Expfovv1uGSE",
        "outputId": "14a552ad-52cf-4b4b-fb44-6640a4ef7ce6"
      },
      "source": [
        "from sklearn.metrics import confusion_matrix, classification_report \r\n",
        "from sklearn.linear_model import LogisticRegression\r\n",
        "# logistic regression object \r\n",
        "lr = LogisticRegression(solver='lbfgs', penalty='l2', C=1, max_iter=500) \r\n",
        "  \r\n",
        "# train the model on train set \r\n",
        "lr.fit(X_train, y_train.ravel()) \r\n",
        "  \r\n",
        "predictions = lr.predict(X_test) \r\n",
        "  \r\n",
        "# print classification report \r\n",
        "print(classification_report(y_test, predictions)) \r\n",
        "print(f\"\\nTrain Score: {lr.score(X_train, y_train)}\")\r\n",
        "print(f\"Test Score: {lr.score(X_test, y_test)}\")"
      ],
      "execution_count": 254,
      "outputs": [
        {
          "output_type": "stream",
          "text": [
            "              precision    recall  f1-score   support\n",
            "\n",
            "           0       0.74      0.95      0.83     11370\n",
            "           1       0.57      0.15      0.24      4526\n",
            "\n",
            "    accuracy                           0.73     15896\n",
            "   macro avg       0.65      0.55      0.54     15896\n",
            "weighted avg       0.69      0.73      0.66     15896\n",
            "\n",
            "\n",
            "Train Score: 0.7268838174926472\n",
            "Test Score: 0.7259058882737796\n"
          ],
          "name": "stdout"
        }
      ]
    },
    {
      "cell_type": "markdown",
      "metadata": {
        "id": "pwrA6s71y0c7"
      },
      "source": [
        "## With SMOTE"
      ]
    },
    {
      "cell_type": "code",
      "metadata": {
        "colab": {
          "base_uri": "https://localhost:8080/"
        },
        "id": "xkoDWg1zyua2",
        "outputId": "483946d9-65cd-4278-8add-bfe25c6721f8"
      },
      "source": [
        "print(\"Before OverSampling, counts of label '1': {}\".format(sum(y_train == 1))) \r\n",
        "print(\"Before OverSampling, counts of label '0': {} \\n\".format(sum(y_train == 0))) \r\n",
        "  \r\n",
        "# import SMOTE module from imblearn library \r\n",
        "# pip install imblearn (if you don't have imblearn in your system) \r\n",
        "from imblearn.over_sampling import SMOTE \r\n",
        "sm = SMOTE(random_state = 2) \r\n",
        "X_train_res, y_train_res = sm.fit_sample(X_train, y_train.ravel()) \r\n",
        "  \r\n",
        "print('After OverSampling, the shape of train_X: {}'.format(X_train_res.shape)) \r\n",
        "print('After OverSampling, the shape of train_y: {} \\n'.format(y_train_res.shape)) \r\n",
        "  \r\n",
        "print(\"After OverSampling, counts of label '1': {}\".format(sum(y_train_res == 1))) \r\n",
        "print(\"After OverSampling, counts of label '0': {}\".format(sum(y_train_res == 0)))"
      ],
      "execution_count": 255,
      "outputs": [
        {
          "output_type": "stream",
          "text": [
            "Before OverSampling, counts of label '1': 18050\n",
            "Before OverSampling, counts of label '0': 45531 \n",
            "\n",
            "After OverSampling, the shape of train_X: (91062, 5)\n",
            "After OverSampling, the shape of train_y: (91062,) \n",
            "\n",
            "After OverSampling, counts of label '1': 45531\n",
            "After OverSampling, counts of label '0': 45531\n"
          ],
          "name": "stdout"
        }
      ]
    },
    {
      "cell_type": "code",
      "metadata": {
        "colab": {
          "base_uri": "https://localhost:8080/"
        },
        "id": "Mk68yHkeyyFT",
        "outputId": "17155aab-e8a9-42de-c7b6-22df0a3c2432"
      },
      "source": [
        "from sklearn.metrics import confusion_matrix, classification_report \r\n",
        "from sklearn.linear_model import LogisticRegression\r\n",
        "# logistic regression object \r\n",
        "lr1 = LogisticRegression(solver='lbfgs', penalty='l2', C=1, max_iter=500) \r\n",
        "  \r\n",
        "# train the model on train set \r\n",
        "lr1.fit(X_train_res, y_train_res.ravel()) \r\n",
        "  \r\n",
        "predictions = lr1.predict(X_test) \r\n",
        "  \r\n",
        "# print classification report \r\n",
        "print(classification_report(y_test, predictions))\r\n",
        "print(f\"\\nTrain Score: {lr1.score(X_train_res, y_train_res.ravel())}\")\r\n",
        "print(f\"Test Score: {lr1.score(X_test, y_test)}\")"
      ],
      "execution_count": 256,
      "outputs": [
        {
          "output_type": "stream",
          "text": [
            "              precision    recall  f1-score   support\n",
            "\n",
            "           0       0.79      0.68      0.73     11370\n",
            "           1       0.40      0.54      0.46      4526\n",
            "\n",
            "    accuracy                           0.64     15896\n",
            "   macro avg       0.60      0.61      0.60     15896\n",
            "weighted avg       0.68      0.64      0.65     15896\n",
            "\n",
            "\n",
            "Train Score: 0.6094858448090312\n",
            "Test Score: 0.642174131857071\n"
          ],
          "name": "stdout"
        }
      ]
    },
    {
      "cell_type": "markdown",
      "metadata": {
        "id": "belz5ZuAuaWw"
      },
      "source": [
        "## NearMiss"
      ]
    },
    {
      "cell_type": "code",
      "metadata": {
        "colab": {
          "base_uri": "https://localhost:8080/"
        },
        "id": "kEB5AfMAuW6a",
        "outputId": "88099ca5-bed8-4287-dc73-cf2e5b5dacaf"
      },
      "source": [
        "print(\"Before Undersampling, counts of label '1': {}\".format(sum(y_train == 1))) \r\n",
        "print(\"Before Undersampling, counts of label '0': {} \\n\".format(sum(y_train == 0))) \r\n",
        "  \r\n",
        "# apply near miss \r\n",
        "from imblearn.under_sampling import NearMiss \r\n",
        "nr = NearMiss() \r\n",
        "  \r\n",
        "X_train_miss, y_train_miss = nr.fit_sample(X_train, y_train.ravel()) \r\n",
        "  \r\n",
        "print('After Undersampling, the shape of train_X: {}'.format(X_train_miss.shape)) \r\n",
        "print('After Undersampling, the shape of train_y: {} \\n'.format(y_train_miss.shape)) \r\n",
        "  \r\n",
        "print(\"After Undersampling, counts of label '1': {}\".format(sum(y_train_miss == 1))) \r\n",
        "print(\"After Undersampling, counts of label '0': {}\".format(sum(y_train_miss == 0))) "
      ],
      "execution_count": 257,
      "outputs": [
        {
          "output_type": "stream",
          "text": [
            "Before Undersampling, counts of label '1': 18050\n",
            "Before Undersampling, counts of label '0': 45531 \n",
            "\n",
            "After Undersampling, the shape of train_X: (36100, 5)\n",
            "After Undersampling, the shape of train_y: (36100,) \n",
            "\n",
            "After Undersampling, counts of label '1': 18050\n",
            "After Undersampling, counts of label '0': 18050\n"
          ],
          "name": "stdout"
        }
      ]
    },
    {
      "cell_type": "code",
      "metadata": {
        "colab": {
          "base_uri": "https://localhost:8080/"
        },
        "id": "Ik_367nEuZiP",
        "outputId": "ac508bd7-be84-473e-f364-0664d8d5e175"
      },
      "source": [
        "# train the model on train set \r\n",
        "lr2 = LogisticRegression(solver='lbfgs', penalty='l2', C=1, max_iter=500) \r\n",
        "lr2.fit(X_train_miss, y_train_miss.ravel()) \r\n",
        "predictions = lr2.predict(X_test) \r\n",
        "  \r\n",
        "# print classification report \r\n",
        "print(classification_report(y_test, predictions))\r\n",
        "\r\n",
        "print(f\"\\nTrain Score: {lr2.score(X_train_miss, y_train_miss.ravel())}\")\r\n",
        "print(f\"Test Score: {lr2.score(X_test, y_test)}\")"
      ],
      "execution_count": 258,
      "outputs": [
        {
          "output_type": "stream",
          "text": [
            "              precision    recall  f1-score   support\n",
            "\n",
            "           0       0.78      0.58      0.67     11370\n",
            "           1       0.36      0.59      0.45      4526\n",
            "\n",
            "    accuracy                           0.59     15896\n",
            "   macro avg       0.57      0.59      0.56     15896\n",
            "weighted avg       0.66      0.59      0.61     15896\n",
            "\n",
            "\n",
            "Train Score: 0.6567313019390582\n",
            "Test Score: 0.5867513839959738\n"
          ],
          "name": "stdout"
        }
      ]
    },
    {
      "cell_type": "code",
      "metadata": {
        "id": "V6DM8-xhmLmb",
        "colab": {
          "base_uri": "https://localhost:8080/"
        },
        "outputId": "48222131-3397-409b-a7df-e012a39620b6"
      },
      "source": [
        "# Grid search cross validation\n",
        "import warnings\n",
        "\n",
        "warnings.filterwarnings('ignore')\n",
        "\n",
        "from sklearn.model_selection import GridSearchCV\n",
        "from sklearn.linear_model import LogisticRegression\n",
        "grid={\"C\": [0.1, 1,5,10], \"penalty\":[\"l1\",\"l2\"], 'max_iter': [300, 500,1000,1500]}# l1 lasso l2 ridge\n",
        "logreg=LogisticRegression()\n",
        "logreg_cv=GridSearchCV(logreg,grid,cv=10)\n",
        "logreg_cv.fit(X_train,y_train)\n",
        "\n",
        "print(\"tuned hpyerparameters :(best parameters) \",logreg_cv.best_params_)\n",
        "print(\"accuracy :\",logreg_cv.best_score_)"
      ],
      "execution_count": 259,
      "outputs": [
        {
          "output_type": "stream",
          "text": [
            "tuned hpyerparameters :(best parameters)  {'C': 0.1, 'max_iter': 300, 'penalty': 'l2'}\n",
            "accuracy : 0.7268838329616422\n"
          ],
          "name": "stdout"
        }
      ]
    },
    {
      "cell_type": "code",
      "metadata": {
        "id": "z15MpRtvmLmc",
        "colab": {
          "base_uri": "https://localhost:8080/"
        },
        "outputId": "f0a1ac44-c496-4b4a-8584-21c19c5c60da"
      },
      "source": [
        "# buidling model and cross validation\n",
        "from sklearn.model_selection import train_test_split, cross_val_score\n",
        "from sklearn.linear_model import LogisticRegression\n",
        "\n",
        "lr_clf = LogisticRegression(solver='lbfgs', penalty='l2', C=1, max_iter=500)\n",
        "lr_cv_scores = cross_val_score(lr_clf, X_train_res, y_train_res, cv=5)\n",
        "\n",
        "print('Accuracy scores for the 5 folds: ', lr_cv_scores)\n",
        "print('Mean cross validation score: {:.3f}'.format(np.mean(lr_cv_scores)))"
      ],
      "execution_count": 260,
      "outputs": [
        {
          "output_type": "stream",
          "text": [
            "Accuracy scores for the 5 folds:  [0.61532971 0.60841157 0.60811553 0.6122886  0.60317373]\n",
            "Mean cross validation score: 0.609\n"
          ],
          "name": "stdout"
        }
      ]
    },
    {
      "cell_type": "markdown",
      "metadata": {
        "id": "NEhxToWDmLmd"
      },
      "source": [
        "# Logistic Regression Metrics"
      ]
    },
    {
      "cell_type": "code",
      "metadata": {
        "id": "2Pb_6yYNmLmc",
        "colab": {
          "base_uri": "https://localhost:8080/"
        },
        "outputId": "14454f1a-9ae2-4867-cc22-d7e79d0bf54c"
      },
      "source": [
        "# fitting and score model\n",
        "\n",
        "lr_clf.fit(X_train_res, y_train_res.ravel())\n",
        "\n",
        "print(lr_clf.score(X_train_res, y_train_res.ravel()))\n",
        "print(lr_clf.score(X_test, y_test))"
      ],
      "execution_count": 261,
      "outputs": [
        {
          "output_type": "stream",
          "text": [
            "0.6094858448090312\n",
            "0.642174131857071\n"
          ],
          "name": "stdout"
        }
      ]
    },
    {
      "cell_type": "code",
      "metadata": {
        "id": "vDn9ndKdmLmd"
      },
      "source": [
        "#imports\n",
        "from sklearn.metrics import confusion_matrix\n",
        "from sklearn.metrics import accuracy_score, precision_score, recall_score, f1_score, fbeta_score, classification_report\n",
        "from sklearn.metrics import roc_curve\n",
        "from sklearn.metrics import roc_auc_score"
      ],
      "execution_count": 263,
      "outputs": []
    },
    {
      "cell_type": "code",
      "metadata": {
        "id": "K5GvjDUUmLmd",
        "colab": {
          "base_uri": "https://localhost:8080/"
        },
        "outputId": "241c0330-1104-4b96-cf87-21526960469b"
      },
      "source": [
        "predictions = lr1.predict(X_test)\n",
        "\n",
        "confusion = confusion_matrix(y_test, predictions, labels=[0,1])\n",
        "print(confusion)"
      ],
      "execution_count": 264,
      "outputs": [
        {
          "output_type": "stream",
          "text": [
            "[[7782 3588]\n",
            " [2100 2426]]\n"
          ],
          "name": "stdout"
        }
      ]
    },
    {
      "cell_type": "code",
      "metadata": {
        "id": "faxytJ8mmLme"
      },
      "source": [
        "def plot_confusion_matrix(cm,\n",
        "                          target_names,\n",
        "                          title='Confusion matrix',\n",
        "                          cmap=None,\n",
        "                          normalize=True):\n",
        "    \"\"\"\n",
        "    Given a scikit-learn confusion matrix (CM), make a nice plot.\n",
        "\n",
        "    Arguments\n",
        "    ---------\n",
        "    cm:           Confusion matrix from sklearn.metrics.confusion_matrix\n",
        "\n",
        "    target_names: Given classification classes, such as [0, 1, 2]\n",
        "                  The class names, for example, ['high', 'medium', 'low']\n",
        "\n",
        "    title:        The text to display at the top of the matrix\n",
        "\n",
        "    cmap:         The gradient of the values displayed from matplotlib.pyplot.cm\n",
        "                  See http://matplotlib.org/examples/color/colormaps_reference.html\n",
        "                  `plt.get_cmap('jet')` or `plt.cm.Blues`\n",
        "\n",
        "    normalize:    If `False`, plot the raw numbers\n",
        "                  If `True`, plot the proportions\n",
        "\n",
        "    Usage\n",
        "    -----\n",
        "    plot_confusion_matrix(cm           = cm,                  # Confusion matrix created by\n",
        "                                                              # `sklearn.metrics.confusion_matrix`\n",
        "                          normalize    = True,                # Show proportions\n",
        "                          target_names = y_labels_vals,       # List of names of the classes\n",
        "                          title        = best_estimator_name) # Title of graph\n",
        "\n",
        "    Citation\n",
        "    ---------\n",
        "    http://scikit-learn.org/stable/auto_examples/model_selection/plot_confusion_matrix.html\n",
        "\n",
        "    \"\"\"\n",
        "    import matplotlib.pyplot as plt\n",
        "    import numpy as np\n",
        "    import itertools\n",
        "\n",
        "    accuracy = np.trace(cm) / float(np.sum(cm))\n",
        "    misclass = 1 - accuracy\n",
        "\n",
        "    if cmap is None:\n",
        "        cmap = plt.get_cmap('Blues')\n",
        "\n",
        "    plt.figure(figsize=(8, 6))\n",
        "    plt.imshow(cm, interpolation='nearest', cmap=cmap)\n",
        "    plt.title(title)\n",
        "    plt.colorbar()\n",
        "\n",
        "    if target_names is not None:\n",
        "        tick_marks = np.arange(len(target_names))\n",
        "        plt.xticks(tick_marks, target_names, rotation=45)\n",
        "        plt.yticks(tick_marks, target_names)\n",
        "\n",
        "    if normalize:\n",
        "        cm = cm.astype('float') / cm.sum(axis=1)[:, np.newaxis]\n",
        "\n",
        "\n",
        "    thresh = cm.max() / 1.5 if normalize else cm.max() / 2\n",
        "    for i, j in itertools.product(range(cm.shape[0]), range(cm.shape[1])):\n",
        "        if normalize:\n",
        "            plt.text(j, i, \"{:0.4f}\".format(cm[i, j]),\n",
        "                     horizontalalignment=\"center\",\n",
        "                     color=\"white\" if cm[i, j] > thresh else \"black\")\n",
        "        else:\n",
        "            plt.text(j, i, \"{:,}\".format(cm[i, j]),\n",
        "                     horizontalalignment=\"center\",\n",
        "                     color=\"white\" if cm[i, j] > thresh else \"black\")\n",
        "\n",
        "\n",
        "    plt.tight_layout()\n",
        "    plt.ylabel('True label')\n",
        "    plt.xlabel('Predicted label\\naccuracy={:0.4f}; misclass={:0.4f}'.format(accuracy, misclass))\n",
        "    plt.show()"
      ],
      "execution_count": 265,
      "outputs": []
    },
    {
      "cell_type": "code",
      "metadata": {
        "scrolled": true,
        "id": "RwEZ4wPJmLmf",
        "colab": {
          "base_uri": "https://localhost:8080/",
          "height": 467
        },
        "outputId": "6f85d866-4c20-4e64-d1b5-3e9c6d8c2393"
      },
      "source": [
        "plot_confusion_matrix(cm=confusion, target_names = ['fit', 'Not fit'], title = 'Confusion Matrix',normalize=False)\n"
      ],
      "execution_count": 266,
      "outputs": [
        {
          "output_type": "display_data",
          "data": {
            "image/png": "[encoded data removed]",
            "text/plain": [
              "<Figure size 576x432 with 2 Axes>"
            ]
          },
          "metadata": {
            "tags": [],
            "needs_background": "light"
          }
        }
      ]
    },
    {
      "cell_type": "code",
      "metadata": {
        "id": "yUiFuy84mLmh",
        "colab": {
          "base_uri": "https://localhost:8080/"
        },
        "outputId": "610bc1e7-2b8b-4bce-c28b-c8452c081f35"
      },
      "source": [
        "#predicting the first 30 values\n",
        "probs = lr1.predict_proba(X_test)[:, 1]\n",
        "print(probs[1:30])"
      ],
      "execution_count": 267,
      "outputs": [
        {
          "output_type": "stream",
          "text": [
            "[0.40122598 0.40877563 0.36643141 0.58917238 0.71817856 0.43212752\n",
            " 0.42954796 0.59039153 0.4064007  0.38963071 0.42336401 0.39916631\n",
            " 0.41442815 0.74411989 0.56701423 0.40884563 0.41996557 0.41918011\n",
            " 0.57542088 0.40670007 0.581096   0.38978734 0.42956521 0.5835792\n",
            " 0.39810728 0.73876548 0.5877838  0.41029543 0.3973347 ]\n"
          ],
          "name": "stdout"
        }
      ]
    },
    {
      "cell_type": "code",
      "metadata": {
        "id": "q1IHFW4WmLmh"
      },
      "source": [
        "# building an roc graph\n",
        "fpr, tpr, thresholds = roc_curve(y_test, probs)"
      ],
      "execution_count": 268,
      "outputs": []
    },
    {
      "cell_type": "code",
      "metadata": {
        "id": "s1YeCeklmLmi",
        "colab": {
          "base_uri": "https://localhost:8080/",
          "height": 404
        },
        "outputId": "5d1dafca-b48e-4d93-c88d-9d322e986db6"
      },
      "source": [
        "#ROC graph\n",
        "fig = plt.figure(figsize = (6, 6))\n",
        "plt.plot([0, 1], [0, 1], 'k--')\n",
        "plt.plot(fpr, tpr)\n",
        "plt.fill(fpr, tpr, 'grey', alpha=0.3)\n",
        "plt.xlabel('False Positive Rate')\n",
        "plt.ylabel('True Positive Rate')\n",
        "plt.title('ROC curve for Logistic Regression Model')\n",
        "plt.show()"
      ],
      "execution_count": 269,
      "outputs": [
        {
          "output_type": "display_data",
          "data": {
            "image/png": "[encoded data removed]",
            "text/plain": [
              "<Figure size 432x432 with 1 Axes>"
            ]
          },
          "metadata": {
            "tags": [],
            "needs_background": "light"
          }
        }
      ]
    },
    {
      "cell_type": "code",
      "metadata": {
        "id": "c2h_Fb_WmLmi",
        "colab": {
          "base_uri": "https://localhost:8080/"
        },
        "outputId": "740fc1b0-3d6c-4613-d465-c9e25bc026f8"
      },
      "source": [
        "# ROC accuracy score\n",
        "auc = roc_auc_score(y_test, probs)\n",
        "print('Area under the ROC curve: {:.3f}'.format(auc))"
      ],
      "execution_count": 270,
      "outputs": [
        {
          "output_type": "stream",
          "text": [
            "Area under the ROC curve: 0.633\n"
          ],
          "name": "stdout"
        }
      ]
    },
    {
      "cell_type": "markdown",
      "metadata": {
        "id": "FURCLJakmLmi"
      },
      "source": [
        "## Random Forest Model and Metrics"
      ]
    },
    {
      "cell_type": "code",
      "metadata": {
        "id": "ss2qlIfdmLmj",
        "colab": {
          "base_uri": "https://localhost:8080/"
        },
        "outputId": "43b54c19-6827-4247-bbc6-e426ad67d9a9"
      },
      "source": [
        "#building RF model/Cross Validation/Score\n",
        "from sklearn.ensemble import RandomForestClassifier\n",
        "\n",
        "rf_clf = RandomForestClassifier(criterion='gini', n_estimators=100, max_depth=8)\n",
        "\n",
        "rf_cv_scores = cross_val_score(rf_clf, X_train_res, y_train_res, cv=5)\n",
        "print(rf_cv_scores)\n",
        "print('Accuracy scores for the 5 folds: ', rf_cv_scores)\n",
        "print('\\n')\n",
        "print('Mean cross validation score: {:.3f}'.format(np.mean(rf_cv_scores)))\n",
        "\n",
        "rf_clf.fit(X_train_res, y_train_res)\n",
        "\n",
        "print(f'train score: {rf_clf.score(X_train_res, y_train_res)}')\n",
        "print(f'test score: {rf_clf.score(X_test, y_test)}')"
      ],
      "execution_count": 271,
      "outputs": [
        {
          "output_type": "stream",
          "text": [
            "[0.60972931 0.60550156 0.71853723 0.72584011 0.71458379]\n",
            "Accuracy scores for the 5 folds:  [0.60972931 0.60550156 0.71853723 0.72584011 0.71458379]\n",
            "\n",
            "\n",
            "Mean cross validation score: 0.675\n",
            "train score: 0.6812940633853858\n",
            "test score: 0.6529944640161047\n"
          ],
          "name": "stdout"
        }
      ]
    },
    {
      "cell_type": "code",
      "metadata": {
        "colab": {
          "base_uri": "https://localhost:8080/"
        },
        "id": "_q1DZ7x2QSFF",
        "outputId": "a0aae294-6b66-471d-8434-1e5140d61c3c"
      },
      "source": [
        "from sklearn.metrics import confusion_matrix\r\n",
        "predictions = rf_clf.predict(X_test)\r\n",
        "\r\n",
        "confusion = confusion_matrix(y_test, predictions)\r\n",
        "print(confusion)"
      ],
      "execution_count": 272,
      "outputs": [
        {
          "output_type": "stream",
          "text": [
            "[[8165 3205]\n",
            " [2311 2215]]\n"
          ],
          "name": "stdout"
        }
      ]
    },
    {
      "cell_type": "code",
      "metadata": {
        "id": "mcwPoCwdmLmj",
        "colab": {
          "base_uri": "https://localhost:8080/"
        },
        "outputId": "6778be11-2f61-4e06-8bac-85bb4ec115b6"
      },
      "source": [
        "#RF Confusion Matrix\n",
        "from sklearn.metrics import confusion_matrix\n",
        "predictions = rf_clf.predict(X_test)\n",
        "\n",
        "confusion = confusion_matrix(y_test, predictions)\n",
        "print(confusion)\n",
        "\n",
        "report = classification_report(y_test, predictions, target_names=['fit', 'not fit'])\n",
        "print(report)"
      ],
      "execution_count": 273,
      "outputs": [
        {
          "output_type": "stream",
          "text": [
            "[[8165 3205]\n",
            " [2311 2215]]\n",
            "              precision    recall  f1-score   support\n",
            "\n",
            "         fit       0.78      0.72      0.75     11370\n",
            "     not fit       0.41      0.49      0.45      4526\n",
            "\n",
            "    accuracy                           0.65     15896\n",
            "   macro avg       0.59      0.60      0.60     15896\n",
            "weighted avg       0.67      0.65      0.66     15896\n",
            "\n"
          ],
          "name": "stdout"
        }
      ]
    },
    {
      "cell_type": "markdown",
      "metadata": {
        "id": "bH0qAQbDNejX"
      },
      "source": [
        "Using SMOTE with Random Forest produced some overfitting. The accuracy score is higher in Random Forest, but the other metrics are similar to that of Logistic Regression. "
      ]
    },
    {
      "cell_type": "code",
      "metadata": {
        "colab": {
          "base_uri": "https://localhost:8080/"
        },
        "id": "Yc-wUINLNgjm",
        "outputId": "81cb4a7f-148d-4a1d-e5fc-9727c90fc1dd"
      },
      "source": [
        "#building RF model/Cross Validation/Score\r\n",
        "from sklearn.ensemble import RandomForestClassifier\r\n",
        "\r\n",
        "rf_clf = RandomForestClassifier(criterion='gini', n_estimators=100, max_depth=8)\r\n",
        "\r\n",
        "rf_cv_scores = cross_val_score(rf_clf, X_train_miss, y_train_miss, cv=5)\r\n",
        "print(rf_cv_scores)\r\n",
        "print('Accuracy scores for the 5 folds: ', rf_cv_scores)\r\n",
        "print('\\n')\r\n",
        "print('Mean cross validation score: {:.3f}'.format(np.mean(rf_cv_scores)))\r\n",
        "\r\n",
        "rf_clf.fit(X_train_miss, y_train_miss)\r\n",
        "\r\n",
        "print(f'train score: {rf_clf.score(X_train_miss, y_train_miss)}')\r\n",
        "print(f'test score: {rf_clf.score(X_test, y_test)}')"
      ],
      "execution_count": 274,
      "outputs": [
        {
          "output_type": "stream",
          "text": [
            "[0.7232687  0.71551247 0.68698061 0.64695291 0.63545706]\n",
            "Accuracy scores for the 5 folds:  [0.7232687  0.71551247 0.68698061 0.64695291 0.63545706]\n",
            "\n",
            "\n",
            "Mean cross validation score: 0.682\n",
            "train score: 0.7001662049861496\n",
            "test score: 0.5512707599396075\n"
          ],
          "name": "stdout"
        }
      ]
    },
    {
      "cell_type": "code",
      "metadata": {
        "colab": {
          "base_uri": "https://localhost:8080/"
        },
        "id": "cOz4THbWQLYe",
        "outputId": "82cafdf4-24cb-4e7d-d90c-059e8a18c001"
      },
      "source": [
        "from sklearn.metrics import confusion_matrix\r\n",
        "predictions = rf_clf.predict(X_test)\r\n",
        "\r\n",
        "confusion = confusion_matrix(y_test, predictions)\r\n",
        "print(confusion)"
      ],
      "execution_count": 275,
      "outputs": [
        {
          "output_type": "stream",
          "text": [
            "[[6256 5114]\n",
            " [2019 2507]]\n"
          ],
          "name": "stdout"
        }
      ]
    },
    {
      "cell_type": "code",
      "metadata": {
        "colab": {
          "base_uri": "https://localhost:8080/"
        },
        "id": "FyD2GQILNtqZ",
        "outputId": "de14d0b5-0720-46e0-e21d-9f3bc392b605"
      },
      "source": [
        "#RF Confusion Matrix\r\n",
        "from sklearn.metrics import confusion_matrix\r\n",
        "predictions = rf_clf.predict(X_test)\r\n",
        "\r\n",
        "confusion = confusion_matrix(y_test, predictions)\r\n",
        "print(confusion)\r\n",
        "\r\n",
        "report = classification_report(y_test, predictions, target_names=['fit', 'not fit'])\r\n",
        "print(report)"
      ],
      "execution_count": 276,
      "outputs": [
        {
          "output_type": "stream",
          "text": [
            "[[6256 5114]\n",
            " [2019 2507]]\n",
            "              precision    recall  f1-score   support\n",
            "\n",
            "         fit       0.76      0.55      0.64     11370\n",
            "     not fit       0.33      0.55      0.41      4526\n",
            "\n",
            "    accuracy                           0.55     15896\n",
            "   macro avg       0.54      0.55      0.52     15896\n",
            "weighted avg       0.63      0.55      0.57     15896\n",
            "\n"
          ],
          "name": "stdout"
        }
      ]
    },
    {
      "cell_type": "markdown",
      "metadata": {
        "id": "3y62JkIAOmMf"
      },
      "source": [
        "Using Nearest Miss with Random Forest also produced overfitting, however, this is much larger than with SMOTE"
      ]
    },
    {
      "cell_type": "markdown",
      "metadata": {
        "id": "BJ03qr-8mLmj"
      },
      "source": [
        "## KNN Model and Metrics"
      ]
    },
    {
      "cell_type": "code",
      "metadata": {
        "id": "HBgMUHAqmLmj",
        "colab": {
          "base_uri": "https://localhost:8080/"
        },
        "outputId": "afde4642-501b-4257-9707-2c9e93aeb6a1"
      },
      "source": [
        "#building KNN model/Cross Validation/Score\n",
        "\n",
        "from sklearn.neighbors import KNeighborsClassifier\n",
        "from sklearn.preprocessing import StandardScaler\n",
        "\n",
        "X = StandardScaler().fit_transform(X)\n",
        "\n",
        "# Build the model\n",
        "knn = KNeighborsClassifier(n_neighbors=18)\n",
        "knn_cv_scores = cross_val_score(knn, X_train_res, y_train_res, cv=5)\n",
        "print(knn_cv_scores)\n",
        "knn.fit(X_train_res, y_train_res)\n",
        "\n",
        "#KNN Score\n",
        "print(knn.score(X_train_res, y_train_res.ravel()))\n",
        "print(knn.score(X_test, y_test))\n"
      ],
      "execution_count": 277,
      "outputs": [
        {
          "output_type": "stream",
          "text": [
            "[0.61181574 0.61417669 0.64671645 0.65281133 0.64880299]\n",
            "0.690815049087435\n",
            "0.6041771514846502\n"
          ],
          "name": "stdout"
        }
      ]
    },
    {
      "cell_type": "code",
      "metadata": {
        "colab": {
          "base_uri": "https://localhost:8080/"
        },
        "id": "RSHdxerEKtg5",
        "outputId": "40dc4283-acd4-41b5-a8e2-8f8aa4de6dc6"
      },
      "source": [
        "from sklearn.metrics import confusion_matrix\r\n",
        "predictions = knn.predict(X_test)\r\n",
        "\r\n",
        "confusion = confusion_matrix(y_test, predictions)\r\n",
        "print(confusion)\r\n"
      ],
      "execution_count": 278,
      "outputs": [
        {
          "output_type": "stream",
          "text": [
            "[[7450 3920]\n",
            " [2372 2154]]\n"
          ],
          "name": "stdout"
        }
      ]
    },
    {
      "cell_type": "code",
      "metadata": {
        "colab": {
          "base_uri": "https://localhost:8080/"
        },
        "id": "y_-NDQiiK8b6",
        "outputId": "092fc36e-ea59-4c40-e508-5752725d265d"
      },
      "source": [
        "\r\n",
        "report = classification_report(y_test, predictions, target_names=['fit', 'not fit'])\r\n",
        "print(report)"
      ],
      "execution_count": 279,
      "outputs": [
        {
          "output_type": "stream",
          "text": [
            "              precision    recall  f1-score   support\n",
            "\n",
            "         fit       0.76      0.66      0.70     11370\n",
            "     not fit       0.35      0.48      0.41      4526\n",
            "\n",
            "    accuracy                           0.60     15896\n",
            "   macro avg       0.56      0.57      0.55     15896\n",
            "weighted avg       0.64      0.60      0.62     15896\n",
            "\n"
          ],
          "name": "stdout"
        }
      ]
    },
    {
      "cell_type": "markdown",
      "metadata": {
        "id": "NgM36quCDwuO"
      },
      "source": [
        "The KNN model converges with 18 nearest neighbors. The overfit is larger with smote than without it."
      ]
    },
    {
      "cell_type": "code",
      "metadata": {
        "id": "aKAuYM-mmLmj",
        "colab": {
          "base_uri": "https://localhost:8080/"
        },
        "outputId": "6905dfbc-c213-4955-c939-018aaffea022"
      },
      "source": [
        "#building KNN model/Cross Validation/Score\n",
        "\n",
        "from sklearn.neighbors import KNeighborsClassifier\n",
        "from sklearn.preprocessing import StandardScaler\n",
        "\n",
        "X = StandardScaler().fit_transform(X)\n",
        "\n",
        "# Build the model\n",
        "knn = KNeighborsClassifier(n_neighbors=18)\n",
        "knn_cv_scores = cross_val_score(knn, X_train_miss, y_train_miss, cv=5)\n",
        "print(knn_cv_scores)\n",
        "knn.fit(X_train_miss, y_train_miss)\n",
        "\n",
        "print(knn.score(X_train_miss, y_train_miss.ravel()))\n",
        "print(knn.score(X_test, y_test))"
      ],
      "execution_count": 280,
      "outputs": [
        {
          "output_type": "stream",
          "text": [
            "[0.67022161 0.66717452 0.67576177 0.63961219 0.63033241]\n",
            "0.7109972299168975\n",
            "0.5478107700050328\n"
          ],
          "name": "stdout"
        }
      ]
    },
    {
      "cell_type": "code",
      "metadata": {
        "id": "PP7WN9QOmLmk",
        "colab": {
          "base_uri": "https://localhost:8080/"
        },
        "outputId": "f84b14ca-d6e4-45ab-f370-45177e59d2b5"
      },
      "source": [
        "# KNN Confusion Matrix\n",
        "\n",
        "from sklearn.metrics import confusion_matrix\n",
        "predictions = knn.predict(X_test)\n",
        "\n",
        "confusion = confusion_matrix(y_test, predictions)\n",
        "print(confusion)\n"
      ],
      "execution_count": 281,
      "outputs": [
        {
          "output_type": "stream",
          "text": [
            "[[6401 4969]\n",
            " [2219 2307]]\n"
          ],
          "name": "stdout"
        }
      ]
    },
    {
      "cell_type": "code",
      "metadata": {
        "id": "-lGjJ8kYmLmk",
        "colab": {
          "base_uri": "https://localhost:8080/"
        },
        "outputId": "c5e15864-ad1a-4842-e230-9ec71435ac3a"
      },
      "source": [
        "# Classification Report for KNN\n",
        "\n",
        "report = classification_report(y_test, predictions, target_names=['fit', 'not fit'])\n",
        "print(report)"
      ],
      "execution_count": 282,
      "outputs": [
        {
          "output_type": "stream",
          "text": [
            "              precision    recall  f1-score   support\n",
            "\n",
            "         fit       0.74      0.56      0.64     11370\n",
            "     not fit       0.32      0.51      0.39      4526\n",
            "\n",
            "    accuracy                           0.55     15896\n",
            "   macro avg       0.53      0.54      0.52     15896\n",
            "weighted avg       0.62      0.55      0.57     15896\n",
            "\n"
          ],
          "name": "stdout"
        }
      ]
    },
    {
      "cell_type": "markdown",
      "metadata": {
        "id": "moKIVg7pJpUG"
      },
      "source": [
        "The KNN model converges with 18 nearest neighbors as well. Similar with SMOTE, the near miss technique produced high overfitting\r\n",
        "\r\n",
        "KNN is not the best model to use for this dataset because of its high overfitting and lower scores compared to other models"
      ]
    },
    {
      "cell_type": "markdown",
      "metadata": {
        "id": "g6Q19h3omLmk"
      },
      "source": [
        "### Summary:\n",
        "\n",
        "This is an extension to my previous notebook which you can find in the same github folder. \n",
        "\n",
        "The goal of this extension was to explore methods to overcome imbalance classes. The techniques I employed were SMOTE and Near Miss. I utilized both of these techniques to compare my scores with different models.\n",
        "\n",
        "Overall, SMOTE performed best in all three models (logistic regression, random forest, knn). SMOTE increased the scores for the minority class though decreased slightly for the majority class.\n",
        "\n",
        "Logistic Regression was my main model. Originally, it produced the best results with no overfitting or underfitting. However, using SMOTE, underfitting increased because the minority class is now better represented. \n",
        "\n",
        "I also ran the Random Forest and KNN models. For my Random Forest, SMOTE performed better than the Nearest Miss but still produced slightly high overfitting. The accuracy was higher than that of the Logistic Regression but since I am focusing on other metrics (precision, recall, and f1), it didn't performer better or worse than the Logistic Regression model. Similarly for the KNN model, SMOTE performed better. However, KNN was the worst model overall because its high overfitting in both SMOTE and Near Miss plus the low metric scores.\n",
        "\n",
        "Logistic Regression is the best model to predict whether a dress will fit or not. The model without SMOTE performed better for the fit class but not so well for the minority class. With SMOTE, the minority class is better represented.  "
      ]
    },
    {
      "cell_type": "code",
      "metadata": {
        "id": "ucUOoQa2H5MK"
      },
      "source": [
        ""
      ],
      "execution_count": 282,
      "outputs": []
    }
  ]
}