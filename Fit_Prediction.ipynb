{
 "cells": [
  {
   "cell_type": "markdown",
   "metadata": {},
   "source": [
    "#### Source:\n",
    "@inproceedings{misra2018decomposing,\n",
    "  title={Decomposing fit semantics for product size recommendation in metric spaces},\n",
    "  author={Misra, Rishabh and Wan, Mengting and McAuley, Julian},\n",
    "  booktitle={Proceedings of the 12th ACM Conference on Recommender Systems},\n",
    "  pages={422--426},\n",
    "  year={2018},\n",
    "  organization={ACM}\n",
    "}\n",
    "\n",
    "@book{book,\n",
    "author = {Misra, Rishabh and Grover, Jigyasa},\n",
    "year = {2021},\n",
    "month = {01},\n",
    "pages = {},\n",
    "title = {Sculpting Data for ML: The first act of Machine Learning},\n",
    "isbn = {978-0-578-83125-1}\n",
    "}\n",
    "\n",
    "rishabhmisra.github.io/publications \n",
    "\n",
    "Data: https://www.kaggle.com/rmisra/clothing-fit-dataset-for-size-recommendation/home"
   ]
  },
  {
   "cell_type": "code",
   "execution_count": 555,
   "metadata": {},
   "outputs": [],
   "source": [
    "import pandas as pd\n",
    "import numpy as np\n",
    "import matplotlib.pyplot as plt\n",
    "import seaborn as sns"
   ]
  },
  {
   "cell_type": "code",
   "execution_count": 556,
   "metadata": {},
   "outputs": [],
   "source": [
    "clothes_df = pd.read_json('renttherunway_final_data.json', lines=True)"
   ]
  },
  {
   "cell_type": "code",
   "execution_count": 557,
   "metadata": {},
   "outputs": [],
   "source": [
    "clothes_df.drop(columns=['review_date', 'item_id', 'user_id', 'review_text', 'review_summary', 'rented for'], axis=1, inplace=True)\n",
    "clothes_df = clothes_df[(clothes_df['category'] == 'dress')]\n",
    "clothes_df.drop(columns='category', axis=1, inplace=True)"
   ]
  },
  {
   "cell_type": "code",
   "execution_count": 558,
   "metadata": {},
   "outputs": [
    {
     "data": {
      "text/html": [
       "<div>\n",
       "<style scoped>\n",
       "    .dataframe tbody tr th:only-of-type {\n",
       "        vertical-align: middle;\n",
       "    }\n",
       "\n",
       "    .dataframe tbody tr th {\n",
       "        vertical-align: top;\n",
       "    }\n",
       "\n",
       "    .dataframe thead th {\n",
       "        text-align: right;\n",
       "    }\n",
       "</style>\n",
       "<table border=\"1\" class=\"dataframe\">\n",
       "  <thead>\n",
       "    <tr style=\"text-align: right;\">\n",
       "      <th></th>\n",
       "      <th>index</th>\n",
       "      <th>fit</th>\n",
       "      <th>bust size</th>\n",
       "      <th>weight</th>\n",
       "      <th>rating</th>\n",
       "      <th>body type</th>\n",
       "      <th>height</th>\n",
       "      <th>size</th>\n",
       "      <th>age</th>\n",
       "    </tr>\n",
       "  </thead>\n",
       "  <tbody>\n",
       "    <tr>\n",
       "      <th>0</th>\n",
       "      <td>3</td>\n",
       "      <td>fit</td>\n",
       "      <td>34c</td>\n",
       "      <td>135lbs</td>\n",
       "      <td>8.0</td>\n",
       "      <td>pear</td>\n",
       "      <td>5' 5\"</td>\n",
       "      <td>8</td>\n",
       "      <td>34.0</td>\n",
       "    </tr>\n",
       "    <tr>\n",
       "      <th>1</th>\n",
       "      <td>5</td>\n",
       "      <td>fit</td>\n",
       "      <td>32b</td>\n",
       "      <td>138lbs</td>\n",
       "      <td>8.0</td>\n",
       "      <td>athletic</td>\n",
       "      <td>5' 8\"</td>\n",
       "      <td>8</td>\n",
       "      <td>45.0</td>\n",
       "    </tr>\n",
       "    <tr>\n",
       "      <th>2</th>\n",
       "      <td>6</td>\n",
       "      <td>fit</td>\n",
       "      <td>34c</td>\n",
       "      <td>112lbs</td>\n",
       "      <td>10.0</td>\n",
       "      <td>hourglass</td>\n",
       "      <td>5' 3\"</td>\n",
       "      <td>4</td>\n",
       "      <td>27.0</td>\n",
       "    </tr>\n",
       "    <tr>\n",
       "      <th>3</th>\n",
       "      <td>7</td>\n",
       "      <td>fit</td>\n",
       "      <td>34d+</td>\n",
       "      <td>118lbs</td>\n",
       "      <td>10.0</td>\n",
       "      <td>full bust</td>\n",
       "      <td>5' 3\"</td>\n",
       "      <td>8</td>\n",
       "      <td>65.0</td>\n",
       "    </tr>\n",
       "    <tr>\n",
       "      <th>4</th>\n",
       "      <td>10</td>\n",
       "      <td>small</td>\n",
       "      <td>34b</td>\n",
       "      <td>135lbs</td>\n",
       "      <td>8.0</td>\n",
       "      <td>athletic</td>\n",
       "      <td>5' 3\"</td>\n",
       "      <td>12</td>\n",
       "      <td>33.0</td>\n",
       "    </tr>\n",
       "  </tbody>\n",
       "</table>\n",
       "</div>"
      ],
      "text/plain": [
       "   index    fit bust size  weight  rating  body type height  size   age\n",
       "0      3    fit       34c  135lbs     8.0       pear  5' 5\"     8  34.0\n",
       "1      5    fit       32b  138lbs     8.0   athletic  5' 8\"     8  45.0\n",
       "2      6    fit       34c  112lbs    10.0  hourglass  5' 3\"     4  27.0\n",
       "3      7    fit      34d+  118lbs    10.0  full bust  5' 3\"     8  65.0\n",
       "4     10  small       34b  135lbs     8.0   athletic  5' 3\"    12  33.0"
      ]
     },
     "execution_count": 558,
     "metadata": {},
     "output_type": "execute_result"
    }
   ],
   "source": [
    "clothes_df.reset_index().head()"
   ]
  },
  {
   "cell_type": "code",
   "execution_count": 559,
   "metadata": {},
   "outputs": [
    {
     "data": {
      "text/plain": [
       "fit      66567\n",
       "small    13686\n",
       "large    12631\n",
       "Name: fit, dtype: int64"
      ]
     },
     "execution_count": 559,
     "metadata": {},
     "output_type": "execute_result"
    }
   ],
   "source": [
    "clothes_df['fit'].value_counts()"
   ]
  },
  {
   "cell_type": "code",
   "execution_count": 560,
   "metadata": {},
   "outputs": [],
   "source": [
    "clothes_df['fitting'] = clothes_df['fit'].replace({'fit': 'fit', 'small': 'not fit', 'large': 'not fit'})\n",
    "clothes_df.drop(columns='fit', axis=1, inplace=True)"
   ]
  },
  {
   "cell_type": "code",
   "execution_count": 561,
   "metadata": {},
   "outputs": [
    {
     "data": {
      "text/plain": [
       "fit        66567\n",
       "not fit    26317\n",
       "Name: fitting, dtype: int64"
      ]
     },
     "execution_count": 561,
     "metadata": {},
     "output_type": "execute_result"
    }
   ],
   "source": [
    "clothes_df['fitting'].value_counts()"
   ]
  },
  {
   "cell_type": "code",
   "execution_count": 562,
   "metadata": {},
   "outputs": [
    {
     "name": "stdout",
     "output_type": "stream",
     "text": [
      "{'missing': 9.570001291934025, 'column': 'bust size'}\n",
      "{'missing': 15.652857327419147, 'column': 'weight'}\n",
      "{'missing': 0.036604797381680376, 'column': 'rating'}\n",
      "{'missing': 7.668705051462038, 'column': 'body type'}\n",
      "{'missing': 0.3369794582489988, 'column': 'height'}\n",
      "{'missing': 0.0, 'column': 'size'}\n",
      "{'missing': 0.4284914517031997, 'column': 'age'}\n",
      "{'missing': 0.0, 'column': 'fitting'}\n"
     ]
    }
   ],
   "source": [
    "for i in clothes_df.columns:\n",
    "    missing = clothes_df[i].isnull().sum()*100/clothes_df[i].isnull().count()\n",
    "    print({'missing': float(missing), 'column': i})"
   ]
  },
  {
   "cell_type": "code",
   "execution_count": 563,
   "metadata": {
    "scrolled": true
   },
   "outputs": [
    {
     "name": "stdout",
     "output_type": "stream",
     "text": [
      "bust size\n",
      "['34c' '32b' '34d+' '34b' '36d' '34d' '32d+' '32c' '32dd' '32d' '36b'\n",
      " '36c' '32a' nan '34ddd/e' '38d+' '36a' '38d' '34a' '38dd' '36ddd/e'\n",
      " '42dd' '36dd' '28f' '38c' '36d+' '34dd' '40d' '38a' '32ddd/e' '42d'\n",
      " '34aa' '32aa' '38b' '28c' '36f' '34g' '32f' '40c' '30d' '28g' '30dd'\n",
      " '36g' '38f' '30a' '30ddd/e' '44dd' '30g' '38h' '34j' '34f' '38ddd/e'\n",
      " '32g' '40ddd/e' '32h' '30c' '44d' '38g' '40g' '28b' '34h' '28a' '30b'\n",
      " '40f' '28dd' '36h' '28ddd/e' '30f' '40dd' '44ddd/e' '30i' '32j' '36j'\n",
      " '40h' '40b' '36aa' '48d' '38i' '30h' '32i' '42ddd/e' '42c' '28aa' '28d'\n",
      " '36i' '42b' '46ddd/e' '44c' '42f' '38aa' '44f' '30aa' '46f' '42g' '34i'\n",
      " '44b' '44g' '48dd' '46c' '40i']\n",
      "\n",
      "\n",
      "weight\n",
      "['135lbs' '138lbs' '112lbs' '118lbs' '142lbs' '170lbs' '143lbs' '115lbs'\n",
      " '145lbs' '140lbs' '120lbs' nan '130lbs' '155lbs' '150lbs' '136lbs'\n",
      " '174lbs' '125lbs' '110lbs' '128lbs' '160lbs' '250lbs' '231lbs' '175lbs'\n",
      " '126lbs' '210lbs' '165lbs' '215lbs' '180lbs' '163lbs' '106lbs' '178lbs'\n",
      " '108lbs' '92lbs' '132lbs' '117lbs' '146lbs' '103lbs' '116lbs' '185lbs'\n",
      " '105lbs' '111lbs' '152lbs' '107lbs' '123lbs' '154lbs' '153lbs' '133lbs'\n",
      " '137lbs' '131lbs' '156lbs' '190lbs' '122lbs' '186lbs' '100lbs' '113lbs'\n",
      " '114lbs' '144lbs' '134lbs' '139lbs' '148lbs' '129lbs' '124lbs' '158lbs'\n",
      " '195lbs' '184lbs' '102lbs' '168lbs' '147lbs' '98lbs' '127lbs' '200lbs'\n",
      " '225lbs' '204lbs' '89lbs' '159lbs' '121lbs' '149lbs' '161lbs' '230lbs'\n",
      " '198lbs' '169lbs' '260lbs' '119lbs' '157lbs' '95lbs' '179lbs' '173lbs'\n",
      " '220lbs' '151lbs' '162lbs' '109lbs' '255lbs' '141lbs' '166lbs' '182lbs'\n",
      " '199lbs' '240lbs' '172lbs' '193lbs' '192lbs' '189lbs' '104lbs' '245lbs'\n",
      " '164lbs' '96lbs' '216lbs' '235lbs' '90lbs' '167lbs' '265lbs' '276lbs'\n",
      " '219lbs' '171lbs' '212lbs' '211lbs' '101lbs' '280lbs' '208lbs' '285lbs'\n",
      " '97lbs' '187lbs' '203lbs' '87lbs' '93lbs' '205lbs' '214lbs' '209lbs'\n",
      " '196lbs' '188lbs' '273lbs' '177lbs' '206lbs' '197lbs' '217lbs' '176lbs'\n",
      " '246lbs' '202lbs' '50lbs' '207lbs' '94lbs' '99lbs' '183lbs' '233lbs'\n",
      " '218lbs' '232lbs' '275lbs' '290lbs' '194lbs' '222lbs' '223lbs' '248lbs'\n",
      " '229lbs' '224lbs' '181lbs' '238lbs' '264lbs' '228lbs' '300lbs' '270lbs'\n",
      " '226lbs' '242lbs' '263lbs' '256lbs' '79lbs' '85lbs' '201lbs' '91lbs'\n",
      " '241lbs' '247lbs' '221lbs' '227lbs' '88lbs' '288lbs']\n",
      "\n",
      "\n",
      "rating\n",
      "[ 8. 10.  4.  6.  2. nan]\n",
      "\n",
      "\n",
      "body type\n",
      "['pear' 'athletic' 'hourglass' 'full bust' 'apple' 'petite' nan\n",
      " 'straight & narrow']\n",
      "\n",
      "\n",
      "height\n",
      "['5\\' 5\"' '5\\' 8\"' '5\\' 3\"' '5\\' 6\"' '5\\' 2\"' '5\\' 9\"' '5\\' 1\"' '5\\' 4\"'\n",
      " '5\\' 7\"' '5\\' 10\"' '4\\' 10\"' '6\\' 1\"' '5\\' 11\"' nan '5\\' 0\"' '4\\' 11\"'\n",
      " '6\\' 0\"' '6\\' 2\"' '4\\' 9\"' '4\\' 6\"' '4\\' 8\"' '6\\' 4\"' '4\\' 7\"' '6\\' 3\"']\n",
      "\n",
      "\n",
      "size\n",
      "[ 8  4 12 20  1 14 28 35 16 51 48 24 45 32  7 39 17 26 21 57 13  5  3 42\n",
      "  2  0 11 54  9 15 29 25 46 19 50 34 23]\n",
      "\n",
      "\n",
      "age\n",
      "[ 34.  45.  27.  65.  33.  30.  29.  35.  26.  28.  21.  20.  32.  53.\n",
      "  31.  38.  36.  37.  24.  25.  48.  40.  23.  44.  17.  43.  50.  39.\n",
      "  42.  41.  56.  52.  54.  59.  46.  47.  55.  49.  57.  nan  22.  60.\n",
      "  19.  58.  15.  62.  51.  70.  16.   0.  69.  66.  18.  64.  63.  87.\n",
      "  68.  67.  61.   3. 117. 116.   2.  73.  91.  92.   1. 106.  14.  75.\n",
      "   8.  72.  71.  74.  76.   4.   5. 109.  78.]\n",
      "\n",
      "\n",
      "fitting\n",
      "['fit' 'not fit']\n",
      "\n",
      "\n"
     ]
    }
   ],
   "source": [
    "for i in clothes_df.columns:\n",
    "    print(i)\n",
    "    print(clothes_df[i].unique())\n",
    "    print('\\n')"
   ]
  },
  {
   "cell_type": "code",
   "execution_count": 564,
   "metadata": {},
   "outputs": [
    {
     "data": {
      "text/html": [
       "<div>\n",
       "<style scoped>\n",
       "    .dataframe tbody tr th:only-of-type {\n",
       "        vertical-align: middle;\n",
       "    }\n",
       "\n",
       "    .dataframe tbody tr th {\n",
       "        vertical-align: top;\n",
       "    }\n",
       "\n",
       "    .dataframe thead th {\n",
       "        text-align: right;\n",
       "    }\n",
       "</style>\n",
       "<table border=\"1\" class=\"dataframe\">\n",
       "  <thead>\n",
       "    <tr style=\"text-align: right;\">\n",
       "      <th></th>\n",
       "      <th>bust size</th>\n",
       "      <th>weight</th>\n",
       "      <th>rating</th>\n",
       "      <th>body type</th>\n",
       "      <th>height</th>\n",
       "      <th>size</th>\n",
       "      <th>age</th>\n",
       "      <th>fitting</th>\n",
       "    </tr>\n",
       "  </thead>\n",
       "  <tbody>\n",
       "    <tr>\n",
       "      <th>3</th>\n",
       "      <td>34c</td>\n",
       "      <td>135lbs</td>\n",
       "      <td>8.0</td>\n",
       "      <td>pear</td>\n",
       "      <td>5' 5\"</td>\n",
       "      <td>8</td>\n",
       "      <td>34.0</td>\n",
       "      <td>fit</td>\n",
       "    </tr>\n",
       "    <tr>\n",
       "      <th>5</th>\n",
       "      <td>32b</td>\n",
       "      <td>138lbs</td>\n",
       "      <td>8.0</td>\n",
       "      <td>athletic</td>\n",
       "      <td>5' 8\"</td>\n",
       "      <td>8</td>\n",
       "      <td>45.0</td>\n",
       "      <td>fit</td>\n",
       "    </tr>\n",
       "    <tr>\n",
       "      <th>6</th>\n",
       "      <td>34c</td>\n",
       "      <td>112lbs</td>\n",
       "      <td>10.0</td>\n",
       "      <td>hourglass</td>\n",
       "      <td>5' 3\"</td>\n",
       "      <td>4</td>\n",
       "      <td>27.0</td>\n",
       "      <td>fit</td>\n",
       "    </tr>\n",
       "    <tr>\n",
       "      <th>7</th>\n",
       "      <td>34d+</td>\n",
       "      <td>118lbs</td>\n",
       "      <td>10.0</td>\n",
       "      <td>full bust</td>\n",
       "      <td>5' 3\"</td>\n",
       "      <td>8</td>\n",
       "      <td>65.0</td>\n",
       "      <td>fit</td>\n",
       "    </tr>\n",
       "    <tr>\n",
       "      <th>10</th>\n",
       "      <td>34b</td>\n",
       "      <td>135lbs</td>\n",
       "      <td>8.0</td>\n",
       "      <td>athletic</td>\n",
       "      <td>5' 3\"</td>\n",
       "      <td>12</td>\n",
       "      <td>33.0</td>\n",
       "      <td>not fit</td>\n",
       "    </tr>\n",
       "  </tbody>\n",
       "</table>\n",
       "</div>"
      ],
      "text/plain": [
       "   bust size  weight  rating  body type height  size   age  fitting\n",
       "3        34c  135lbs     8.0       pear  5' 5\"     8  34.0      fit\n",
       "5        32b  138lbs     8.0   athletic  5' 8\"     8  45.0      fit\n",
       "6        34c  112lbs    10.0  hourglass  5' 3\"     4  27.0      fit\n",
       "7       34d+  118lbs    10.0  full bust  5' 3\"     8  65.0      fit\n",
       "10       34b  135lbs     8.0   athletic  5' 3\"    12  33.0  not fit"
      ]
     },
     "execution_count": 564,
     "metadata": {},
     "output_type": "execute_result"
    }
   ],
   "source": [
    "clothes_df.head()"
   ]
  },
  {
   "cell_type": "code",
   "execution_count": 565,
   "metadata": {
    "scrolled": true
   },
   "outputs": [
    {
     "name": "stdout",
     "output_type": "stream",
     "text": [
      "bust size\n",
      "34b        12968\n",
      "34c        11230\n",
      "34d         8843\n",
      "36c         6513\n",
      "36d         5481\n",
      "           ...  \n",
      "48dd           1\n",
      "44g            1\n",
      "46f            1\n",
      "46ddd/e        1\n",
      "36j            1\n",
      "Name: bust size, Length: 99, dtype: int64\n",
      "\n",
      "\n",
      "weight\n",
      "130lbs    6855\n",
      "135lbs    6541\n",
      "125lbs    6308\n",
      "140lbs    6036\n",
      "120lbs    5078\n",
      "          ... \n",
      "88lbs        1\n",
      "273lbs       1\n",
      "221lbs       1\n",
      "87lbs        1\n",
      "242lbs       1\n",
      "Name: weight, Length: 173, dtype: int64\n",
      "\n",
      "\n",
      "body type\n",
      "hourglass            26714\n",
      "athletic             20606\n",
      "pear                 11059\n",
      "petite               10939\n",
      "full bust             7348\n",
      "straight & narrow     6678\n",
      "apple                 2417\n",
      "Name: body type, dtype: int64\n",
      "\n",
      "\n",
      "height\n",
      "5' 4\"     13591\n",
      "5' 6\"     12164\n",
      "5' 5\"     11803\n",
      "5' 7\"     11310\n",
      "5' 3\"     10333\n",
      "5' 2\"      8447\n",
      "5' 8\"      7647\n",
      "5' 9\"      5329\n",
      "5' 1\"      3693\n",
      "5' 10\"     3126\n",
      "5' 0\"      2038\n",
      "5' 11\"     1451\n",
      "6' 0\"       642\n",
      "4' 11\"      544\n",
      "6' 1\"       191\n",
      "4' 10\"      114\n",
      "6' 2\"        61\n",
      "4' 9\"        39\n",
      "6' 3\"        14\n",
      "4' 7\"        12\n",
      "4' 6\"         8\n",
      "4' 8\"         7\n",
      "6' 4\"         7\n",
      "Name: height, dtype: int64\n",
      "\n",
      "\n",
      "fitting\n",
      "fit        66567\n",
      "not fit    26317\n",
      "Name: fitting, dtype: int64\n",
      "\n",
      "\n"
     ]
    }
   ],
   "source": [
    "for i in clothes_df.select_dtypes(include=['O']):\n",
    "    print(i)\n",
    "    print(clothes_df[i].value_counts())\n",
    "    print('\\n')"
   ]
  },
  {
   "cell_type": "markdown",
   "metadata": {},
   "source": [
    "### Removing 'lbs' and converting the 'weight' variable into numeric"
   ]
  },
  {
   "cell_type": "code",
   "execution_count": 566,
   "metadata": {},
   "outputs": [
    {
     "data": {
      "text/html": [
       "<div>\n",
       "<style scoped>\n",
       "    .dataframe tbody tr th:only-of-type {\n",
       "        vertical-align: middle;\n",
       "    }\n",
       "\n",
       "    .dataframe tbody tr th {\n",
       "        vertical-align: top;\n",
       "    }\n",
       "\n",
       "    .dataframe thead th {\n",
       "        text-align: right;\n",
       "    }\n",
       "</style>\n",
       "<table border=\"1\" class=\"dataframe\">\n",
       "  <thead>\n",
       "    <tr style=\"text-align: right;\">\n",
       "      <th></th>\n",
       "      <th>bust size</th>\n",
       "      <th>weight</th>\n",
       "      <th>rating</th>\n",
       "      <th>body type</th>\n",
       "      <th>height</th>\n",
       "      <th>size</th>\n",
       "      <th>age</th>\n",
       "      <th>fitting</th>\n",
       "    </tr>\n",
       "  </thead>\n",
       "  <tbody>\n",
       "    <tr>\n",
       "      <th>3</th>\n",
       "      <td>34c</td>\n",
       "      <td>135</td>\n",
       "      <td>8.0</td>\n",
       "      <td>pear</td>\n",
       "      <td>5' 5\"</td>\n",
       "      <td>8</td>\n",
       "      <td>34.0</td>\n",
       "      <td>fit</td>\n",
       "    </tr>\n",
       "    <tr>\n",
       "      <th>5</th>\n",
       "      <td>32b</td>\n",
       "      <td>138</td>\n",
       "      <td>8.0</td>\n",
       "      <td>athletic</td>\n",
       "      <td>5' 8\"</td>\n",
       "      <td>8</td>\n",
       "      <td>45.0</td>\n",
       "      <td>fit</td>\n",
       "    </tr>\n",
       "    <tr>\n",
       "      <th>6</th>\n",
       "      <td>34c</td>\n",
       "      <td>112</td>\n",
       "      <td>10.0</td>\n",
       "      <td>hourglass</td>\n",
       "      <td>5' 3\"</td>\n",
       "      <td>4</td>\n",
       "      <td>27.0</td>\n",
       "      <td>fit</td>\n",
       "    </tr>\n",
       "    <tr>\n",
       "      <th>7</th>\n",
       "      <td>34d+</td>\n",
       "      <td>118</td>\n",
       "      <td>10.0</td>\n",
       "      <td>full bust</td>\n",
       "      <td>5' 3\"</td>\n",
       "      <td>8</td>\n",
       "      <td>65.0</td>\n",
       "      <td>fit</td>\n",
       "    </tr>\n",
       "    <tr>\n",
       "      <th>10</th>\n",
       "      <td>34b</td>\n",
       "      <td>135</td>\n",
       "      <td>8.0</td>\n",
       "      <td>athletic</td>\n",
       "      <td>5' 3\"</td>\n",
       "      <td>12</td>\n",
       "      <td>33.0</td>\n",
       "      <td>not fit</td>\n",
       "    </tr>\n",
       "  </tbody>\n",
       "</table>\n",
       "</div>"
      ],
      "text/plain": [
       "   bust size  weight  rating  body type height  size   age  fitting\n",
       "3        34c     135     8.0       pear  5' 5\"     8  34.0      fit\n",
       "5        32b     138     8.0   athletic  5' 8\"     8  45.0      fit\n",
       "6        34c     112    10.0  hourglass  5' 3\"     4  27.0      fit\n",
       "7       34d+     118    10.0  full bust  5' 3\"     8  65.0      fit\n",
       "10       34b     135     8.0   athletic  5' 3\"    12  33.0  not fit"
      ]
     },
     "execution_count": 566,
     "metadata": {},
     "output_type": "execute_result"
    }
   ],
   "source": [
    "#convert height to inches\n",
    "#remove lbs from weight\n",
    "clothes_df['weight'] = clothes_df['weight'].astype(str).apply(lambda x: x.replace('nan', '0lbs').split('l')[0]).astype(int)\n",
    "clothes_df.head()"
   ]
  },
  {
   "cell_type": "code",
   "execution_count": 567,
   "metadata": {},
   "outputs": [],
   "source": [
    "#clothes_df['weight'].apply(lambda x: x.split('l'))"
   ]
  },
  {
   "cell_type": "code",
   "execution_count": 568,
   "metadata": {},
   "outputs": [],
   "source": [
    "clothes_df['weight'].replace(0, round(clothes_df['weight'].mean()), inplace=True)"
   ]
  },
  {
   "cell_type": "code",
   "execution_count": 569,
   "metadata": {},
   "outputs": [],
   "source": [
    " clothes_df.dropna(inplace=True)"
   ]
  },
  {
   "cell_type": "code",
   "execution_count": 570,
   "metadata": {},
   "outputs": [],
   "source": [
    "#nan values in:\n",
    "#'age', 'height', 'rented for', 'rating', 'bust size'\n",
    "\n",
    "for i in clothes_df[['age', 'height', 'rating', 'bust size']]:\n",
    "    clothes_df = clothes_df.drop(clothes_df[clothes_df[i] == 'nan'].index)"
   ]
  },
  {
   "cell_type": "markdown",
   "metadata": {},
   "source": [
    "### Converting the 'height' variable into centimeters for better usability"
   ]
  },
  {
   "cell_type": "code",
   "execution_count": 571,
   "metadata": {},
   "outputs": [
    {
     "data": {
      "text/html": [
       "<div>\n",
       "<style scoped>\n",
       "    .dataframe tbody tr th:only-of-type {\n",
       "        vertical-align: middle;\n",
       "    }\n",
       "\n",
       "    .dataframe tbody tr th {\n",
       "        vertical-align: top;\n",
       "    }\n",
       "\n",
       "    .dataframe thead th {\n",
       "        text-align: right;\n",
       "    }\n",
       "</style>\n",
       "<table border=\"1\" class=\"dataframe\">\n",
       "  <thead>\n",
       "    <tr style=\"text-align: right;\">\n",
       "      <th></th>\n",
       "      <th>bust size</th>\n",
       "      <th>weight</th>\n",
       "      <th>rating</th>\n",
       "      <th>body type</th>\n",
       "      <th>height</th>\n",
       "      <th>size</th>\n",
       "      <th>age</th>\n",
       "      <th>fitting</th>\n",
       "    </tr>\n",
       "  </thead>\n",
       "  <tbody>\n",
       "    <tr>\n",
       "      <th>3</th>\n",
       "      <td>34c</td>\n",
       "      <td>135</td>\n",
       "      <td>8.0</td>\n",
       "      <td>pear</td>\n",
       "      <td>[5,  5]</td>\n",
       "      <td>8</td>\n",
       "      <td>34.0</td>\n",
       "      <td>fit</td>\n",
       "    </tr>\n",
       "    <tr>\n",
       "      <th>5</th>\n",
       "      <td>32b</td>\n",
       "      <td>138</td>\n",
       "      <td>8.0</td>\n",
       "      <td>athletic</td>\n",
       "      <td>[5,  8]</td>\n",
       "      <td>8</td>\n",
       "      <td>45.0</td>\n",
       "      <td>fit</td>\n",
       "    </tr>\n",
       "    <tr>\n",
       "      <th>6</th>\n",
       "      <td>34c</td>\n",
       "      <td>112</td>\n",
       "      <td>10.0</td>\n",
       "      <td>hourglass</td>\n",
       "      <td>[5,  3]</td>\n",
       "      <td>4</td>\n",
       "      <td>27.0</td>\n",
       "      <td>fit</td>\n",
       "    </tr>\n",
       "    <tr>\n",
       "      <th>7</th>\n",
       "      <td>34d+</td>\n",
       "      <td>118</td>\n",
       "      <td>10.0</td>\n",
       "      <td>full bust</td>\n",
       "      <td>[5,  3]</td>\n",
       "      <td>8</td>\n",
       "      <td>65.0</td>\n",
       "      <td>fit</td>\n",
       "    </tr>\n",
       "    <tr>\n",
       "      <th>10</th>\n",
       "      <td>34b</td>\n",
       "      <td>135</td>\n",
       "      <td>8.0</td>\n",
       "      <td>athletic</td>\n",
       "      <td>[5,  3]</td>\n",
       "      <td>12</td>\n",
       "      <td>33.0</td>\n",
       "      <td>not fit</td>\n",
       "    </tr>\n",
       "  </tbody>\n",
       "</table>\n",
       "</div>"
      ],
      "text/plain": [
       "   bust size  weight  rating  body type   height  size   age  fitting\n",
       "3        34c     135     8.0       pear  [5,  5]     8  34.0      fit\n",
       "5        32b     138     8.0   athletic  [5,  8]     8  45.0      fit\n",
       "6        34c     112    10.0  hourglass  [5,  3]     4  27.0      fit\n",
       "7       34d+     118    10.0  full bust  [5,  3]     8  65.0      fit\n",
       "10       34b     135     8.0   athletic  [5,  3]    12  33.0  not fit"
      ]
     },
     "execution_count": 571,
     "metadata": {},
     "output_type": "execute_result"
    }
   ],
   "source": [
    "clothes_df['height'] = clothes_df['height'].apply(lambda x: x.replace('\\\"','').split('\\''))\n",
    "clothes_df.head()"
   ]
  },
  {
   "cell_type": "code",
   "execution_count": 572,
   "metadata": {},
   "outputs": [],
   "source": [
    "clothes_df['feet'] = clothes_df['height'].apply(lambda x: float(x[0]) * 30.48)\n",
    "clothes_df['inches'] = clothes_df['height'].apply(lambda x: float(x[1]) * 2.54)"
   ]
  },
  {
   "cell_type": "code",
   "execution_count": 573,
   "metadata": {},
   "outputs": [
    {
     "data": {
      "text/html": [
       "<div>\n",
       "<style scoped>\n",
       "    .dataframe tbody tr th:only-of-type {\n",
       "        vertical-align: middle;\n",
       "    }\n",
       "\n",
       "    .dataframe tbody tr th {\n",
       "        vertical-align: top;\n",
       "    }\n",
       "\n",
       "    .dataframe thead th {\n",
       "        text-align: right;\n",
       "    }\n",
       "</style>\n",
       "<table border=\"1\" class=\"dataframe\">\n",
       "  <thead>\n",
       "    <tr style=\"text-align: right;\">\n",
       "      <th></th>\n",
       "      <th>bust size</th>\n",
       "      <th>weight</th>\n",
       "      <th>rating</th>\n",
       "      <th>body type</th>\n",
       "      <th>height</th>\n",
       "      <th>size</th>\n",
       "      <th>age</th>\n",
       "      <th>fitting</th>\n",
       "      <th>feet</th>\n",
       "      <th>inches</th>\n",
       "    </tr>\n",
       "  </thead>\n",
       "  <tbody>\n",
       "    <tr>\n",
       "      <th>3</th>\n",
       "      <td>34c</td>\n",
       "      <td>135</td>\n",
       "      <td>8.0</td>\n",
       "      <td>pear</td>\n",
       "      <td>[5,  5]</td>\n",
       "      <td>8</td>\n",
       "      <td>34.0</td>\n",
       "      <td>fit</td>\n",
       "      <td>152.4</td>\n",
       "      <td>12.70</td>\n",
       "    </tr>\n",
       "    <tr>\n",
       "      <th>5</th>\n",
       "      <td>32b</td>\n",
       "      <td>138</td>\n",
       "      <td>8.0</td>\n",
       "      <td>athletic</td>\n",
       "      <td>[5,  8]</td>\n",
       "      <td>8</td>\n",
       "      <td>45.0</td>\n",
       "      <td>fit</td>\n",
       "      <td>152.4</td>\n",
       "      <td>20.32</td>\n",
       "    </tr>\n",
       "    <tr>\n",
       "      <th>6</th>\n",
       "      <td>34c</td>\n",
       "      <td>112</td>\n",
       "      <td>10.0</td>\n",
       "      <td>hourglass</td>\n",
       "      <td>[5,  3]</td>\n",
       "      <td>4</td>\n",
       "      <td>27.0</td>\n",
       "      <td>fit</td>\n",
       "      <td>152.4</td>\n",
       "      <td>7.62</td>\n",
       "    </tr>\n",
       "    <tr>\n",
       "      <th>7</th>\n",
       "      <td>34d+</td>\n",
       "      <td>118</td>\n",
       "      <td>10.0</td>\n",
       "      <td>full bust</td>\n",
       "      <td>[5,  3]</td>\n",
       "      <td>8</td>\n",
       "      <td>65.0</td>\n",
       "      <td>fit</td>\n",
       "      <td>152.4</td>\n",
       "      <td>7.62</td>\n",
       "    </tr>\n",
       "    <tr>\n",
       "      <th>10</th>\n",
       "      <td>34b</td>\n",
       "      <td>135</td>\n",
       "      <td>8.0</td>\n",
       "      <td>athletic</td>\n",
       "      <td>[5,  3]</td>\n",
       "      <td>12</td>\n",
       "      <td>33.0</td>\n",
       "      <td>not fit</td>\n",
       "      <td>152.4</td>\n",
       "      <td>7.62</td>\n",
       "    </tr>\n",
       "  </tbody>\n",
       "</table>\n",
       "</div>"
      ],
      "text/plain": [
       "   bust size  weight  rating  body type   height  size   age  fitting   feet  \\\n",
       "3        34c     135     8.0       pear  [5,  5]     8  34.0      fit  152.4   \n",
       "5        32b     138     8.0   athletic  [5,  8]     8  45.0      fit  152.4   \n",
       "6        34c     112    10.0  hourglass  [5,  3]     4  27.0      fit  152.4   \n",
       "7       34d+     118    10.0  full bust  [5,  3]     8  65.0      fit  152.4   \n",
       "10       34b     135     8.0   athletic  [5,  3]    12  33.0  not fit  152.4   \n",
       "\n",
       "    inches  \n",
       "3    12.70  \n",
       "5    20.32  \n",
       "6     7.62  \n",
       "7     7.62  \n",
       "10    7.62  "
      ]
     },
     "execution_count": 573,
     "metadata": {},
     "output_type": "execute_result"
    }
   ],
   "source": [
    "clothes_df.head()"
   ]
  },
  {
   "cell_type": "code",
   "execution_count": 574,
   "metadata": {},
   "outputs": [],
   "source": [
    "clothes_df['height_cm'] = clothes_df['feet'] + clothes_df['inches']\n",
    "clothes_df.drop(columns=['height', 'feet', 'inches'], axis=1, inplace=True)"
   ]
  },
  {
   "cell_type": "code",
   "execution_count": 575,
   "metadata": {},
   "outputs": [
    {
     "data": {
      "text/html": [
       "<div>\n",
       "<style scoped>\n",
       "    .dataframe tbody tr th:only-of-type {\n",
       "        vertical-align: middle;\n",
       "    }\n",
       "\n",
       "    .dataframe tbody tr th {\n",
       "        vertical-align: top;\n",
       "    }\n",
       "\n",
       "    .dataframe thead th {\n",
       "        text-align: right;\n",
       "    }\n",
       "</style>\n",
       "<table border=\"1\" class=\"dataframe\">\n",
       "  <thead>\n",
       "    <tr style=\"text-align: right;\">\n",
       "      <th></th>\n",
       "      <th>bust size</th>\n",
       "      <th>weight</th>\n",
       "      <th>rating</th>\n",
       "      <th>body type</th>\n",
       "      <th>size</th>\n",
       "      <th>age</th>\n",
       "      <th>fitting</th>\n",
       "      <th>height_cm</th>\n",
       "    </tr>\n",
       "  </thead>\n",
       "  <tbody>\n",
       "    <tr>\n",
       "      <th>3</th>\n",
       "      <td>34c</td>\n",
       "      <td>135</td>\n",
       "      <td>8.0</td>\n",
       "      <td>pear</td>\n",
       "      <td>8</td>\n",
       "      <td>34</td>\n",
       "      <td>fit</td>\n",
       "      <td>165.10</td>\n",
       "    </tr>\n",
       "    <tr>\n",
       "      <th>5</th>\n",
       "      <td>32b</td>\n",
       "      <td>138</td>\n",
       "      <td>8.0</td>\n",
       "      <td>athletic</td>\n",
       "      <td>8</td>\n",
       "      <td>45</td>\n",
       "      <td>fit</td>\n",
       "      <td>172.72</td>\n",
       "    </tr>\n",
       "    <tr>\n",
       "      <th>6</th>\n",
       "      <td>34c</td>\n",
       "      <td>112</td>\n",
       "      <td>10.0</td>\n",
       "      <td>hourglass</td>\n",
       "      <td>4</td>\n",
       "      <td>27</td>\n",
       "      <td>fit</td>\n",
       "      <td>160.02</td>\n",
       "    </tr>\n",
       "    <tr>\n",
       "      <th>7</th>\n",
       "      <td>34d+</td>\n",
       "      <td>118</td>\n",
       "      <td>10.0</td>\n",
       "      <td>full bust</td>\n",
       "      <td>8</td>\n",
       "      <td>65</td>\n",
       "      <td>fit</td>\n",
       "      <td>160.02</td>\n",
       "    </tr>\n",
       "    <tr>\n",
       "      <th>10</th>\n",
       "      <td>34b</td>\n",
       "      <td>135</td>\n",
       "      <td>8.0</td>\n",
       "      <td>athletic</td>\n",
       "      <td>12</td>\n",
       "      <td>33</td>\n",
       "      <td>not fit</td>\n",
       "      <td>160.02</td>\n",
       "    </tr>\n",
       "  </tbody>\n",
       "</table>\n",
       "</div>"
      ],
      "text/plain": [
       "   bust size  weight  rating  body type  size  age  fitting  height_cm\n",
       "3        34c     135     8.0       pear     8   34      fit     165.10\n",
       "5        32b     138     8.0   athletic     8   45      fit     172.72\n",
       "6        34c     112    10.0  hourglass     4   27      fit     160.02\n",
       "7       34d+     118    10.0  full bust     8   65      fit     160.02\n",
       "10       34b     135     8.0   athletic    12   33  not fit     160.02"
      ]
     },
     "execution_count": 575,
     "metadata": {},
     "output_type": "execute_result"
    }
   ],
   "source": [
    "\n",
    "clothes_df['age'] = clothes_df['age'].astype(int)\n",
    "clothes_df.head()"
   ]
  },
  {
   "cell_type": "code",
   "execution_count": 576,
   "metadata": {},
   "outputs": [
    {
     "data": {
      "text/plain": [
       "fit        56901\n",
       "not fit    22576\n",
       "Name: fitting, dtype: int64"
      ]
     },
     "execution_count": 576,
     "metadata": {},
     "output_type": "execute_result"
    }
   ],
   "source": [
    "clothes_df['fitting'].value_counts()"
   ]
  },
  {
   "cell_type": "code",
   "execution_count": 577,
   "metadata": {},
   "outputs": [
    {
     "data": {
      "text/plain": [
       "(79477, 8)"
      ]
     },
     "execution_count": 577,
     "metadata": {},
     "output_type": "execute_result"
    }
   ],
   "source": [
    "clothes_df.shape"
   ]
  },
  {
   "cell_type": "markdown",
   "metadata": {},
   "source": [
    "\n",
    "## EDA"
   ]
  },
  {
   "cell_type": "markdown",
   "metadata": {},
   "source": [
    "### Univariate Analysis"
   ]
  },
  {
   "cell_type": "code",
   "execution_count": 578,
   "metadata": {},
   "outputs": [
    {
     "data": {
      "text/plain": [
       "array([ 34,  45,  27,  65,  33,  30,  29,  35,  26,  28,  21,  20,  32,\n",
       "        53,  31,  38,  36,  37,  24,  25,  48,  40,  23,  44,  17,  43,\n",
       "        50,  39,  42,  41,  56,  52,  54,  59,  46,  47,  55,  49,  57,\n",
       "        22,  60,  19,  58,  15,  62,  51,  70,  16,  69,  66,  18,  64,\n",
       "        63,  87,  68,  61, 117, 116,  67,   2,  91,  92, 106,  75,  72,\n",
       "        14,   1,  71,  74,  76,  73,   3])"
      ]
     },
     "execution_count": 578,
     "metadata": {},
     "output_type": "execute_result"
    }
   ],
   "source": [
    "clothes_df['age'] = clothes_df['age'].replace(0, np.nan)\n",
    "clothes_df['age'].fillna(clothes_df['age'].mean(), inplace=True)\n",
    "clothes_df['age'] = clothes_df['age'].astype(int)\n",
    "\n",
    "clothes_df['age'].unique()"
   ]
  },
  {
   "cell_type": "code",
   "execution_count": 579,
   "metadata": {},
   "outputs": [
    {
     "data": {
      "text/html": [
       "<div>\n",
       "<style scoped>\n",
       "    .dataframe tbody tr th:only-of-type {\n",
       "        vertical-align: middle;\n",
       "    }\n",
       "\n",
       "    .dataframe tbody tr th {\n",
       "        vertical-align: top;\n",
       "    }\n",
       "\n",
       "    .dataframe thead th {\n",
       "        text-align: right;\n",
       "    }\n",
       "</style>\n",
       "<table border=\"1\" class=\"dataframe\">\n",
       "  <thead>\n",
       "    <tr style=\"text-align: right;\">\n",
       "      <th></th>\n",
       "      <th>weight</th>\n",
       "      <th>rating</th>\n",
       "      <th>size</th>\n",
       "      <th>age</th>\n",
       "      <th>height_cm</th>\n",
       "    </tr>\n",
       "  </thead>\n",
       "  <tbody>\n",
       "    <tr>\n",
       "      <th>count</th>\n",
       "      <td>79477.000000</td>\n",
       "      <td>79477.000000</td>\n",
       "      <td>79477.000000</td>\n",
       "      <td>79477.000000</td>\n",
       "      <td>79477.000000</td>\n",
       "    </tr>\n",
       "    <tr>\n",
       "      <th>mean</th>\n",
       "      <td>134.808737</td>\n",
       "      <td>9.038112</td>\n",
       "      <td>12.007335</td>\n",
       "      <td>33.907206</td>\n",
       "      <td>165.628633</td>\n",
       "    </tr>\n",
       "    <tr>\n",
       "      <th>std</th>\n",
       "      <td>21.225765</td>\n",
       "      <td>1.453498</td>\n",
       "      <td>8.042988</td>\n",
       "      <td>7.725137</td>\n",
       "      <td>6.784576</td>\n",
       "    </tr>\n",
       "    <tr>\n",
       "      <th>min</th>\n",
       "      <td>50.000000</td>\n",
       "      <td>2.000000</td>\n",
       "      <td>0.000000</td>\n",
       "      <td>1.000000</td>\n",
       "      <td>137.160000</td>\n",
       "    </tr>\n",
       "    <tr>\n",
       "      <th>25%</th>\n",
       "      <td>118.000000</td>\n",
       "      <td>8.000000</td>\n",
       "      <td>8.000000</td>\n",
       "      <td>29.000000</td>\n",
       "      <td>160.020000</td>\n",
       "    </tr>\n",
       "    <tr>\n",
       "      <th>50%</th>\n",
       "      <td>130.000000</td>\n",
       "      <td>10.000000</td>\n",
       "      <td>12.000000</td>\n",
       "      <td>32.000000</td>\n",
       "      <td>165.100000</td>\n",
       "    </tr>\n",
       "    <tr>\n",
       "      <th>75%</th>\n",
       "      <td>145.000000</td>\n",
       "      <td>10.000000</td>\n",
       "      <td>16.000000</td>\n",
       "      <td>37.000000</td>\n",
       "      <td>170.180000</td>\n",
       "    </tr>\n",
       "    <tr>\n",
       "      <th>max</th>\n",
       "      <td>285.000000</td>\n",
       "      <td>10.000000</td>\n",
       "      <td>57.000000</td>\n",
       "      <td>117.000000</td>\n",
       "      <td>193.040000</td>\n",
       "    </tr>\n",
       "  </tbody>\n",
       "</table>\n",
       "</div>"
      ],
      "text/plain": [
       "             weight        rating          size           age     height_cm\n",
       "count  79477.000000  79477.000000  79477.000000  79477.000000  79477.000000\n",
       "mean     134.808737      9.038112     12.007335     33.907206    165.628633\n",
       "std       21.225765      1.453498      8.042988      7.725137      6.784576\n",
       "min       50.000000      2.000000      0.000000      1.000000    137.160000\n",
       "25%      118.000000      8.000000      8.000000     29.000000    160.020000\n",
       "50%      130.000000     10.000000     12.000000     32.000000    165.100000\n",
       "75%      145.000000     10.000000     16.000000     37.000000    170.180000\n",
       "max      285.000000     10.000000     57.000000    117.000000    193.040000"
      ]
     },
     "execution_count": 579,
     "metadata": {},
     "output_type": "execute_result"
    }
   ],
   "source": [
    "clothes_df.describe()"
   ]
  },
  {
   "cell_type": "code",
   "execution_count": 580,
   "metadata": {},
   "outputs": [],
   "source": [
    "clothes_df['size'] = np.log(clothes_df['size'].replace(0, np.nan))\n",
    "clothes_df['size'].replace(np.nan, 0, inplace=True)"
   ]
  },
  {
   "cell_type": "code",
   "execution_count": 581,
   "metadata": {},
   "outputs": [
    {
     "data": {
      "image/png": "[encoded data removed]",
      "text/plain": [
       "<Figure size 432x288 with 1 Axes>"
      ]
     },
     "metadata": {
      "needs_background": "light"
     },
     "output_type": "display_data"
    },
    {
     "data": {
      "image/png": "[encoded data removed]",
      "text/plain": [
       "<Figure size 432x288 with 1 Axes>"
      ]
     },
     "metadata": {
      "needs_background": "light"
     },
     "output_type": "display_data"
    },
    {
     "data": {
      "image/png": "[encoded data removed]",
      "text/plain": [
       "<Figure size 432x288 with 1 Axes>"
      ]
     },
     "metadata": {
      "needs_background": "light"
     },
     "output_type": "display_data"
    },
    {
     "data": {
      "image/png": "[encoded data removed]",
      "text/plain": [
       "<Figure size 432x288 with 1 Axes>"
      ]
     },
     "metadata": {
      "needs_background": "light"
     },
     "output_type": "display_data"
    },
    {
     "data": {
      "image/png": "[encoded data removed]",
      "text/plain": [
       "<Figure size 432x288 with 1 Axes>"
      ]
     },
     "metadata": {
      "needs_background": "light"
     },
     "output_type": "display_data"
    }
   ],
   "source": [
    "for i in clothes_df.select_dtypes(include='number'):\n",
    "    plt.hist(clothes_df[i])\n",
    "    plt.title(i)\n",
    "    plt.show()"
   ]
  },
  {
   "cell_type": "code",
   "execution_count": 582,
   "metadata": {},
   "outputs": [
    {
     "data": {
      "text/plain": [
       "(array([   12,    17,    46, ..., 79449, 79456, 79460], dtype=int64),)"
      ]
     },
     "execution_count": 582,
     "metadata": {},
     "output_type": "execute_result"
    }
   ],
   "source": [
    "np.where(clothes_df['size'] == 0)"
   ]
  },
  {
   "cell_type": "code",
   "execution_count": null,
   "metadata": {},
   "outputs": [],
   "source": []
  },
  {
   "cell_type": "code",
   "execution_count": 583,
   "metadata": {},
   "outputs": [
    {
     "data": {
      "text/plain": [
       "Text(0.5, 1.0, 'horizontal bar chart of fit')"
      ]
     },
     "execution_count": 583,
     "metadata": {},
     "output_type": "execute_result"
    },
    {
     "data": {
      "image/png": "[encoded data removed]",
      "text/plain": [
       "<Figure size 504x360 with 1 Axes>"
      ]
     },
     "metadata": {
      "needs_background": "light"
     },
     "output_type": "display_data"
    }
   ],
   "source": [
    "plt.figure(figsize=(7,5))\n",
    "plt.bar(clothes_df.groupby(\"fitting\")[\"fitting\"].count().index, \n",
    "         clothes_df.groupby(\"fitting\")[\"fitting\"].count(), \n",
    "         color=[\"gray\",\"blue\"])\n",
    "plt.title(\"horizontal bar chart of fit\")"
   ]
  },
  {
   "cell_type": "code",
   "execution_count": 584,
   "metadata": {},
   "outputs": [
    {
     "data": {
      "text/plain": [
       "'from wordcloud import WordCloud\\n\\nwordcloud = WordCloud(background_color=\"white\").generate(\" \".join(clothes_df[\"\"]))\\nplt.figure(figsize=(10,10))\\n\\nplt.imshow(wordcloud, interpolation=\\'bilinear\\')\\nplt.axis(\"off\")\\n\\nplt.show()'"
      ]
     },
     "execution_count": 584,
     "metadata": {},
     "output_type": "execute_result"
    }
   ],
   "source": [
    "'''from wordcloud import WordCloud\n",
    "\n",
    "wordcloud = WordCloud(background_color=\"white\").generate(\" \".join(clothes_df[\"\"]))\n",
    "plt.figure(figsize=(10,10))\n",
    "\n",
    "plt.imshow(wordcloud, interpolation='bilinear')\n",
    "plt.axis(\"off\")\n",
    "\n",
    "plt.show()'''"
   ]
  },
  {
   "cell_type": "markdown",
   "metadata": {},
   "source": [
    "### Bivariate Analysis"
   ]
  },
  {
   "cell_type": "markdown",
   "metadata": {},
   "source": [
    "##### Continuous/Continuous"
   ]
  },
  {
   "cell_type": "code",
   "execution_count": 585,
   "metadata": {},
   "outputs": [
    {
     "data": {
      "text/html": [
       "<div>\n",
       "<style scoped>\n",
       "    .dataframe tbody tr th:only-of-type {\n",
       "        vertical-align: middle;\n",
       "    }\n",
       "\n",
       "    .dataframe tbody tr th {\n",
       "        vertical-align: top;\n",
       "    }\n",
       "\n",
       "    .dataframe thead th {\n",
       "        text-align: right;\n",
       "    }\n",
       "</style>\n",
       "<table border=\"1\" class=\"dataframe\">\n",
       "  <thead>\n",
       "    <tr style=\"text-align: right;\">\n",
       "      <th></th>\n",
       "      <th>weight</th>\n",
       "      <th>rating</th>\n",
       "      <th>size</th>\n",
       "      <th>age</th>\n",
       "      <th>height_cm</th>\n",
       "    </tr>\n",
       "  </thead>\n",
       "  <tbody>\n",
       "    <tr>\n",
       "      <th>weight</th>\n",
       "      <td>1.000000</td>\n",
       "      <td>-0.015818</td>\n",
       "      <td>0.591490</td>\n",
       "      <td>0.043702</td>\n",
       "      <td>0.337471</td>\n",
       "    </tr>\n",
       "    <tr>\n",
       "      <th>rating</th>\n",
       "      <td>-0.015818</td>\n",
       "      <td>1.000000</td>\n",
       "      <td>-0.032322</td>\n",
       "      <td>-0.030601</td>\n",
       "      <td>0.003042</td>\n",
       "    </tr>\n",
       "    <tr>\n",
       "      <th>size</th>\n",
       "      <td>0.591490</td>\n",
       "      <td>-0.032322</td>\n",
       "      <td>1.000000</td>\n",
       "      <td>0.130274</td>\n",
       "      <td>0.262982</td>\n",
       "    </tr>\n",
       "    <tr>\n",
       "      <th>age</th>\n",
       "      <td>0.043702</td>\n",
       "      <td>-0.030601</td>\n",
       "      <td>0.130274</td>\n",
       "      <td>1.000000</td>\n",
       "      <td>-0.018413</td>\n",
       "    </tr>\n",
       "    <tr>\n",
       "      <th>height_cm</th>\n",
       "      <td>0.337471</td>\n",
       "      <td>0.003042</td>\n",
       "      <td>0.262982</td>\n",
       "      <td>-0.018413</td>\n",
       "      <td>1.000000</td>\n",
       "    </tr>\n",
       "  </tbody>\n",
       "</table>\n",
       "</div>"
      ],
      "text/plain": [
       "             weight    rating      size       age  height_cm\n",
       "weight     1.000000 -0.015818  0.591490  0.043702   0.337471\n",
       "rating    -0.015818  1.000000 -0.032322 -0.030601   0.003042\n",
       "size       0.591490 -0.032322  1.000000  0.130274   0.262982\n",
       "age        0.043702 -0.030601  0.130274  1.000000  -0.018413\n",
       "height_cm  0.337471  0.003042  0.262982 -0.018413   1.000000"
      ]
     },
     "execution_count": 585,
     "metadata": {},
     "output_type": "execute_result"
    }
   ],
   "source": [
    "clothes_df.corr()"
   ]
  },
  {
   "cell_type": "code",
   "execution_count": 586,
   "metadata": {},
   "outputs": [
    {
     "data": {
      "text/plain": [
       "<seaborn.axisgrid.PairGrid at 0x2a273a01e80>"
      ]
     },
     "execution_count": 586,
     "metadata": {},
     "output_type": "execute_result"
    },
    {
     "data": {
      "image/png": "[encoded data removed]",
      "text/plain": [
       "<Figure size 648x648 with 30 Axes>"
      ]
     },
     "metadata": {
      "needs_background": "light"
     },
     "output_type": "display_data"
    }
   ],
   "source": [
    "sns.pairplot(data=clothes_df, height=1.8)"
   ]
  },
  {
   "cell_type": "code",
   "execution_count": 587,
   "metadata": {},
   "outputs": [
    {
     "data": {
      "image/png": "[encoded data removed]",
      "text/plain": [
       "<Figure size 720x360 with 2 Axes>"
      ]
     },
     "metadata": {
      "needs_background": "light"
     },
     "output_type": "display_data"
    }
   ],
   "source": [
    "plt.figure(figsize=(10,5))\n",
    "\n",
    "#plt.subplot(1,2,1)\n",
    "sns.heatmap(clothes_df.corr(), square=True, annot=True, linewidths=.5)\n",
    "plt.title(\"correlation matrix (Clothes)\")\n",
    "plt.show()"
   ]
  },
  {
   "cell_type": "markdown",
   "metadata": {},
   "source": [
    "size and weight (0.657)\n",
    "\n",
    "weight and height_cm (0.339)\n",
    "\n",
    "size and height_cm (0.236)\n",
    "\n",
    "size and age (0.153)"
   ]
  },
  {
   "cell_type": "markdown",
   "metadata": {},
   "source": [
    "#### Categorical/Continuous"
   ]
  },
  {
   "cell_type": "code",
   "execution_count": 588,
   "metadata": {
    "scrolled": true
   },
   "outputs": [
    {
     "data": {
      "text/html": [
       "<div>\n",
       "<style scoped>\n",
       "    .dataframe tbody tr th:only-of-type {\n",
       "        vertical-align: middle;\n",
       "    }\n",
       "\n",
       "    .dataframe tbody tr th {\n",
       "        vertical-align: top;\n",
       "    }\n",
       "\n",
       "    .dataframe thead th {\n",
       "        text-align: right;\n",
       "    }\n",
       "</style>\n",
       "<table border=\"1\" class=\"dataframe\">\n",
       "  <thead>\n",
       "    <tr style=\"text-align: right;\">\n",
       "      <th></th>\n",
       "      <th>weight</th>\n",
       "      <th>rating</th>\n",
       "      <th>size</th>\n",
       "      <th>age</th>\n",
       "      <th>height_cm</th>\n",
       "    </tr>\n",
       "    <tr>\n",
       "      <th>fitting</th>\n",
       "      <th></th>\n",
       "      <th></th>\n",
       "      <th></th>\n",
       "      <th></th>\n",
       "      <th></th>\n",
       "    </tr>\n",
       "  </thead>\n",
       "  <tbody>\n",
       "    <tr>\n",
       "      <th>fit</th>\n",
       "      <td>134.754609</td>\n",
       "      <td>9.258431</td>\n",
       "      <td>2.193414</td>\n",
       "      <td>33.972426</td>\n",
       "      <td>165.679146</td>\n",
       "    </tr>\n",
       "    <tr>\n",
       "      <th>not fit</th>\n",
       "      <td>134.945163</td>\n",
       "      <td>8.482814</td>\n",
       "      <td>2.222162</td>\n",
       "      <td>33.742824</td>\n",
       "      <td>165.501319</td>\n",
       "    </tr>\n",
       "  </tbody>\n",
       "</table>\n",
       "</div>"
      ],
      "text/plain": [
       "             weight    rating      size        age   height_cm\n",
       "fitting                                                       \n",
       "fit      134.754609  9.258431  2.193414  33.972426  165.679146\n",
       "not fit  134.945163  8.482814  2.222162  33.742824  165.501319"
      ]
     },
     "execution_count": 588,
     "metadata": {},
     "output_type": "execute_result"
    }
   ],
   "source": [
    "clothes_df.groupby('fitting').mean()"
   ]
  },
  {
   "cell_type": "code",
   "execution_count": 589,
   "metadata": {},
   "outputs": [
    {
     "data": {
      "image/png": "[encoded data removed]",
      "text/plain": [
       "<Figure size 720x360 with 1 Axes>"
      ]
     },
     "metadata": {
      "needs_background": "light"
     },
     "output_type": "display_data"
    }
   ],
   "source": [
    "plt.figure(figsize=(10,5))\n",
    "\n",
    "#plt.subplot(1,3,1)\n",
    "sns.barplot(x=clothes_df[\"fitting\"], y=clothes_df[\"size\"], data=clothes_df)\n",
    "plt.title(\"average size of each fitting\")\n",
    "plt.show()"
   ]
  },
  {
   "cell_type": "markdown",
   "metadata": {},
   "source": [
    "#### Categorical/Categorical"
   ]
  },
  {
   "cell_type": "code",
   "execution_count": 590,
   "metadata": {},
   "outputs": [
    {
     "data": {
      "text/html": [
       "<div>\n",
       "<style scoped>\n",
       "    .dataframe tbody tr th:only-of-type {\n",
       "        vertical-align: middle;\n",
       "    }\n",
       "\n",
       "    .dataframe tbody tr th {\n",
       "        vertical-align: top;\n",
       "    }\n",
       "\n",
       "    .dataframe thead th {\n",
       "        text-align: right;\n",
       "    }\n",
       "</style>\n",
       "<table border=\"1\" class=\"dataframe\">\n",
       "  <thead>\n",
       "    <tr style=\"text-align: right;\">\n",
       "      <th></th>\n",
       "      <th>bust size</th>\n",
       "      <th>weight</th>\n",
       "      <th>rating</th>\n",
       "      <th>body type</th>\n",
       "      <th>size</th>\n",
       "      <th>age</th>\n",
       "      <th>fitting</th>\n",
       "      <th>height_cm</th>\n",
       "      <th>bust_line</th>\n",
       "      <th>cup_size</th>\n",
       "    </tr>\n",
       "  </thead>\n",
       "  <tbody>\n",
       "    <tr>\n",
       "      <th>3</th>\n",
       "      <td>34c</td>\n",
       "      <td>135</td>\n",
       "      <td>8.0</td>\n",
       "      <td>pear</td>\n",
       "      <td>2.079442</td>\n",
       "      <td>34</td>\n",
       "      <td>fit</td>\n",
       "      <td>165.10</td>\n",
       "      <td>34</td>\n",
       "      <td>c</td>\n",
       "    </tr>\n",
       "    <tr>\n",
       "      <th>5</th>\n",
       "      <td>32b</td>\n",
       "      <td>138</td>\n",
       "      <td>8.0</td>\n",
       "      <td>athletic</td>\n",
       "      <td>2.079442</td>\n",
       "      <td>45</td>\n",
       "      <td>fit</td>\n",
       "      <td>172.72</td>\n",
       "      <td>32</td>\n",
       "      <td>b</td>\n",
       "    </tr>\n",
       "    <tr>\n",
       "      <th>6</th>\n",
       "      <td>34c</td>\n",
       "      <td>112</td>\n",
       "      <td>10.0</td>\n",
       "      <td>hourglass</td>\n",
       "      <td>1.386294</td>\n",
       "      <td>27</td>\n",
       "      <td>fit</td>\n",
       "      <td>160.02</td>\n",
       "      <td>34</td>\n",
       "      <td>c</td>\n",
       "    </tr>\n",
       "    <tr>\n",
       "      <th>7</th>\n",
       "      <td>34d+</td>\n",
       "      <td>118</td>\n",
       "      <td>10.0</td>\n",
       "      <td>full bust</td>\n",
       "      <td>2.079442</td>\n",
       "      <td>65</td>\n",
       "      <td>fit</td>\n",
       "      <td>160.02</td>\n",
       "      <td>34</td>\n",
       "      <td>d+</td>\n",
       "    </tr>\n",
       "    <tr>\n",
       "      <th>10</th>\n",
       "      <td>34b</td>\n",
       "      <td>135</td>\n",
       "      <td>8.0</td>\n",
       "      <td>athletic</td>\n",
       "      <td>2.484907</td>\n",
       "      <td>33</td>\n",
       "      <td>not fit</td>\n",
       "      <td>160.02</td>\n",
       "      <td>34</td>\n",
       "      <td>b</td>\n",
       "    </tr>\n",
       "  </tbody>\n",
       "</table>\n",
       "</div>"
      ],
      "text/plain": [
       "   bust size  weight  rating  body type      size  age  fitting  height_cm  \\\n",
       "3        34c     135     8.0       pear  2.079442   34      fit     165.10   \n",
       "5        32b     138     8.0   athletic  2.079442   45      fit     172.72   \n",
       "6        34c     112    10.0  hourglass  1.386294   27      fit     160.02   \n",
       "7       34d+     118    10.0  full bust  2.079442   65      fit     160.02   \n",
       "10       34b     135     8.0   athletic  2.484907   33  not fit     160.02   \n",
       "\n",
       "   bust_line cup_size  \n",
       "3         34        c  \n",
       "5         32        b  \n",
       "6         34        c  \n",
       "7         34       d+  \n",
       "10        34        b  "
      ]
     },
     "execution_count": 590,
     "metadata": {},
     "output_type": "execute_result"
    }
   ],
   "source": [
    "clothes_df['bust_line'] = clothes_df['bust size'].apply(lambda x: x[:2])\n",
    "clothes_df['cup_size'] = clothes_df['bust size'].apply(lambda x: x[2:])\n",
    "clothes_df.head()"
   ]
  },
  {
   "cell_type": "code",
   "execution_count": 591,
   "metadata": {},
   "outputs": [],
   "source": [
    "count_table = pd.crosstab(clothes_df[\"fitting\"], clothes_df[\"cup_size\"])\n",
    "clothes_df['cup_size'] = clothes_df['cup_size'].replace(['i', 'j'], 'h')\n",
    "clothes_df['cup_size'] = clothes_df['cup_size'].replace('ddd/e', 'e')"
   ]
  },
  {
   "cell_type": "code",
   "execution_count": 592,
   "metadata": {},
   "outputs": [],
   "source": [
    "from scipy.stats import stats\n",
    "from scipy.stats import chisquare\n",
    "import statsmodels.api as sm\n",
    "from scipy.stats import chisquare"
   ]
  },
  {
   "cell_type": "code",
   "execution_count": 593,
   "metadata": {},
   "outputs": [
    {
     "data": {
      "text/html": [
       "<div>\n",
       "<style scoped>\n",
       "    .dataframe tbody tr th:only-of-type {\n",
       "        vertical-align: middle;\n",
       "    }\n",
       "\n",
       "    .dataframe tbody tr th {\n",
       "        vertical-align: top;\n",
       "    }\n",
       "\n",
       "    .dataframe thead th {\n",
       "        text-align: right;\n",
       "    }\n",
       "</style>\n",
       "<table border=\"1\" class=\"dataframe\">\n",
       "  <thead>\n",
       "    <tr style=\"text-align: right;\">\n",
       "      <th>body type</th>\n",
       "      <th>apple</th>\n",
       "      <th>athletic</th>\n",
       "      <th>full bust</th>\n",
       "      <th>hourglass</th>\n",
       "      <th>pear</th>\n",
       "      <th>petite</th>\n",
       "      <th>straight &amp; narrow</th>\n",
       "    </tr>\n",
       "    <tr>\n",
       "      <th>fitting</th>\n",
       "      <th></th>\n",
       "      <th></th>\n",
       "      <th></th>\n",
       "      <th></th>\n",
       "      <th></th>\n",
       "      <th></th>\n",
       "      <th></th>\n",
       "    </tr>\n",
       "  </thead>\n",
       "  <tbody>\n",
       "    <tr>\n",
       "      <th>fit</th>\n",
       "      <td>1598</td>\n",
       "      <td>13849</td>\n",
       "      <td>4627</td>\n",
       "      <td>17790</td>\n",
       "      <td>7262</td>\n",
       "      <td>7307</td>\n",
       "      <td>4468</td>\n",
       "    </tr>\n",
       "    <tr>\n",
       "      <th>not fit</th>\n",
       "      <td>636</td>\n",
       "      <td>5403</td>\n",
       "      <td>1946</td>\n",
       "      <td>6954</td>\n",
       "      <td>3018</td>\n",
       "      <td>2890</td>\n",
       "      <td>1729</td>\n",
       "    </tr>\n",
       "  </tbody>\n",
       "</table>\n",
       "</div>"
      ],
      "text/plain": [
       "body type  apple  athletic  full bust  hourglass  pear  petite  \\\n",
       "fitting                                                          \n",
       "fit         1598     13849       4627      17790  7262    7307   \n",
       "not fit      636      5403       1946       6954  3018    2890   \n",
       "\n",
       "body type  straight & narrow  \n",
       "fitting                       \n",
       "fit                     4468  \n",
       "not fit                 1729  "
      ]
     },
     "execution_count": 593,
     "metadata": {},
     "output_type": "execute_result"
    }
   ],
   "source": [
    "count_table = pd.crosstab(clothes_df[\"fitting\"], clothes_df[\"body type\"])\n",
    "count_table"
   ]
  },
  {
   "cell_type": "code",
   "execution_count": 594,
   "metadata": {},
   "outputs": [
    {
     "name": "stdout",
     "output_type": "stream",
     "text": [
      "Power_divergenceResult(statistic=54490.7509468148, pvalue=0.0)\n"
     ]
    }
   ],
   "source": [
    " print(stats.chisquare(count_table, axis=None))"
   ]
  },
  {
   "cell_type": "code",
   "execution_count": 595,
   "metadata": {},
   "outputs": [
    {
     "data": {
      "image/png": "[encoded data removed]",
      "text/plain": [
       "<Figure size 432x288 with 1 Axes>"
      ]
     },
     "metadata": {
      "needs_background": "light"
     },
     "output_type": "display_data"
    }
   ],
   "source": [
    "sns.countplot(x=\"cup_size\", hue=\"fitting\", data=clothes_df)\n",
    "plt.show()"
   ]
  },
  {
   "cell_type": "code",
   "execution_count": 596,
   "metadata": {},
   "outputs": [
    {
     "data": {
      "text/html": [
       "<div>\n",
       "<style scoped>\n",
       "    .dataframe tbody tr th:only-of-type {\n",
       "        vertical-align: middle;\n",
       "    }\n",
       "\n",
       "    .dataframe tbody tr th {\n",
       "        vertical-align: top;\n",
       "    }\n",
       "\n",
       "    .dataframe thead th {\n",
       "        text-align: right;\n",
       "    }\n",
       "</style>\n",
       "<table border=\"1\" class=\"dataframe\">\n",
       "  <thead>\n",
       "    <tr style=\"text-align: right;\">\n",
       "      <th>body type</th>\n",
       "      <th>apple</th>\n",
       "      <th>athletic</th>\n",
       "      <th>full bust</th>\n",
       "      <th>hourglass</th>\n",
       "      <th>pear</th>\n",
       "      <th>petite</th>\n",
       "      <th>straight &amp; narrow</th>\n",
       "    </tr>\n",
       "    <tr>\n",
       "      <th>fitting</th>\n",
       "      <th></th>\n",
       "      <th></th>\n",
       "      <th></th>\n",
       "      <th></th>\n",
       "      <th></th>\n",
       "      <th></th>\n",
       "      <th></th>\n",
       "    </tr>\n",
       "  </thead>\n",
       "  <tbody>\n",
       "    <tr>\n",
       "      <th>fit</th>\n",
       "      <td>1598</td>\n",
       "      <td>13849</td>\n",
       "      <td>4627</td>\n",
       "      <td>17790</td>\n",
       "      <td>7262</td>\n",
       "      <td>7307</td>\n",
       "      <td>4468</td>\n",
       "    </tr>\n",
       "    <tr>\n",
       "      <th>not fit</th>\n",
       "      <td>636</td>\n",
       "      <td>5403</td>\n",
       "      <td>1946</td>\n",
       "      <td>6954</td>\n",
       "      <td>3018</td>\n",
       "      <td>2890</td>\n",
       "      <td>1729</td>\n",
       "    </tr>\n",
       "  </tbody>\n",
       "</table>\n",
       "</div>"
      ],
      "text/plain": [
       "body type  apple  athletic  full bust  hourglass  pear  petite  \\\n",
       "fitting                                                          \n",
       "fit         1598     13849       4627      17790  7262    7307   \n",
       "not fit      636      5403       1946       6954  3018    2890   \n",
       "\n",
       "body type  straight & narrow  \n",
       "fitting                       \n",
       "fit                     4468  \n",
       "not fit                 1729  "
      ]
     },
     "execution_count": 596,
     "metadata": {},
     "output_type": "execute_result"
    }
   ],
   "source": [
    "count_table2 = pd.crosstab(clothes_df[\"fitting\"], clothes_df[\"cup_size\"])\n",
    "count_table"
   ]
  },
  {
   "cell_type": "code",
   "execution_count": 597,
   "metadata": {},
   "outputs": [
    {
     "name": "stdout",
     "output_type": "stream",
     "text": [
      "Power_divergenceResult(statistic=167297.7573511834, pvalue=0.0)\n"
     ]
    }
   ],
   "source": [
    "print(stats.chisquare(count_table2, axis=None))"
   ]
  },
  {
   "cell_type": "code",
   "execution_count": 598,
   "metadata": {},
   "outputs": [
    {
     "data": {
      "image/png": "[encoded data removed]",
      "text/plain": [
       "<Figure size 432x288 with 1 Axes>"
      ]
     },
     "metadata": {
      "needs_background": "light"
     },
     "output_type": "display_data"
    }
   ],
   "source": [
    "sns.countplot(x=\"body type\", hue=\"fitting\", data=clothes_df)\n",
    "plt.xticks(rotation=90)\n",
    "plt.show()"
   ]
  },
  {
   "cell_type": "code",
   "execution_count": 599,
   "metadata": {},
   "outputs": [
    {
     "name": "stdout",
     "output_type": "stream",
     "text": [
      "Power_divergenceResult(statistic=54490.7509468148, pvalue=0.0)\n"
     ]
    }
   ],
   "source": [
    "print(stats.chisquare(count_table, axis=None))"
   ]
  },
  {
   "cell_type": "code",
   "execution_count": 600,
   "metadata": {},
   "outputs": [
    {
     "data": {
      "text/html": [
       "<div>\n",
       "<style scoped>\n",
       "    .dataframe tbody tr th:only-of-type {\n",
       "        vertical-align: middle;\n",
       "    }\n",
       "\n",
       "    .dataframe tbody tr th {\n",
       "        vertical-align: top;\n",
       "    }\n",
       "\n",
       "    .dataframe thead th {\n",
       "        text-align: right;\n",
       "    }\n",
       "</style>\n",
       "<table border=\"1\" class=\"dataframe\">\n",
       "  <thead>\n",
       "    <tr style=\"text-align: right;\">\n",
       "      <th></th>\n",
       "      <th>weight</th>\n",
       "      <th>rating</th>\n",
       "      <th>body type</th>\n",
       "      <th>size</th>\n",
       "      <th>age</th>\n",
       "      <th>fitting</th>\n",
       "      <th>height_cm</th>\n",
       "      <th>bust_line</th>\n",
       "      <th>cup_size</th>\n",
       "    </tr>\n",
       "  </thead>\n",
       "  <tbody>\n",
       "    <tr>\n",
       "      <th>3</th>\n",
       "      <td>135</td>\n",
       "      <td>8.0</td>\n",
       "      <td>pear</td>\n",
       "      <td>2.079442</td>\n",
       "      <td>34</td>\n",
       "      <td>fit</td>\n",
       "      <td>165.10</td>\n",
       "      <td>34</td>\n",
       "      <td>c</td>\n",
       "    </tr>\n",
       "    <tr>\n",
       "      <th>5</th>\n",
       "      <td>138</td>\n",
       "      <td>8.0</td>\n",
       "      <td>athletic</td>\n",
       "      <td>2.079442</td>\n",
       "      <td>45</td>\n",
       "      <td>fit</td>\n",
       "      <td>172.72</td>\n",
       "      <td>32</td>\n",
       "      <td>b</td>\n",
       "    </tr>\n",
       "    <tr>\n",
       "      <th>6</th>\n",
       "      <td>112</td>\n",
       "      <td>10.0</td>\n",
       "      <td>hourglass</td>\n",
       "      <td>1.386294</td>\n",
       "      <td>27</td>\n",
       "      <td>fit</td>\n",
       "      <td>160.02</td>\n",
       "      <td>34</td>\n",
       "      <td>c</td>\n",
       "    </tr>\n",
       "    <tr>\n",
       "      <th>7</th>\n",
       "      <td>118</td>\n",
       "      <td>10.0</td>\n",
       "      <td>full bust</td>\n",
       "      <td>2.079442</td>\n",
       "      <td>65</td>\n",
       "      <td>fit</td>\n",
       "      <td>160.02</td>\n",
       "      <td>34</td>\n",
       "      <td>d+</td>\n",
       "    </tr>\n",
       "    <tr>\n",
       "      <th>10</th>\n",
       "      <td>135</td>\n",
       "      <td>8.0</td>\n",
       "      <td>athletic</td>\n",
       "      <td>2.484907</td>\n",
       "      <td>33</td>\n",
       "      <td>not fit</td>\n",
       "      <td>160.02</td>\n",
       "      <td>34</td>\n",
       "      <td>b</td>\n",
       "    </tr>\n",
       "  </tbody>\n",
       "</table>\n",
       "</div>"
      ],
      "text/plain": [
       "    weight  rating  body type      size  age  fitting  height_cm bust_line  \\\n",
       "3      135     8.0       pear  2.079442   34      fit     165.10        34   \n",
       "5      138     8.0   athletic  2.079442   45      fit     172.72        32   \n",
       "6      112    10.0  hourglass  1.386294   27      fit     160.02        34   \n",
       "7      118    10.0  full bust  2.079442   65      fit     160.02        34   \n",
       "10     135     8.0   athletic  2.484907   33  not fit     160.02        34   \n",
       "\n",
       "   cup_size  \n",
       "3         c  \n",
       "5         b  \n",
       "6         c  \n",
       "7        d+  \n",
       "10        b  "
      ]
     },
     "execution_count": 600,
     "metadata": {},
     "output_type": "execute_result"
    }
   ],
   "source": [
    "clothes_df.drop(columns='bust size', axis=1, inplace=True)\n",
    "clothes_df.head()"
   ]
  },
  {
   "cell_type": "code",
   "execution_count": 601,
   "metadata": {},
   "outputs": [
    {
     "data": {
      "text/html": [
       "<div>\n",
       "<style scoped>\n",
       "    .dataframe tbody tr th:only-of-type {\n",
       "        vertical-align: middle;\n",
       "    }\n",
       "\n",
       "    .dataframe tbody tr th {\n",
       "        vertical-align: top;\n",
       "    }\n",
       "\n",
       "    .dataframe thead th {\n",
       "        text-align: right;\n",
       "    }\n",
       "</style>\n",
       "<table border=\"1\" class=\"dataframe\">\n",
       "  <thead>\n",
       "    <tr style=\"text-align: right;\">\n",
       "      <th></th>\n",
       "      <th>body type</th>\n",
       "      <th>fitting</th>\n",
       "      <th>bust_line</th>\n",
       "      <th>cup_size</th>\n",
       "    </tr>\n",
       "  </thead>\n",
       "  <tbody>\n",
       "    <tr>\n",
       "      <th>count</th>\n",
       "      <td>79477</td>\n",
       "      <td>79477</td>\n",
       "      <td>79477</td>\n",
       "      <td>79477</td>\n",
       "    </tr>\n",
       "    <tr>\n",
       "      <th>unique</th>\n",
       "      <td>7</td>\n",
       "      <td>2</td>\n",
       "      <td>11</td>\n",
       "      <td>11</td>\n",
       "    </tr>\n",
       "    <tr>\n",
       "      <th>top</th>\n",
       "      <td>hourglass</td>\n",
       "      <td>fit</td>\n",
       "      <td>34</td>\n",
       "      <td>c</td>\n",
       "    </tr>\n",
       "    <tr>\n",
       "      <th>freq</th>\n",
       "      <td>24744</td>\n",
       "      <td>56901</td>\n",
       "      <td>37537</td>\n",
       "      <td>22651</td>\n",
       "    </tr>\n",
       "  </tbody>\n",
       "</table>\n",
       "</div>"
      ],
      "text/plain": [
       "        body type fitting bust_line cup_size\n",
       "count       79477   79477     79477    79477\n",
       "unique          7       2        11       11\n",
       "top     hourglass     fit        34        c\n",
       "freq        24744   56901     37537    22651"
      ]
     },
     "execution_count": 601,
     "metadata": {},
     "output_type": "execute_result"
    }
   ],
   "source": [
    "clothes_df.describe(include=['O'])"
   ]
  },
  {
   "cell_type": "markdown",
   "metadata": {},
   "source": [
    "# Model Prep"
   ]
  },
  {
   "cell_type": "code",
   "execution_count": 602,
   "metadata": {},
   "outputs": [
    {
     "data": {
      "text/html": [
       "<div>\n",
       "<style scoped>\n",
       "    .dataframe tbody tr th:only-of-type {\n",
       "        vertical-align: middle;\n",
       "    }\n",
       "\n",
       "    .dataframe tbody tr th {\n",
       "        vertical-align: top;\n",
       "    }\n",
       "\n",
       "    .dataframe thead th {\n",
       "        text-align: right;\n",
       "    }\n",
       "</style>\n",
       "<table border=\"1\" class=\"dataframe\">\n",
       "  <thead>\n",
       "    <tr style=\"text-align: right;\">\n",
       "      <th></th>\n",
       "      <th>weight</th>\n",
       "      <th>rating</th>\n",
       "      <th>size</th>\n",
       "      <th>age</th>\n",
       "      <th>height_cm</th>\n",
       "    </tr>\n",
       "  </thead>\n",
       "  <tbody>\n",
       "    <tr>\n",
       "      <th>weight</th>\n",
       "      <td>1.000000</td>\n",
       "      <td>-0.015818</td>\n",
       "      <td>0.591490</td>\n",
       "      <td>0.043702</td>\n",
       "      <td>0.337471</td>\n",
       "    </tr>\n",
       "    <tr>\n",
       "      <th>rating</th>\n",
       "      <td>-0.015818</td>\n",
       "      <td>1.000000</td>\n",
       "      <td>-0.032322</td>\n",
       "      <td>-0.030601</td>\n",
       "      <td>0.003042</td>\n",
       "    </tr>\n",
       "    <tr>\n",
       "      <th>size</th>\n",
       "      <td>0.591490</td>\n",
       "      <td>-0.032322</td>\n",
       "      <td>1.000000</td>\n",
       "      <td>0.130274</td>\n",
       "      <td>0.262982</td>\n",
       "    </tr>\n",
       "    <tr>\n",
       "      <th>age</th>\n",
       "      <td>0.043702</td>\n",
       "      <td>-0.030601</td>\n",
       "      <td>0.130274</td>\n",
       "      <td>1.000000</td>\n",
       "      <td>-0.018413</td>\n",
       "    </tr>\n",
       "    <tr>\n",
       "      <th>height_cm</th>\n",
       "      <td>0.337471</td>\n",
       "      <td>0.003042</td>\n",
       "      <td>0.262982</td>\n",
       "      <td>-0.018413</td>\n",
       "      <td>1.000000</td>\n",
       "    </tr>\n",
       "  </tbody>\n",
       "</table>\n",
       "</div>"
      ],
      "text/plain": [
       "             weight    rating      size       age  height_cm\n",
       "weight     1.000000 -0.015818  0.591490  0.043702   0.337471\n",
       "rating    -0.015818  1.000000 -0.032322 -0.030601   0.003042\n",
       "size       0.591490 -0.032322  1.000000  0.130274   0.262982\n",
       "age        0.043702 -0.030601  0.130274  1.000000  -0.018413\n",
       "height_cm  0.337471  0.003042  0.262982 -0.018413   1.000000"
      ]
     },
     "execution_count": 602,
     "metadata": {},
     "output_type": "execute_result"
    }
   ],
   "source": [
    "clothes_df.corr()"
   ]
  },
  {
   "cell_type": "code",
   "execution_count": 603,
   "metadata": {},
   "outputs": [
    {
     "data": {
      "text/plain": [
       "(79477, 9)"
      ]
     },
     "execution_count": 603,
     "metadata": {},
     "output_type": "execute_result"
    }
   ],
   "source": [
    "clothes_df.shape"
   ]
  },
  {
   "cell_type": "code",
   "execution_count": 604,
   "metadata": {},
   "outputs": [
    {
     "data": {
      "text/plain": [
       "\"clothes_df['fitting'] = clothes_df['fitting'].replace('fit', 1)\\nclothes_df['fitting'] = clothes_df['fitting'].replace('not fit', 0)\\n\""
      ]
     },
     "execution_count": 604,
     "metadata": {},
     "output_type": "execute_result"
    }
   ],
   "source": [
    "'''clothes_df['fitting'] = clothes_df['fitting'].replace('fit', 1)\n",
    "clothes_df['fitting'] = clothes_df['fitting'].replace('not fit', 0)\n",
    "'''\n"
   ]
  },
  {
   "cell_type": "code",
   "execution_count": 605,
   "metadata": {},
   "outputs": [
    {
     "data": {
      "text/html": [
       "<div>\n",
       "<style scoped>\n",
       "    .dataframe tbody tr th:only-of-type {\n",
       "        vertical-align: middle;\n",
       "    }\n",
       "\n",
       "    .dataframe tbody tr th {\n",
       "        vertical-align: top;\n",
       "    }\n",
       "\n",
       "    .dataframe thead th {\n",
       "        text-align: right;\n",
       "    }\n",
       "</style>\n",
       "<table border=\"1\" class=\"dataframe\">\n",
       "  <thead>\n",
       "    <tr style=\"text-align: right;\">\n",
       "      <th></th>\n",
       "      <th>weight</th>\n",
       "      <th>rating</th>\n",
       "      <th>body type</th>\n",
       "      <th>size</th>\n",
       "      <th>age</th>\n",
       "      <th>fitting</th>\n",
       "      <th>height_cm</th>\n",
       "      <th>bust_line</th>\n",
       "      <th>cup_size</th>\n",
       "    </tr>\n",
       "  </thead>\n",
       "  <tbody>\n",
       "    <tr>\n",
       "      <th>3</th>\n",
       "      <td>135</td>\n",
       "      <td>8.0</td>\n",
       "      <td>pear</td>\n",
       "      <td>2.079442</td>\n",
       "      <td>34</td>\n",
       "      <td>fit</td>\n",
       "      <td>165.10</td>\n",
       "      <td>34</td>\n",
       "      <td>c</td>\n",
       "    </tr>\n",
       "    <tr>\n",
       "      <th>5</th>\n",
       "      <td>138</td>\n",
       "      <td>8.0</td>\n",
       "      <td>athletic</td>\n",
       "      <td>2.079442</td>\n",
       "      <td>45</td>\n",
       "      <td>fit</td>\n",
       "      <td>172.72</td>\n",
       "      <td>32</td>\n",
       "      <td>b</td>\n",
       "    </tr>\n",
       "    <tr>\n",
       "      <th>6</th>\n",
       "      <td>112</td>\n",
       "      <td>10.0</td>\n",
       "      <td>hourglass</td>\n",
       "      <td>1.386294</td>\n",
       "      <td>27</td>\n",
       "      <td>fit</td>\n",
       "      <td>160.02</td>\n",
       "      <td>34</td>\n",
       "      <td>c</td>\n",
       "    </tr>\n",
       "    <tr>\n",
       "      <th>7</th>\n",
       "      <td>118</td>\n",
       "      <td>10.0</td>\n",
       "      <td>full bust</td>\n",
       "      <td>2.079442</td>\n",
       "      <td>65</td>\n",
       "      <td>fit</td>\n",
       "      <td>160.02</td>\n",
       "      <td>34</td>\n",
       "      <td>d+</td>\n",
       "    </tr>\n",
       "    <tr>\n",
       "      <th>10</th>\n",
       "      <td>135</td>\n",
       "      <td>8.0</td>\n",
       "      <td>athletic</td>\n",
       "      <td>2.484907</td>\n",
       "      <td>33</td>\n",
       "      <td>not fit</td>\n",
       "      <td>160.02</td>\n",
       "      <td>34</td>\n",
       "      <td>b</td>\n",
       "    </tr>\n",
       "  </tbody>\n",
       "</table>\n",
       "</div>"
      ],
      "text/plain": [
       "    weight  rating  body type      size  age  fitting  height_cm bust_line  \\\n",
       "3      135     8.0       pear  2.079442   34      fit     165.10        34   \n",
       "5      138     8.0   athletic  2.079442   45      fit     172.72        32   \n",
       "6      112    10.0  hourglass  1.386294   27      fit     160.02        34   \n",
       "7      118    10.0  full bust  2.079442   65      fit     160.02        34   \n",
       "10     135     8.0   athletic  2.484907   33  not fit     160.02        34   \n",
       "\n",
       "   cup_size  \n",
       "3         c  \n",
       "5         b  \n",
       "6         c  \n",
       "7        d+  \n",
       "10        b  "
      ]
     },
     "execution_count": 605,
     "metadata": {},
     "output_type": "execute_result"
    }
   ],
   "source": [
    "clothes_df.head()"
   ]
  },
  {
   "cell_type": "code",
   "execution_count": 606,
   "metadata": {},
   "outputs": [],
   "source": [
    "clothes_df = pd.concat([clothes_df, pd.get_dummies(clothes_df[[\"body type\", \"cup_size\", \"bust_line\"]])], axis=1)\n",
    "clothes_df.drop(columns=['body type', 'cup_size', 'bust_line'], axis=1, inplace=True)"
   ]
  },
  {
   "cell_type": "code",
   "execution_count": 607,
   "metadata": {},
   "outputs": [],
   "source": [
    "def remove_correlated_features(dataset, threshold=0.70):\n",
    "    col_corr = set()\n",
    "    corr_matrix = dataset.corr()\n",
    "    for i in range(len(corr_matrix.columns)):\n",
    "        for j in range(i):\n",
    "            if (corr_matrix.iloc[i, j] >= threshold) and (corr_matrix.columns[j] not in col_corr):\n",
    "                colname = corr_matrix.columns[i]\n",
    "                col_corr.add(colname)\n",
    "                if colname in dataset.columns:\n",
    "                    print(f'Deleted {colname} from dataset.')\n",
    "                    del dataset[colname]\n",
    "\n",
    "    return dataset\n",
    "\n",
    "clothes_df = remove_correlated_features(clothes_df)"
   ]
  },
  {
   "cell_type": "markdown",
   "metadata": {},
   "source": [
    "# Models"
   ]
  },
  {
   "cell_type": "code",
   "execution_count": 608,
   "metadata": {},
   "outputs": [
    {
     "data": {
      "text/html": [
       "<div>\n",
       "<style scoped>\n",
       "    .dataframe tbody tr th:only-of-type {\n",
       "        vertical-align: middle;\n",
       "    }\n",
       "\n",
       "    .dataframe tbody tr th {\n",
       "        vertical-align: top;\n",
       "    }\n",
       "\n",
       "    .dataframe thead th {\n",
       "        text-align: right;\n",
       "    }\n",
       "</style>\n",
       "<table border=\"1\" class=\"dataframe\">\n",
       "  <thead>\n",
       "    <tr style=\"text-align: right;\">\n",
       "      <th></th>\n",
       "      <th>weight</th>\n",
       "      <th>rating</th>\n",
       "      <th>size</th>\n",
       "      <th>age</th>\n",
       "      <th>fitting</th>\n",
       "      <th>height_cm</th>\n",
       "      <th>body type_apple</th>\n",
       "      <th>body type_athletic</th>\n",
       "      <th>body type_full bust</th>\n",
       "      <th>body type_hourglass</th>\n",
       "      <th>...</th>\n",
       "      <th>bust_line_30</th>\n",
       "      <th>bust_line_32</th>\n",
       "      <th>bust_line_34</th>\n",
       "      <th>bust_line_36</th>\n",
       "      <th>bust_line_38</th>\n",
       "      <th>bust_line_40</th>\n",
       "      <th>bust_line_42</th>\n",
       "      <th>bust_line_44</th>\n",
       "      <th>bust_line_46</th>\n",
       "      <th>bust_line_48</th>\n",
       "    </tr>\n",
       "  </thead>\n",
       "  <tbody>\n",
       "    <tr>\n",
       "      <th>3</th>\n",
       "      <td>135</td>\n",
       "      <td>8.0</td>\n",
       "      <td>2.079442</td>\n",
       "      <td>34</td>\n",
       "      <td>fit</td>\n",
       "      <td>165.10</td>\n",
       "      <td>0</td>\n",
       "      <td>0</td>\n",
       "      <td>0</td>\n",
       "      <td>0</td>\n",
       "      <td>...</td>\n",
       "      <td>0</td>\n",
       "      <td>0</td>\n",
       "      <td>1</td>\n",
       "      <td>0</td>\n",
       "      <td>0</td>\n",
       "      <td>0</td>\n",
       "      <td>0</td>\n",
       "      <td>0</td>\n",
       "      <td>0</td>\n",
       "      <td>0</td>\n",
       "    </tr>\n",
       "    <tr>\n",
       "      <th>5</th>\n",
       "      <td>138</td>\n",
       "      <td>8.0</td>\n",
       "      <td>2.079442</td>\n",
       "      <td>45</td>\n",
       "      <td>fit</td>\n",
       "      <td>172.72</td>\n",
       "      <td>0</td>\n",
       "      <td>1</td>\n",
       "      <td>0</td>\n",
       "      <td>0</td>\n",
       "      <td>...</td>\n",
       "      <td>0</td>\n",
       "      <td>1</td>\n",
       "      <td>0</td>\n",
       "      <td>0</td>\n",
       "      <td>0</td>\n",
       "      <td>0</td>\n",
       "      <td>0</td>\n",
       "      <td>0</td>\n",
       "      <td>0</td>\n",
       "      <td>0</td>\n",
       "    </tr>\n",
       "    <tr>\n",
       "      <th>6</th>\n",
       "      <td>112</td>\n",
       "      <td>10.0</td>\n",
       "      <td>1.386294</td>\n",
       "      <td>27</td>\n",
       "      <td>fit</td>\n",
       "      <td>160.02</td>\n",
       "      <td>0</td>\n",
       "      <td>0</td>\n",
       "      <td>0</td>\n",
       "      <td>1</td>\n",
       "      <td>...</td>\n",
       "      <td>0</td>\n",
       "      <td>0</td>\n",
       "      <td>1</td>\n",
       "      <td>0</td>\n",
       "      <td>0</td>\n",
       "      <td>0</td>\n",
       "      <td>0</td>\n",
       "      <td>0</td>\n",
       "      <td>0</td>\n",
       "      <td>0</td>\n",
       "    </tr>\n",
       "    <tr>\n",
       "      <th>7</th>\n",
       "      <td>118</td>\n",
       "      <td>10.0</td>\n",
       "      <td>2.079442</td>\n",
       "      <td>65</td>\n",
       "      <td>fit</td>\n",
       "      <td>160.02</td>\n",
       "      <td>0</td>\n",
       "      <td>0</td>\n",
       "      <td>1</td>\n",
       "      <td>0</td>\n",
       "      <td>...</td>\n",
       "      <td>0</td>\n",
       "      <td>0</td>\n",
       "      <td>1</td>\n",
       "      <td>0</td>\n",
       "      <td>0</td>\n",
       "      <td>0</td>\n",
       "      <td>0</td>\n",
       "      <td>0</td>\n",
       "      <td>0</td>\n",
       "      <td>0</td>\n",
       "    </tr>\n",
       "    <tr>\n",
       "      <th>10</th>\n",
       "      <td>135</td>\n",
       "      <td>8.0</td>\n",
       "      <td>2.484907</td>\n",
       "      <td>33</td>\n",
       "      <td>not fit</td>\n",
       "      <td>160.02</td>\n",
       "      <td>0</td>\n",
       "      <td>1</td>\n",
       "      <td>0</td>\n",
       "      <td>0</td>\n",
       "      <td>...</td>\n",
       "      <td>0</td>\n",
       "      <td>0</td>\n",
       "      <td>1</td>\n",
       "      <td>0</td>\n",
       "      <td>0</td>\n",
       "      <td>0</td>\n",
       "      <td>0</td>\n",
       "      <td>0</td>\n",
       "      <td>0</td>\n",
       "      <td>0</td>\n",
       "    </tr>\n",
       "  </tbody>\n",
       "</table>\n",
       "<p>5 rows × 35 columns</p>\n",
       "</div>"
      ],
      "text/plain": [
       "    weight  rating      size  age  fitting  height_cm  body type_apple  \\\n",
       "3      135     8.0  2.079442   34      fit     165.10                0   \n",
       "5      138     8.0  2.079442   45      fit     172.72                0   \n",
       "6      112    10.0  1.386294   27      fit     160.02                0   \n",
       "7      118    10.0  2.079442   65      fit     160.02                0   \n",
       "10     135     8.0  2.484907   33  not fit     160.02                0   \n",
       "\n",
       "    body type_athletic  body type_full bust  body type_hourglass  ...  \\\n",
       "3                    0                    0                    0  ...   \n",
       "5                    1                    0                    0  ...   \n",
       "6                    0                    0                    1  ...   \n",
       "7                    0                    1                    0  ...   \n",
       "10                   1                    0                    0  ...   \n",
       "\n",
       "    bust_line_30  bust_line_32  bust_line_34  bust_line_36  bust_line_38  \\\n",
       "3              0             0             1             0             0   \n",
       "5              0             1             0             0             0   \n",
       "6              0             0             1             0             0   \n",
       "7              0             0             1             0             0   \n",
       "10             0             0             1             0             0   \n",
       "\n",
       "    bust_line_40  bust_line_42  bust_line_44  bust_line_46  bust_line_48  \n",
       "3              0             0             0             0             0  \n",
       "5              0             0             0             0             0  \n",
       "6              0             0             0             0             0  \n",
       "7              0             0             0             0             0  \n",
       "10             0             0             0             0             0  \n",
       "\n",
       "[5 rows x 35 columns]"
      ]
     },
     "execution_count": 608,
     "metadata": {},
     "output_type": "execute_result"
    }
   ],
   "source": [
    "clothes_df.head()"
   ]
  },
  {
   "cell_type": "code",
   "execution_count": 609,
   "metadata": {},
   "outputs": [],
   "source": [
    "clothes_df['fitting'] = clothes_df['fitting'].replace('fit', 0)\n",
    "clothes_df['fitting'] = clothes_df['fitting'].replace('not fit', 1)"
   ]
  },
  {
   "cell_type": "code",
   "execution_count": 611,
   "metadata": {},
   "outputs": [
    {
     "data": {
      "text/plain": [
       "\"from sklearn.model_selection import train_test_split, cross_val_score\\n\\n\\nX = clothes_df.drop(columns='fitting', axis=1)\\ny = clothes_df['fitting']\\n\\n\\nfrom sklearn.preprocessing import StandardScaler\\nX = StandardScaler().fit_transform(X)\\n\\nX_train, X_test, y_train, y_test = train_test_split(X, y, \\n                                                    test_size = 0.2)\""
      ]
     },
     "execution_count": 611,
     "metadata": {},
     "output_type": "execute_result"
    }
   ],
   "source": [
    "'''from sklearn.model_selection import train_test_split, cross_val_score\n",
    "\n",
    "\n",
    "X = clothes_df.drop(columns='fitting', axis=1)\n",
    "y = clothes_df['fitting']\n",
    "\n",
    "\n",
    "from sklearn.preprocessing import StandardScaler\n",
    "X = StandardScaler().fit_transform(X)\n",
    "\n",
    "X_train, X_test, y_train, y_test = train_test_split(X, y, \n",
    "                                                    test_size = 0.2)'''"
   ]
  },
  {
   "cell_type": "code",
   "execution_count": 612,
   "metadata": {},
   "outputs": [
    {
     "name": "stdout",
     "output_type": "stream",
     "text": [
      "[2.45704710e-01 9.14002425e-02 1.42162930e-01 2.90977321e-01\n",
      " 1.79224362e-01 2.19479043e-03 3.38221820e-03 2.09588818e-03\n",
      " 3.43878933e-03 2.39185140e-03 2.24211843e-03 2.29122847e-03\n",
      " 2.19142901e-03 6.74604984e-04 2.88300985e-03 4.18066708e-03\n",
      " 3.46542448e-03 1.21952466e-03 2.06386438e-03 1.55762245e-03\n",
      " 6.10484617e-04 5.68585710e-04 3.40299680e-04 2.81833422e-04\n",
      " 9.26605727e-04 2.92301263e-03 3.48288289e-03 2.34524279e-03\n",
      " 1.77066306e-03 5.26911443e-04 2.75571464e-04 1.42665771e-04\n",
      " 3.13917480e-05 3.12523257e-05]\n"
     ]
    },
    {
     "data": {
      "image/png": "[encoded data removed]",
      "text/plain": [
       "<Figure size 432x288 with 1 Axes>"
      ]
     },
     "metadata": {
      "needs_background": "light"
     },
     "output_type": "display_data"
    }
   ],
   "source": [
    "#import libraries\n",
    "from sklearn.ensemble import ExtraTreesClassifier\n",
    "import matplotlib.pyplot as plt\n",
    "#Fit the model\n",
    "model = ExtraTreesClassifier()\n",
    "model.fit(X,y)\n",
    "print(model.feature_importances_)\n",
    "#plot graph of feature importances\n",
    "feat_importances = pd.Series(model.feature_importances_, index=X.columns)\n",
    "feat_importances.nlargest(10).plot(kind='barh')\n",
    "plt.show()"
   ]
  },
  {
   "cell_type": "code",
   "execution_count": 613,
   "metadata": {},
   "outputs": [
    {
     "data": {
      "text/html": [
       "<div>\n",
       "<style scoped>\n",
       "    .dataframe tbody tr th:only-of-type {\n",
       "        vertical-align: middle;\n",
       "    }\n",
       "\n",
       "    .dataframe tbody tr th {\n",
       "        vertical-align: top;\n",
       "    }\n",
       "\n",
       "    .dataframe thead th {\n",
       "        text-align: right;\n",
       "    }\n",
       "</style>\n",
       "<table border=\"1\" class=\"dataframe\">\n",
       "  <thead>\n",
       "    <tr style=\"text-align: right;\">\n",
       "      <th></th>\n",
       "      <th>age</th>\n",
       "      <th>weight</th>\n",
       "      <th>height_cm</th>\n",
       "      <th>rating</th>\n",
       "      <th>size</th>\n",
       "      <th>fitting</th>\n",
       "    </tr>\n",
       "  </thead>\n",
       "  <tbody>\n",
       "    <tr>\n",
       "      <th>3</th>\n",
       "      <td>34</td>\n",
       "      <td>135</td>\n",
       "      <td>165.10</td>\n",
       "      <td>8.0</td>\n",
       "      <td>2</td>\n",
       "      <td>0</td>\n",
       "    </tr>\n",
       "    <tr>\n",
       "      <th>5</th>\n",
       "      <td>45</td>\n",
       "      <td>138</td>\n",
       "      <td>172.72</td>\n",
       "      <td>8.0</td>\n",
       "      <td>2</td>\n",
       "      <td>0</td>\n",
       "    </tr>\n",
       "    <tr>\n",
       "      <th>6</th>\n",
       "      <td>27</td>\n",
       "      <td>112</td>\n",
       "      <td>160.02</td>\n",
       "      <td>10.0</td>\n",
       "      <td>1</td>\n",
       "      <td>0</td>\n",
       "    </tr>\n",
       "    <tr>\n",
       "      <th>7</th>\n",
       "      <td>65</td>\n",
       "      <td>118</td>\n",
       "      <td>160.02</td>\n",
       "      <td>10.0</td>\n",
       "      <td>2</td>\n",
       "      <td>0</td>\n",
       "    </tr>\n",
       "    <tr>\n",
       "      <th>10</th>\n",
       "      <td>33</td>\n",
       "      <td>135</td>\n",
       "      <td>160.02</td>\n",
       "      <td>8.0</td>\n",
       "      <td>2</td>\n",
       "      <td>1</td>\n",
       "    </tr>\n",
       "  </tbody>\n",
       "</table>\n",
       "</div>"
      ],
      "text/plain": [
       "    age  weight  height_cm  rating  size  fitting\n",
       "3    34     135     165.10     8.0     2        0\n",
       "5    45     138     172.72     8.0     2        0\n",
       "6    27     112     160.02    10.0     1        0\n",
       "7    65     118     160.02    10.0     2        0\n",
       "10   33     135     160.02     8.0     2        1"
      ]
     },
     "execution_count": 613,
     "metadata": {},
     "output_type": "execute_result"
    }
   ],
   "source": [
    "clothes_df = clothes_df[['age', 'weight', 'height_cm', 'rating', 'size', 'fitting']]\n",
    "clothes_df['size'] = round(clothes_df['size']).astype(int)\n",
    "clothes_df.head()"
   ]
  },
  {
   "cell_type": "code",
   "execution_count": 614,
   "metadata": {},
   "outputs": [],
   "source": [
    "from sklearn.model_selection import train_test_split, cross_val_score\n",
    "\n",
    "\n",
    "X = clothes_df.drop(columns='fitting', axis=1)\n",
    "y = clothes_df['fitting']\n",
    "\n",
    "\n",
    "X_train, X_test, y_train, y_test = train_test_split(X, y, \n",
    "                                                    test_size = 0.2)"
   ]
  },
  {
   "cell_type": "code",
   "execution_count": 615,
   "metadata": {},
   "outputs": [
    {
     "data": {
      "text/plain": [
       "0.7181051836940111"
      ]
     },
     "execution_count": 615,
     "metadata": {},
     "output_type": "execute_result"
    }
   ],
   "source": [
    "from sklearn.dummy import DummyClassifier\n",
    "\n",
    "dummy = DummyClassifier(strategy = 'most_frequent')\n",
    "dummy.fit(X_train, y_train)\n",
    "dummy.score(X_test, y_test)"
   ]
  },
  {
   "cell_type": "code",
   "execution_count": 616,
   "metadata": {},
   "outputs": [
    {
     "name": "stdout",
     "output_type": "stream",
     "text": [
      "Accuracy scores for the 5 folds:  [0.72784462 0.72617175 0.72625039 0.7239698  0.7266436 ]\n",
      "Mean cross validation score: 0.726\n"
     ]
    }
   ],
   "source": [
    "from sklearn.linear_model import LogisticRegression\n",
    "\n",
    "\n",
    "lr_clf = LogisticRegression(solver='lbfgs', penalty='l2', C=6, max_iter=1000)\n",
    "lr_cv_scores = cross_val_score(lr_clf, X_train, y_train, cv=5)\n",
    "\n",
    "print('Accuracy scores for the 5 folds: ', lr_cv_scores)\n",
    "print('Mean cross validation score: {:.3f}'.format(np.mean(lr_cv_scores)))"
   ]
  },
  {
   "cell_type": "code",
   "execution_count": 617,
   "metadata": {},
   "outputs": [
    {
     "name": "stdout",
     "output_type": "stream",
     "text": [
      "0.7262546987307529\n",
      "0.7287367891293407\n"
     ]
    }
   ],
   "source": [
    "lr_clf.fit(X_train, y_train)\n",
    "\n",
    "print(lr_clf.score(X_train, y_train))\n",
    "print(lr_clf.score(X_test, y_test))"
   ]
  },
  {
   "cell_type": "markdown",
   "metadata": {},
   "source": [
    "# Metrics"
   ]
  },
  {
   "cell_type": "code",
   "execution_count": 619,
   "metadata": {},
   "outputs": [],
   "source": [
    "#imports\n",
    "\n",
    "from sklearn.metrics import confusion_matrix\n",
    "from sklearn.metrics import accuracy_score, precision_score, recall_score, f1_score, fbeta_score, classification_report"
   ]
  },
  {
   "cell_type": "code",
   "execution_count": 620,
   "metadata": {},
   "outputs": [
    {
     "name": "stdout",
     "output_type": "stream",
     "text": [
      "[[10908   507]\n",
      " [ 3805   676]]\n"
     ]
    }
   ],
   "source": [
    "predictions = lr_clf.predict(X_test)\n",
    "\n",
    "confusion = confusion_matrix(y_test, predictions, labels=[0,1])\n",
    "print(confusion)"
   ]
  },
  {
   "cell_type": "code",
   "execution_count": 621,
   "metadata": {},
   "outputs": [],
   "source": [
    "def plot_confusion_matrix(cm,\n",
    "                          target_names,\n",
    "                          title='Confusion matrix',\n",
    "                          cmap=None,\n",
    "                          normalize=True):\n",
    "    \"\"\"\n",
    "    Given a scikit-learn confusion matrix (CM), make a nice plot.\n",
    "\n",
    "    Arguments\n",
    "    ---------\n",
    "    cm:           Confusion matrix from sklearn.metrics.confusion_matrix\n",
    "\n",
    "    target_names: Given classification classes, such as [0, 1, 2]\n",
    "                  The class names, for example, ['high', 'medium', 'low']\n",
    "\n",
    "    title:        The text to display at the top of the matrix\n",
    "\n",
    "    cmap:         The gradient of the values displayed from matplotlib.pyplot.cm\n",
    "                  See http://matplotlib.org/examples/color/colormaps_reference.html\n",
    "                  `plt.get_cmap('jet')` or `plt.cm.Blues`\n",
    "\n",
    "    normalize:    If `False`, plot the raw numbers\n",
    "                  If `True`, plot the proportions\n",
    "\n",
    "    Usage\n",
    "    -----\n",
    "    plot_confusion_matrix(cm           = cm,                  # Confusion matrix created by\n",
    "                                                              # `sklearn.metrics.confusion_matrix`\n",
    "                          normalize    = True,                # Show proportions\n",
    "                          target_names = y_labels_vals,       # List of names of the classes\n",
    "                          title        = best_estimator_name) # Title of graph\n",
    "\n",
    "    Citation\n",
    "    ---------\n",
    "    http://scikit-learn.org/stable/auto_examples/model_selection/plot_confusion_matrix.html\n",
    "\n",
    "    \"\"\"\n",
    "    import matplotlib.pyplot as plt\n",
    "    import numpy as np\n",
    "    import itertools\n",
    "\n",
    "    accuracy = np.trace(cm) / float(np.sum(cm))\n",
    "    misclass = 1 - accuracy\n",
    "\n",
    "    if cmap is None:\n",
    "        cmap = plt.get_cmap('Blues')\n",
    "\n",
    "    plt.figure(figsize=(8, 6))\n",
    "    plt.imshow(cm, interpolation='nearest', cmap=cmap)\n",
    "    plt.title(title)\n",
    "    plt.colorbar()\n",
    "\n",
    "    if target_names is not None:\n",
    "        tick_marks = np.arange(len(target_names))\n",
    "        plt.xticks(tick_marks, target_names, rotation=45)\n",
    "        plt.yticks(tick_marks, target_names)\n",
    "\n",
    "    if normalize:\n",
    "        cm = cm.astype('float') / cm.sum(axis=1)[:, np.newaxis]\n",
    "\n",
    "\n",
    "    thresh = cm.max() / 1.5 if normalize else cm.max() / 2\n",
    "    for i, j in itertools.product(range(cm.shape[0]), range(cm.shape[1])):\n",
    "        if normalize:\n",
    "            plt.text(j, i, \"{:0.4f}\".format(cm[i, j]),\n",
    "                     horizontalalignment=\"center\",\n",
    "                     color=\"white\" if cm[i, j] > thresh else \"black\")\n",
    "        else:\n",
    "            plt.text(j, i, \"{:,}\".format(cm[i, j]),\n",
    "                     horizontalalignment=\"center\",\n",
    "                     color=\"white\" if cm[i, j] > thresh else \"black\")\n",
    "\n",
    "\n",
    "    plt.tight_layout()\n",
    "    plt.ylabel('True label')\n",
    "    plt.xlabel('Predicted label\\naccuracy={:0.4f}; misclass={:0.4f}'.format(accuracy, misclass))\n",
    "    plt.show()"
   ]
  },
  {
   "cell_type": "code",
   "execution_count": 622,
   "metadata": {},
   "outputs": [
    {
     "data": {
      "image/png": "[encoded data removed]",
      "text/plain": [
       "<Figure size 576x432 with 2 Axes>"
      ]
     },
     "metadata": {
      "needs_background": "light"
     },
     "output_type": "display_data"
    }
   ],
   "source": [
    "plot_confusion_matrix(cm=confusion, target_names = ['fit', 'Not fit'], title = 'Confusion Matrix',normalize=False)\n"
   ]
  },
  {
   "cell_type": "code",
   "execution_count": 624,
   "metadata": {},
   "outputs": [
    {
     "name": "stdout",
     "output_type": "stream",
     "text": [
      "              precision    recall  f1-score   support\n",
      "\n",
      "         fit       0.74      0.96      0.83     11415\n",
      "     not fit       0.57      0.15      0.24      4481\n",
      "\n",
      "    accuracy                           0.73     15896\n",
      "   macro avg       0.66      0.55      0.54     15896\n",
      "weighted avg       0.69      0.73      0.67     15896\n",
      "\n"
     ]
    }
   ],
   "source": [
    "report = classification_report(y_test, predictions, target_names=['fit', 'not fit'])\n",
    "print(report)"
   ]
  },
  {
   "cell_type": "code",
   "execution_count": 625,
   "metadata": {},
   "outputs": [
    {
     "name": "stdout",
     "output_type": "stream",
     "text": [
      "[0.21472013 0.69329796 0.20572568 0.21746595 0.20941409 0.19775931\n",
      " 0.21079137 0.21781035 0.48446845 0.21946889 0.22115497 0.22578803\n",
      " 0.37364648 0.62928326 0.36315942 0.22369356 0.22214828 0.23584618\n",
      " 0.3337074  0.51583448 0.35977299 0.19263549 0.34224954 0.20229237\n",
      " 0.35500881 0.3643603  0.34877629 0.22295295 0.21531227]\n"
     ]
    }
   ],
   "source": [
    "probs = lr_clf.predict_proba(X_test)[:, 1]\n",
    "print(probs[1:30])"
   ]
  },
  {
   "cell_type": "code",
   "execution_count": 626,
   "metadata": {},
   "outputs": [],
   "source": [
    "fpr, tpr, thresholds = roc_curve(y_test, probs)"
   ]
  },
  {
   "cell_type": "code",
   "execution_count": 627,
   "metadata": {},
   "outputs": [
    {
     "data": {
      "image/png": "[encoded data removed]",
      "text/plain": [
       "<Figure size 432x432 with 1 Axes>"
      ]
     },
     "metadata": {
      "needs_background": "light"
     },
     "output_type": "display_data"
    }
   ],
   "source": [
    "fig = plt.figure(figsize = (6, 6))\n",
    "plt.plot([0, 1], [0, 1], 'k--')\n",
    "plt.plot(fpr, tpr)\n",
    "plt.fill(fpr, tpr, 'grey', alpha=0.3)\n",
    "plt.xlabel('False Positive Rate')\n",
    "plt.ylabel('True Positive Rate')\n",
    "plt.title('ROC curve for Logistic Regression Model')\n",
    "plt.show()"
   ]
  },
  {
   "cell_type": "code",
   "execution_count": 628,
   "metadata": {},
   "outputs": [
    {
     "name": "stdout",
     "output_type": "stream",
     "text": [
      "Area under the ROC curve: 0.632\n"
     ]
    }
   ],
   "source": [
    "auc = roc_auc_score(y_test, probs)\n",
    "print('Area under the ROC curve: {:.3f}'.format(auc))"
   ]
  },
  {
   "cell_type": "code",
   "execution_count": 629,
   "metadata": {},
   "outputs": [
    {
     "name": "stdout",
     "output_type": "stream",
     "text": [
      "Optimization terminated successfully.\n",
      "         Current function value: 0.570092\n",
      "         Iterations 5\n",
      "                           Logit Regression Results                           \n",
      "==============================================================================\n",
      "Dep. Variable:                fitting   No. Observations:                63581\n",
      "Model:                          Logit   Df Residuals:                    63575\n",
      "Method:                           MLE   Df Model:                            5\n",
      "Date:                Fri, 19 Feb 2021   Pseudo R-squ.:                 0.04546\n",
      "Time:                        22:29:31   Log-Likelihood:                -36247.\n",
      "converged:                       True   LL-Null:                       -37973.\n",
      "Covariance Type:            nonrobust   LLR p-value:                     0.000\n",
      "==============================================================================\n",
      "                 coef    std err          z      P>|z|      [0.025      0.975]\n",
      "------------------------------------------------------------------------------\n",
      "const          3.2318      0.237     13.637      0.000       2.767       3.696\n",
      "age           -0.0078      0.001     -6.424      0.000      -0.010      -0.005\n",
      "weight      7.547e-05      0.001      0.140      0.889      -0.001       0.001\n",
      "height_cm     -0.0053      0.001     -3.729      0.000      -0.008      -0.003\n",
      "rating        -0.3440      0.006    -56.614      0.000      -0.356      -0.332\n",
      "size           0.0237      0.012      1.984      0.047       0.000       0.047\n",
      "==============================================================================\n"
     ]
    }
   ],
   "source": [
    "X_train_const = sm.add_constant(X_train)\n",
    "\n",
    "sm_model = sm.Logit(y_train, X_train_const).fit()\n",
    "print(sm_model.summary())"
   ]
  },
  {
   "cell_type": "markdown",
   "metadata": {},
   "source": [
    "## Random Forest"
   ]
  },
  {
   "cell_type": "code",
   "execution_count": 637,
   "metadata": {},
   "outputs": [
    {
     "name": "stdout",
     "output_type": "stream",
     "text": [
      "[0.72792325 0.72656496 0.72687952 0.72302611 0.72593583]\n",
      "Accuracy scores for the 5 folds:  [0.72792325 0.72656496 0.72687952 0.72302611 0.72593583]\n",
      "Mean cross validation score: 0.726\n",
      "0.7298691494715652\n",
      "0.7298691494715652\n"
     ]
    }
   ],
   "source": [
    "from sklearn.ensemble import RandomForestClassifier\n",
    "\n",
    "rf_clf = RandomForestClassifier(criterion='gini', n_estimators=100, max_depth=8, random_state=21)\n",
    "rf_clf.fit(X_train, y_train)\n",
    "\n",
    "rf_cv_scores = cross_val_score(rf_clf, X_train, y_train, cv=5)\n",
    "print(rf_cv_scores)\n",
    "\n",
    "print('Accuracy scores for the 5 folds: ', rf_cv_scores)\n",
    "print('Mean cross validation score: {:.3f}'.format(np.mean(rf_cv_scores)))\n",
    "print(rf_clf.score(X_test, y_test))\n",
    "print(rf_clf.score(X_test, y_test))"
   ]
  },
  {
   "cell_type": "code",
   "execution_count": 631,
   "metadata": {},
   "outputs": [
    {
     "name": "stdout",
     "output_type": "stream",
     "text": [
      "[[10958   457]\n",
      " [ 3837   644]]\n",
      "              precision    recall  f1-score   support\n",
      "\n",
      "           0       0.74      0.96      0.84     11415\n",
      "           1       0.58      0.14      0.23      4481\n",
      "\n",
      "    accuracy                           0.73     15896\n",
      "   macro avg       0.66      0.55      0.53     15896\n",
      "weighted avg       0.70      0.73      0.67     15896\n",
      "\n"
     ]
    }
   ],
   "source": [
    "from sklearn.metrics import confusion_matrix\n",
    "predictions = rf_clf.predict(X_test)\n",
    "\n",
    "confusion = confusion_matrix(y_test, predictions)\n",
    "print(confusion)\n",
    "\n",
    "report = classification_report(y_test, predictions)\n",
    "print(report)"
   ]
  },
  {
   "cell_type": "markdown",
   "metadata": {},
   "source": [
    "## KNN"
   ]
  },
  {
   "cell_type": "code",
   "execution_count": 634,
   "metadata": {},
   "outputs": [
    {
     "data": {
      "text/plain": [
       "KNeighborsClassifier(n_neighbors=13)"
      ]
     },
     "execution_count": 634,
     "metadata": {},
     "output_type": "execute_result"
    }
   ],
   "source": [
    "from sklearn.neighbors import KNeighborsClassifier\n",
    "\n",
    "\n",
    "\n",
    "from sklearn.preprocessing import StandardScaler\n",
    "X = StandardScaler().fit_transform(X)\n",
    "\n",
    "# Build the model\n",
    "knn = KNeighborsClassifier(n_neighbors=13)\n",
    "knn_cv_scores = cross_val_score(knn, X_train, y_train, cv=5)\n",
    "\n",
    "knn.fit(X_train, y_train)"
   ]
  },
  {
   "cell_type": "code",
   "execution_count": 635,
   "metadata": {},
   "outputs": [
    {
     "name": "stdout",
     "output_type": "stream",
     "text": [
      "0.7394819206995801\n",
      "0.7135128334172118\n"
     ]
    }
   ],
   "source": [
    "print(knn.score(X_train, y_train))\n",
    "print(knn.score(X_test, y_test))"
   ]
  },
  {
   "cell_type": "code",
   "execution_count": 636,
   "metadata": {},
   "outputs": [
    {
     "name": "stdout",
     "output_type": "stream",
     "text": [
      "[[10723   692]\n",
      " [ 3862   619]]\n",
      "              precision    recall  f1-score   support\n",
      "\n",
      "           0       0.74      0.94      0.82     11415\n",
      "           1       0.47      0.14      0.21      4481\n",
      "\n",
      "    accuracy                           0.71     15896\n",
      "   macro avg       0.60      0.54      0.52     15896\n",
      "weighted avg       0.66      0.71      0.65     15896\n",
      "\n"
     ]
    }
   ],
   "source": [
    "from sklearn.metrics import confusion_matrix\n",
    "predictions = knn.predict(X_test)\n",
    "\n",
    "confusion = confusion_matrix(y_test, predictions)\n",
    "print(confusion)\n",
    "\n",
    "report = classification_report(y_test, predictions)\n",
    "print(report)"
   ]
  },
  {
   "cell_type": "code",
   "execution_count": null,
   "metadata": {},
   "outputs": [],
   "source": []
  }
 ],
 "metadata": {
  "kernelspec": {
   "display_name": "Python 3",
   "language": "python",
   "name": "python3"
  },
  "language_info": {
   "codemirror_mode": {
    "name": "ipython",
    "version": 3
   },
   "file_extension": ".py",
   "mimetype": "text/x-python",
   "name": "python",
   "nbconvert_exporter": "python",
   "pygments_lexer": "ipython3",
   "version": "3.8.5"
  }
 },
 "nbformat": 4,
 "nbformat_minor": 4
}
